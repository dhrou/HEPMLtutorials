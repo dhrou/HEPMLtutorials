{
  "cells": [
    {
      "cell_type": "markdown",
      "metadata": {
        "id": "ZT7AoY8sKwp1"
      },
      "source": [
        "# Hands on:introduction to BDT on HEP dataset"
      ]
    },
    {
      "cell_type": "markdown",
      "metadata": {
        "id": "eT7-MMpfrlHR"
      },
      "source": [
        "## Standard Imports"
      ]
    },
    {
      "cell_type": "code",
      "execution_count": 1,
      "metadata": {
        "id": "QdmaHjz-xCm-"
      },
      "outputs": [],
      "source": [
        "COLAB=True #if running on https://colab.research.google.com/notebooks/welcome.ipynb\n",
        "#COLAB=False #if running on local anaconda installation https://docs.anaconda.com/anaconda/install/"
      ]
    },
    {
      "cell_type": "code",
      "execution_count": 2,
      "metadata": {
        "id": "xy-_72FJKwp6"
      },
      "outputs": [],
      "source": [
        "import os\n",
        "import numpy as np\n",
        "import pandas as pd\n",
        "import matplotlib.pyplot as plt\n",
        "#from IPython import display USEFUL ???\n",
        "from IPython.display import display, HTML\n",
        "%matplotlib inline\n",
        "import time\n",
        "pd.set_option('display.max_columns', 100) # to see more columns of df.head()\n",
        "np.random.seed(31415) # set the np random seed for the reproducibility\n",
        "#from IPython.core.interactiveshell import InteractiveShell\n",
        "#InteractiveShell.ast_node_interactivity = \"all\" # instead of \"last_expr\", allow all cell output to appear \n"
      ]
    },
    {
      "cell_type": "code",
      "execution_count": 3,
      "metadata": {
        "colab": {
          "base_uri": "https://localhost:8080/"
        },
        "id": "oF367-yfKwp9",
        "outputId": "9d1c1e61-83c7-4ec5-dd41-bc099c72cdb2"
      },
      "outputs": [
        {
          "output_type": "stream",
          "name": "stdout",
          "text": [
            "Looking in indexes: https://pypi.org/simple, https://us-python.pkg.dev/colab-wheels/public/simple/\n",
            "Requirement already satisfied: xgboost in /usr/local/lib/python3.7/dist-packages (0.90)\n",
            "Collecting xgboost\n",
            "  Downloading xgboost-1.6.1-py3-none-manylinux2014_x86_64.whl (192.9 MB)\n",
            "\u001b[K     |████████████████████████████████| 192.9 MB 57 kB/s \n",
            "\u001b[?25hRequirement already satisfied: scipy in /usr/local/lib/python3.7/dist-packages (from xgboost) (1.4.1)\n",
            "Requirement already satisfied: numpy in /usr/local/lib/python3.7/dist-packages (from xgboost) (1.21.6)\n",
            "Installing collected packages: xgboost\n",
            "  Attempting uninstall: xgboost\n",
            "    Found existing installation: xgboost 0.90\n",
            "    Uninstalling xgboost-0.90:\n",
            "      Successfully uninstalled xgboost-0.90\n",
            "Successfully installed xgboost-1.6.1\n",
            "1.6.1\n",
            "2.2.3\n",
            "1.0.2\n"
          ]
        }
      ],
      "source": [
        "# Fix environment if necessary\n",
        "\n",
        "if COLAB:\n",
        "    !pip install xgboost --upgrade #  Colab has 0.9.0, not good enough\n",
        "    pass\n",
        "else:    \n",
        "    # install xgboost and lighgbm, two popular Boosted Decision Tree packages\n",
        "    # the following need to be done only once. To be commented out later\n",
        "    !pip install xgboost    \n",
        "    !pip install lightgbm \n",
        "    pass\n",
        "\n",
        "import xgboost\n",
        "print (xgboost.__version__) # Tested with 1.6.1, version above 1 is recommended.  \n",
        "import lightgbm\n",
        "print (lightgbm.__version__) # Tested with 2.2.3\n",
        "import sklearn\n",
        "print (sklearn.__version__) # Tested with 1.0.2\n",
        "\n",
        "\n"
      ]
    },
    {
      "cell_type": "code",
      "execution_count": 4,
      "metadata": {
        "colab": {
          "base_uri": "https://localhost:8080/"
        },
        "id": "IsChk6u-r7fk",
        "outputId": "651b905e-a461-46d0-ed72-b431cfc58794",
        "scrolled": true
      },
      "outputs": [
        {
          "output_type": "stream",
          "name": "stdout",
          "text": [
            "Looking in indexes: https://pypi.org/simple, https://us-python.pkg.dev/colab-wheels/public/simple/\n",
            "Requirement already satisfied: PyDrive in /usr/local/lib/python3.7/dist-packages (1.3.1)\n",
            "Requirement already satisfied: oauth2client>=4.0.0 in /usr/local/lib/python3.7/dist-packages (from PyDrive) (4.1.3)\n",
            "Requirement already satisfied: PyYAML>=3.0 in /usr/local/lib/python3.7/dist-packages (from PyDrive) (3.13)\n",
            "Requirement already satisfied: google-api-python-client>=1.2 in /usr/local/lib/python3.7/dist-packages (from PyDrive) (1.12.11)\n",
            "Requirement already satisfied: google-api-core<3dev,>=1.21.0 in /usr/local/lib/python3.7/dist-packages (from google-api-python-client>=1.2->PyDrive) (1.31.5)\n",
            "Requirement already satisfied: httplib2<1dev,>=0.15.0 in /usr/local/lib/python3.7/dist-packages (from google-api-python-client>=1.2->PyDrive) (0.17.4)\n",
            "Requirement already satisfied: uritemplate<4dev,>=3.0.0 in /usr/local/lib/python3.7/dist-packages (from google-api-python-client>=1.2->PyDrive) (3.0.1)\n",
            "Requirement already satisfied: google-auth-httplib2>=0.0.3 in /usr/local/lib/python3.7/dist-packages (from google-api-python-client>=1.2->PyDrive) (0.0.4)\n",
            "Requirement already satisfied: google-auth<3dev,>=1.16.0 in /usr/local/lib/python3.7/dist-packages (from google-api-python-client>=1.2->PyDrive) (1.35.0)\n",
            "Requirement already satisfied: six<2dev,>=1.13.0 in /usr/local/lib/python3.7/dist-packages (from google-api-python-client>=1.2->PyDrive) (1.15.0)\n",
            "Requirement already satisfied: protobuf>=3.12.0 in /usr/local/lib/python3.7/dist-packages (from google-api-core<3dev,>=1.21.0->google-api-python-client>=1.2->PyDrive) (3.17.3)\n",
            "Requirement already satisfied: googleapis-common-protos<2.0dev,>=1.6.0 in /usr/local/lib/python3.7/dist-packages (from google-api-core<3dev,>=1.21.0->google-api-python-client>=1.2->PyDrive) (1.56.1)\n",
            "Requirement already satisfied: setuptools>=40.3.0 in /usr/local/lib/python3.7/dist-packages (from google-api-core<3dev,>=1.21.0->google-api-python-client>=1.2->PyDrive) (57.4.0)\n",
            "Requirement already satisfied: requests<3.0.0dev,>=2.18.0 in /usr/local/lib/python3.7/dist-packages (from google-api-core<3dev,>=1.21.0->google-api-python-client>=1.2->PyDrive) (2.23.0)\n",
            "Requirement already satisfied: pytz in /usr/local/lib/python3.7/dist-packages (from google-api-core<3dev,>=1.21.0->google-api-python-client>=1.2->PyDrive) (2022.1)\n",
            "Requirement already satisfied: packaging>=14.3 in /usr/local/lib/python3.7/dist-packages (from google-api-core<3dev,>=1.21.0->google-api-python-client>=1.2->PyDrive) (21.3)\n",
            "Requirement already satisfied: cachetools<5.0,>=2.0.0 in /usr/local/lib/python3.7/dist-packages (from google-auth<3dev,>=1.16.0->google-api-python-client>=1.2->PyDrive) (4.2.4)\n",
            "Requirement already satisfied: rsa<5,>=3.1.4 in /usr/local/lib/python3.7/dist-packages (from google-auth<3dev,>=1.16.0->google-api-python-client>=1.2->PyDrive) (4.8)\n",
            "Requirement already satisfied: pyasn1-modules>=0.2.1 in /usr/local/lib/python3.7/dist-packages (from google-auth<3dev,>=1.16.0->google-api-python-client>=1.2->PyDrive) (0.2.8)\n",
            "Requirement already satisfied: pyasn1>=0.1.7 in /usr/local/lib/python3.7/dist-packages (from oauth2client>=4.0.0->PyDrive) (0.4.8)\n",
            "Requirement already satisfied: pyparsing!=3.0.5,>=2.0.2 in /usr/local/lib/python3.7/dist-packages (from packaging>=14.3->google-api-core<3dev,>=1.21.0->google-api-python-client>=1.2->PyDrive) (3.0.9)\n",
            "Requirement already satisfied: certifi>=2017.4.17 in /usr/local/lib/python3.7/dist-packages (from requests<3.0.0dev,>=2.18.0->google-api-core<3dev,>=1.21.0->google-api-python-client>=1.2->PyDrive) (2022.5.18.1)\n",
            "Requirement already satisfied: idna<3,>=2.5 in /usr/local/lib/python3.7/dist-packages (from requests<3.0.0dev,>=2.18.0->google-api-core<3dev,>=1.21.0->google-api-python-client>=1.2->PyDrive) (2.10)\n",
            "Requirement already satisfied: chardet<4,>=3.0.2 in /usr/local/lib/python3.7/dist-packages (from requests<3.0.0dev,>=2.18.0->google-api-core<3dev,>=1.21.0->google-api-python-client>=1.2->PyDrive) (3.0.4)\n",
            "Requirement already satisfied: urllib3!=1.25.0,!=1.25.1,<1.26,>=1.21.1 in /usr/local/lib/python3.7/dist-packages (from requests<3.0.0dev,>=2.18.0->google-api-core<3dev,>=1.21.0->google-api-python-client>=1.2->PyDrive) (1.24.3)\n"
          ]
        }
      ],
      "source": [
        "if COLAB:\n",
        "    #### Reading files from Google Drive\n",
        "    # one need a google account to be identified\n",
        "    # select a google account, then cut and paste the long password in the pop up field\n",
        "    !pip install PyDrive\n",
        "    import os\n",
        "    from pydrive.auth import GoogleAuth\n",
        "    from pydrive.drive import GoogleDrive\n",
        "    from google.colab import auth\n",
        "    from oauth2client.client import GoogleCredentials\n",
        "    auth.authenticate_user()\n",
        "    gauth = GoogleAuth()\n",
        "    gauth.credentials = GoogleCredentials.get_application_default()\n",
        "    drive = GoogleDrive(gauth)"
      ]
    },
    {
      "cell_type": "markdown",
      "metadata": {
        "id": "g14yIjbPKwqC"
      },
      "source": [
        "# Load events"
      ]
    },
    {
      "cell_type": "code",
      "execution_count": 5,
      "metadata": {
        "colab": {
          "base_uri": "https://localhost:8080/"
        },
        "id": "kl-4W4Ifs8EV",
        "outputId": "fdc0b348-19f9-4796-dd62-b95321e84b2a"
      },
      "outputs": [
        {
          "output_type": "stream",
          "name": "stdout",
          "text": [
            "total 35072\n",
            "drwxr-xr-x 1 root root     4096 May 17 13:39 sample_data\n",
            "-rw-r--r-- 1 root root 35905611 May 29 07:18 dataWW_d1_600k.csv.gz\n",
            "now : 2022-05-29 07:18:28.094441\n",
            "File loaded with  600000  events \n"
          ]
        }
      ],
      "source": [
        "if COLAB:\n",
        "\n",
        "    #attach dataset from google drive \n",
        "    download = drive.CreateFile({'id': '1nlXp7P-xq_jip4aPE0j0mnPhYnIOcBv4'})\n",
        "    download.GetContentFile(\"dataWW_d1_600k.csv.gz\")\n",
        "\n",
        "\n",
        "    datapath=\"\"\n",
        "\n",
        "\n",
        "    !ls -lrt\n",
        "else :\n",
        "    # make sure the file is available locally. \n",
        "    #Should be downloaded from https://drive.google.com/open?id=1nlXp7P-xq_jip4aPE0j0mnPhYnIOcBv4\n",
        "    !ls -lrt # what is in the local directory\n",
        "    datapath=\"/Users/rousseau/Google\\ Drive/GD_openData/dataWW_ATLAS_openData13TeV_filtered/\"\n",
        "\n",
        "    !ls -lrt {datapath} # what is in the data directory\n",
        "    datapath=os.path.abspath(datapath).replace(\"\\ \", \" \")  # try to normalise the path (annoyance with the space)\n",
        "    print (\"Will take data from : \",datapath)\n",
        "\n",
        "filename=os.path.join(datapath,\"dataWW_d1_600k.csv.gz\")\n",
        "#load data\n",
        "# data was created from ATLAS Open Data see doc\n",
        "# http://opendata.atlas.cern/release/2020/documentation/datasets/intro.html\n",
        "dfall = pd.read_csv(filename) \n",
        "\n",
        "#shuffle the events, already done but just to be safe\n",
        "dfall = dfall.sample(frac=1).reset_index(drop=True)\n",
        "from datetime import datetime\n",
        "print (\"now :\",datetime.now())\n",
        "print (\"File loaded with \",dfall.shape[0], \" events \")\n",
        "\n"
      ]
    },
    {
      "cell_type": "markdown",
      "metadata": {
        "id": "Uf9Gt8g8KwqF"
      },
      "source": [
        "At this point, it should tell you \"File Loaded with XXX events\". If not, it could not access the datafile, no point going further !"
      ]
    },
    {
      "cell_type": "markdown",
      "metadata": {
        "id": "67cCYsYIKwqG"
      },
      "source": [
        "# Examine dataset"
      ]
    },
    {
      "cell_type": "code",
      "execution_count": 6,
      "metadata": {
        "colab": {
          "base_uri": "https://localhost:8080/"
        },
        "id": "sx1_PB22KwqG",
        "outputId": "2113a2f2-28c2-437d-e17b-e52563e222a5"
      },
      "outputs": [
        {
          "output_type": "execute_result",
          "data": {
            "text/plain": [
              "Index(['eventNumber', 'label', 'met_et', 'met_phi', 'lep_n', 'lep_pt_0',\n",
              "       'lep_pt_1', 'lep_eta_0', 'lep_eta_1', 'lep_phi_0', 'lep_phi_1',\n",
              "       'lep_E_0', 'lep_E_1', 'lep_charge_0', 'lep_charge_1', 'lep_type_0',\n",
              "       'lep_type_1', 'jet_n', 'jet_pt_0', 'jet_pt_1', 'jet_eta_0', 'jet_eta_1',\n",
              "       'jet_phi_0', 'jet_phi_1', 'jet_E_0', 'jet_E_1', 'mcWeight', 'runNumber',\n",
              "       'channelNumber'],\n",
              "      dtype='object')"
            ]
          },
          "metadata": {},
          "execution_count": 6
        }
      ],
      "source": [
        "#dump list of feature\n",
        "dfall.columns"
      ]
    },
    {
      "cell_type": "code",
      "execution_count": 7,
      "metadata": {
        "id": "Kl5MAys-yd0R"
      },
      "outputs": [],
      "source": [
        "dfall.mcWeight*=4 # arbitrary scale to have larger significance"
      ]
    },
    {
      "cell_type": "code",
      "execution_count": 8,
      "metadata": {
        "colab": {
          "base_uri": "https://localhost:8080/",
          "height": 460
        },
        "id": "j9l7wkkorlHe",
        "outputId": "cd9c6e9a-aa2f-4ca9-e51b-a121fe7bc990"
      },
      "outputs": [
        {
          "output_type": "display_data",
          "data": {
            "text/plain": [
              "   eventNumber  label   met_et  met_phi  lep_n  lep_pt_0  lep_pt_1  lep_eta_0  \\\n",
              "0       402756      1   25.609  0.42452      2    48.295    15.214    0.73991   \n",
              "1       101274      0  196.560  1.31140      2    69.459    21.081   -0.52666   \n",
              "2       468437      1   45.653 -2.76860      2    45.927    22.822   -1.61910   \n",
              "3       272337      1   49.415 -0.57805      2    45.929    14.263    1.55280   \n",
              "4       354546      1   71.988 -2.60390      2    62.029    21.453   -0.51082   \n",
              "\n",
              "   lep_eta_1  lep_phi_0  lep_phi_1   lep_E_0  lep_E_1  lep_charge_0  \\\n",
              "0    2.27420  -2.316400   -1.39410   62129.0  74721.0            -1   \n",
              "1    0.22380   0.023132   -0.67855   79317.0  21611.0            -1   \n",
              "2   -2.00770   1.901700   -0.11248  120480.0  86498.0            -1   \n",
              "3    0.12809   2.254700   -2.54810  113360.0  14380.0            -1   \n",
              "4   -0.38177   0.236200    1.40820   70300.0  23036.0            -1   \n",
              "\n",
              "   lep_charge_1  lep_type_0  lep_type_1  jet_n  jet_pt_0  jet_pt_1  jet_eta_0  \\\n",
              "0             1          13          11      2     26.32    20.064    -1.1350   \n",
              "1             1          13          13      2    192.12    36.217    -1.2643   \n",
              "2             1          11          11      0     -7.00    -7.000    -7.0000   \n",
              "3             1          13          13      0     -7.00    -7.000    -7.0000   \n",
              "4             1          11          13      0     -7.00    -7.000    -7.0000   \n",
              "\n",
              "   jet_eta_1  jet_phi_0  jet_phi_1   jet_E_0  jet_E_1  mcWeight  runNumber  \\\n",
              "0   -2.07540    -2.8092     2.0740   45397.0  81304.0  0.000008     284500   \n",
              "1   -0.69746    -2.2147    -1.9152  367670.0  45733.0  0.001153     284500   \n",
              "2   -7.00000    -7.0000    -7.0000      -7.0     -7.0  0.000116     284500   \n",
              "3   -7.00000    -7.0000    -7.0000      -7.0     -7.0  0.000116     284500   \n",
              "4   -7.00000    -7.0000    -7.0000      -7.0     -7.0  0.000008     284500   \n",
              "\n",
              "   channelNumber  \n",
              "0         345323  \n",
              "1         363492  \n",
              "2         345324  \n",
              "3         345324  \n",
              "4         345323  "
            ],
            "text/html": [
              "\n",
              "  <div id=\"df-1602dc4e-6a2d-4975-bf58-935a3c856597\">\n",
              "    <div class=\"colab-df-container\">\n",
              "      <div>\n",
              "<style scoped>\n",
              "    .dataframe tbody tr th:only-of-type {\n",
              "        vertical-align: middle;\n",
              "    }\n",
              "\n",
              "    .dataframe tbody tr th {\n",
              "        vertical-align: top;\n",
              "    }\n",
              "\n",
              "    .dataframe thead th {\n",
              "        text-align: right;\n",
              "    }\n",
              "</style>\n",
              "<table border=\"1\" class=\"dataframe\">\n",
              "  <thead>\n",
              "    <tr style=\"text-align: right;\">\n",
              "      <th></th>\n",
              "      <th>eventNumber</th>\n",
              "      <th>label</th>\n",
              "      <th>met_et</th>\n",
              "      <th>met_phi</th>\n",
              "      <th>lep_n</th>\n",
              "      <th>lep_pt_0</th>\n",
              "      <th>lep_pt_1</th>\n",
              "      <th>lep_eta_0</th>\n",
              "      <th>lep_eta_1</th>\n",
              "      <th>lep_phi_0</th>\n",
              "      <th>lep_phi_1</th>\n",
              "      <th>lep_E_0</th>\n",
              "      <th>lep_E_1</th>\n",
              "      <th>lep_charge_0</th>\n",
              "      <th>lep_charge_1</th>\n",
              "      <th>lep_type_0</th>\n",
              "      <th>lep_type_1</th>\n",
              "      <th>jet_n</th>\n",
              "      <th>jet_pt_0</th>\n",
              "      <th>jet_pt_1</th>\n",
              "      <th>jet_eta_0</th>\n",
              "      <th>jet_eta_1</th>\n",
              "      <th>jet_phi_0</th>\n",
              "      <th>jet_phi_1</th>\n",
              "      <th>jet_E_0</th>\n",
              "      <th>jet_E_1</th>\n",
              "      <th>mcWeight</th>\n",
              "      <th>runNumber</th>\n",
              "      <th>channelNumber</th>\n",
              "    </tr>\n",
              "  </thead>\n",
              "  <tbody>\n",
              "    <tr>\n",
              "      <th>0</th>\n",
              "      <td>402756</td>\n",
              "      <td>1</td>\n",
              "      <td>25.609</td>\n",
              "      <td>0.42452</td>\n",
              "      <td>2</td>\n",
              "      <td>48.295</td>\n",
              "      <td>15.214</td>\n",
              "      <td>0.73991</td>\n",
              "      <td>2.27420</td>\n",
              "      <td>-2.316400</td>\n",
              "      <td>-1.39410</td>\n",
              "      <td>62129.0</td>\n",
              "      <td>74721.0</td>\n",
              "      <td>-1</td>\n",
              "      <td>1</td>\n",
              "      <td>13</td>\n",
              "      <td>11</td>\n",
              "      <td>2</td>\n",
              "      <td>26.32</td>\n",
              "      <td>20.064</td>\n",
              "      <td>-1.1350</td>\n",
              "      <td>-2.07540</td>\n",
              "      <td>-2.8092</td>\n",
              "      <td>2.0740</td>\n",
              "      <td>45397.0</td>\n",
              "      <td>81304.0</td>\n",
              "      <td>0.000008</td>\n",
              "      <td>284500</td>\n",
              "      <td>345323</td>\n",
              "    </tr>\n",
              "    <tr>\n",
              "      <th>1</th>\n",
              "      <td>101274</td>\n",
              "      <td>0</td>\n",
              "      <td>196.560</td>\n",
              "      <td>1.31140</td>\n",
              "      <td>2</td>\n",
              "      <td>69.459</td>\n",
              "      <td>21.081</td>\n",
              "      <td>-0.52666</td>\n",
              "      <td>0.22380</td>\n",
              "      <td>0.023132</td>\n",
              "      <td>-0.67855</td>\n",
              "      <td>79317.0</td>\n",
              "      <td>21611.0</td>\n",
              "      <td>-1</td>\n",
              "      <td>1</td>\n",
              "      <td>13</td>\n",
              "      <td>13</td>\n",
              "      <td>2</td>\n",
              "      <td>192.12</td>\n",
              "      <td>36.217</td>\n",
              "      <td>-1.2643</td>\n",
              "      <td>-0.69746</td>\n",
              "      <td>-2.2147</td>\n",
              "      <td>-1.9152</td>\n",
              "      <td>367670.0</td>\n",
              "      <td>45733.0</td>\n",
              "      <td>0.001153</td>\n",
              "      <td>284500</td>\n",
              "      <td>363492</td>\n",
              "    </tr>\n",
              "    <tr>\n",
              "      <th>2</th>\n",
              "      <td>468437</td>\n",
              "      <td>1</td>\n",
              "      <td>45.653</td>\n",
              "      <td>-2.76860</td>\n",
              "      <td>2</td>\n",
              "      <td>45.927</td>\n",
              "      <td>22.822</td>\n",
              "      <td>-1.61910</td>\n",
              "      <td>-2.00770</td>\n",
              "      <td>1.901700</td>\n",
              "      <td>-0.11248</td>\n",
              "      <td>120480.0</td>\n",
              "      <td>86498.0</td>\n",
              "      <td>-1</td>\n",
              "      <td>1</td>\n",
              "      <td>11</td>\n",
              "      <td>11</td>\n",
              "      <td>0</td>\n",
              "      <td>-7.00</td>\n",
              "      <td>-7.000</td>\n",
              "      <td>-7.0000</td>\n",
              "      <td>-7.00000</td>\n",
              "      <td>-7.0000</td>\n",
              "      <td>-7.0000</td>\n",
              "      <td>-7.0</td>\n",
              "      <td>-7.0</td>\n",
              "      <td>0.000116</td>\n",
              "      <td>284500</td>\n",
              "      <td>345324</td>\n",
              "    </tr>\n",
              "    <tr>\n",
              "      <th>3</th>\n",
              "      <td>272337</td>\n",
              "      <td>1</td>\n",
              "      <td>49.415</td>\n",
              "      <td>-0.57805</td>\n",
              "      <td>2</td>\n",
              "      <td>45.929</td>\n",
              "      <td>14.263</td>\n",
              "      <td>1.55280</td>\n",
              "      <td>0.12809</td>\n",
              "      <td>2.254700</td>\n",
              "      <td>-2.54810</td>\n",
              "      <td>113360.0</td>\n",
              "      <td>14380.0</td>\n",
              "      <td>-1</td>\n",
              "      <td>1</td>\n",
              "      <td>13</td>\n",
              "      <td>13</td>\n",
              "      <td>0</td>\n",
              "      <td>-7.00</td>\n",
              "      <td>-7.000</td>\n",
              "      <td>-7.0000</td>\n",
              "      <td>-7.00000</td>\n",
              "      <td>-7.0000</td>\n",
              "      <td>-7.0000</td>\n",
              "      <td>-7.0</td>\n",
              "      <td>-7.0</td>\n",
              "      <td>0.000116</td>\n",
              "      <td>284500</td>\n",
              "      <td>345324</td>\n",
              "    </tr>\n",
              "    <tr>\n",
              "      <th>4</th>\n",
              "      <td>354546</td>\n",
              "      <td>1</td>\n",
              "      <td>71.988</td>\n",
              "      <td>-2.60390</td>\n",
              "      <td>2</td>\n",
              "      <td>62.029</td>\n",
              "      <td>21.453</td>\n",
              "      <td>-0.51082</td>\n",
              "      <td>-0.38177</td>\n",
              "      <td>0.236200</td>\n",
              "      <td>1.40820</td>\n",
              "      <td>70300.0</td>\n",
              "      <td>23036.0</td>\n",
              "      <td>-1</td>\n",
              "      <td>1</td>\n",
              "      <td>11</td>\n",
              "      <td>13</td>\n",
              "      <td>0</td>\n",
              "      <td>-7.00</td>\n",
              "      <td>-7.000</td>\n",
              "      <td>-7.0000</td>\n",
              "      <td>-7.00000</td>\n",
              "      <td>-7.0000</td>\n",
              "      <td>-7.0000</td>\n",
              "      <td>-7.0</td>\n",
              "      <td>-7.0</td>\n",
              "      <td>0.000008</td>\n",
              "      <td>284500</td>\n",
              "      <td>345323</td>\n",
              "    </tr>\n",
              "  </tbody>\n",
              "</table>\n",
              "</div>\n",
              "      <button class=\"colab-df-convert\" onclick=\"convertToInteractive('df-1602dc4e-6a2d-4975-bf58-935a3c856597')\"\n",
              "              title=\"Convert this dataframe to an interactive table.\"\n",
              "              style=\"display:none;\">\n",
              "        \n",
              "  <svg xmlns=\"http://www.w3.org/2000/svg\" height=\"24px\"viewBox=\"0 0 24 24\"\n",
              "       width=\"24px\">\n",
              "    <path d=\"M0 0h24v24H0V0z\" fill=\"none\"/>\n",
              "    <path d=\"M18.56 5.44l.94 2.06.94-2.06 2.06-.94-2.06-.94-.94-2.06-.94 2.06-2.06.94zm-11 1L8.5 8.5l.94-2.06 2.06-.94-2.06-.94L8.5 2.5l-.94 2.06-2.06.94zm10 10l.94 2.06.94-2.06 2.06-.94-2.06-.94-.94-2.06-.94 2.06-2.06.94z\"/><path d=\"M17.41 7.96l-1.37-1.37c-.4-.4-.92-.59-1.43-.59-.52 0-1.04.2-1.43.59L10.3 9.45l-7.72 7.72c-.78.78-.78 2.05 0 2.83L4 21.41c.39.39.9.59 1.41.59.51 0 1.02-.2 1.41-.59l7.78-7.78 2.81-2.81c.8-.78.8-2.07 0-2.86zM5.41 20L4 18.59l7.72-7.72 1.47 1.35L5.41 20z\"/>\n",
              "  </svg>\n",
              "      </button>\n",
              "      \n",
              "  <style>\n",
              "    .colab-df-container {\n",
              "      display:flex;\n",
              "      flex-wrap:wrap;\n",
              "      gap: 12px;\n",
              "    }\n",
              "\n",
              "    .colab-df-convert {\n",
              "      background-color: #E8F0FE;\n",
              "      border: none;\n",
              "      border-radius: 50%;\n",
              "      cursor: pointer;\n",
              "      display: none;\n",
              "      fill: #1967D2;\n",
              "      height: 32px;\n",
              "      padding: 0 0 0 0;\n",
              "      width: 32px;\n",
              "    }\n",
              "\n",
              "    .colab-df-convert:hover {\n",
              "      background-color: #E2EBFA;\n",
              "      box-shadow: 0px 1px 2px rgba(60, 64, 67, 0.3), 0px 1px 3px 1px rgba(60, 64, 67, 0.15);\n",
              "      fill: #174EA6;\n",
              "    }\n",
              "\n",
              "    [theme=dark] .colab-df-convert {\n",
              "      background-color: #3B4455;\n",
              "      fill: #D2E3FC;\n",
              "    }\n",
              "\n",
              "    [theme=dark] .colab-df-convert:hover {\n",
              "      background-color: #434B5C;\n",
              "      box-shadow: 0px 1px 3px 1px rgba(0, 0, 0, 0.15);\n",
              "      filter: drop-shadow(0px 1px 2px rgba(0, 0, 0, 0.3));\n",
              "      fill: #FFFFFF;\n",
              "    }\n",
              "  </style>\n",
              "\n",
              "      <script>\n",
              "        const buttonEl =\n",
              "          document.querySelector('#df-1602dc4e-6a2d-4975-bf58-935a3c856597 button.colab-df-convert');\n",
              "        buttonEl.style.display =\n",
              "          google.colab.kernel.accessAllowed ? 'block' : 'none';\n",
              "\n",
              "        async function convertToInteractive(key) {\n",
              "          const element = document.querySelector('#df-1602dc4e-6a2d-4975-bf58-935a3c856597');\n",
              "          const dataTable =\n",
              "            await google.colab.kernel.invokeFunction('convertToInteractive',\n",
              "                                                     [key], {});\n",
              "          if (!dataTable) return;\n",
              "\n",
              "          const docLinkHtml = 'Like what you see? Visit the ' +\n",
              "            '<a target=\"_blank\" href=https://colab.research.google.com/notebooks/data_table.ipynb>data table notebook</a>'\n",
              "            + ' to learn more about interactive tables.';\n",
              "          element.innerHTML = '';\n",
              "          dataTable['output_type'] = 'display_data';\n",
              "          await google.colab.output.renderOutput(dataTable, element);\n",
              "          const docLink = document.createElement('div');\n",
              "          docLink.innerHTML = docLinkHtml;\n",
              "          element.appendChild(docLink);\n",
              "        }\n",
              "      </script>\n",
              "    </div>\n",
              "  </div>\n",
              "  "
            ]
          },
          "metadata": {}
        },
        {
          "output_type": "display_data",
          "data": {
            "text/plain": [
              "   eventNumber  label   met_et  met_phi  lep_n  lep_pt_0  lep_pt_1  lep_eta_0  \\\n",
              "0       402756      1   25.609  0.42452      2    48.295    15.214    0.73991   \n",
              "1       101274      0  196.560  1.31140      2    69.459    21.081   -0.52666   \n",
              "2       468437      1   45.653 -2.76860      2    45.927    22.822   -1.61910   \n",
              "3       272337      1   49.415 -0.57805      2    45.929    14.263    1.55280   \n",
              "4       354546      1   71.988 -2.60390      2    62.029    21.453   -0.51082   \n",
              "\n",
              "   lep_eta_1  lep_phi_0  lep_phi_1   lep_E_0  lep_E_1  lep_charge_0  \\\n",
              "0    2.27420  -2.316400   -1.39410   62129.0  74721.0            -1   \n",
              "1    0.22380   0.023132   -0.67855   79317.0  21611.0            -1   \n",
              "2   -2.00770   1.901700   -0.11248  120480.0  86498.0            -1   \n",
              "3    0.12809   2.254700   -2.54810  113360.0  14380.0            -1   \n",
              "4   -0.38177   0.236200    1.40820   70300.0  23036.0            -1   \n",
              "\n",
              "   lep_charge_1  lep_type_0  lep_type_1  jet_n  jet_pt_0  jet_pt_1  jet_eta_0  \\\n",
              "0             1          13          11      2     26.32    20.064    -1.1350   \n",
              "1             1          13          13      2    192.12    36.217    -1.2643   \n",
              "2             1          11          11      0     -7.00    -7.000    -7.0000   \n",
              "3             1          13          13      0     -7.00    -7.000    -7.0000   \n",
              "4             1          11          13      0     -7.00    -7.000    -7.0000   \n",
              "\n",
              "   jet_eta_1  jet_phi_0  jet_phi_1   jet_E_0  jet_E_1  mcWeight  runNumber  \\\n",
              "0   -2.07540    -2.8092     2.0740   45397.0  81304.0  0.000008     284500   \n",
              "1   -0.69746    -2.2147    -1.9152  367670.0  45733.0  0.001153     284500   \n",
              "2   -7.00000    -7.0000    -7.0000      -7.0     -7.0  0.000116     284500   \n",
              "3   -7.00000    -7.0000    -7.0000      -7.0     -7.0  0.000116     284500   \n",
              "4   -7.00000    -7.0000    -7.0000      -7.0     -7.0  0.000008     284500   \n",
              "\n",
              "   channelNumber  \n",
              "0         345323  \n",
              "1         363492  \n",
              "2         345324  \n",
              "3         345324  \n",
              "4         345323  "
            ],
            "text/html": [
              "\n",
              "  <div id=\"df-8ed2f531-f634-4890-b716-3570e07ff7c7\">\n",
              "    <div class=\"colab-df-container\">\n",
              "      <div>\n",
              "<style scoped>\n",
              "    .dataframe tbody tr th:only-of-type {\n",
              "        vertical-align: middle;\n",
              "    }\n",
              "\n",
              "    .dataframe tbody tr th {\n",
              "        vertical-align: top;\n",
              "    }\n",
              "\n",
              "    .dataframe thead th {\n",
              "        text-align: right;\n",
              "    }\n",
              "</style>\n",
              "<table border=\"1\" class=\"dataframe\">\n",
              "  <thead>\n",
              "    <tr style=\"text-align: right;\">\n",
              "      <th></th>\n",
              "      <th>eventNumber</th>\n",
              "      <th>label</th>\n",
              "      <th>met_et</th>\n",
              "      <th>met_phi</th>\n",
              "      <th>lep_n</th>\n",
              "      <th>lep_pt_0</th>\n",
              "      <th>lep_pt_1</th>\n",
              "      <th>lep_eta_0</th>\n",
              "      <th>lep_eta_1</th>\n",
              "      <th>lep_phi_0</th>\n",
              "      <th>lep_phi_1</th>\n",
              "      <th>lep_E_0</th>\n",
              "      <th>lep_E_1</th>\n",
              "      <th>lep_charge_0</th>\n",
              "      <th>lep_charge_1</th>\n",
              "      <th>lep_type_0</th>\n",
              "      <th>lep_type_1</th>\n",
              "      <th>jet_n</th>\n",
              "      <th>jet_pt_0</th>\n",
              "      <th>jet_pt_1</th>\n",
              "      <th>jet_eta_0</th>\n",
              "      <th>jet_eta_1</th>\n",
              "      <th>jet_phi_0</th>\n",
              "      <th>jet_phi_1</th>\n",
              "      <th>jet_E_0</th>\n",
              "      <th>jet_E_1</th>\n",
              "      <th>mcWeight</th>\n",
              "      <th>runNumber</th>\n",
              "      <th>channelNumber</th>\n",
              "    </tr>\n",
              "  </thead>\n",
              "  <tbody>\n",
              "    <tr>\n",
              "      <th>0</th>\n",
              "      <td>402756</td>\n",
              "      <td>1</td>\n",
              "      <td>25.609</td>\n",
              "      <td>0.42452</td>\n",
              "      <td>2</td>\n",
              "      <td>48.295</td>\n",
              "      <td>15.214</td>\n",
              "      <td>0.73991</td>\n",
              "      <td>2.27420</td>\n",
              "      <td>-2.316400</td>\n",
              "      <td>-1.39410</td>\n",
              "      <td>62129.0</td>\n",
              "      <td>74721.0</td>\n",
              "      <td>-1</td>\n",
              "      <td>1</td>\n",
              "      <td>13</td>\n",
              "      <td>11</td>\n",
              "      <td>2</td>\n",
              "      <td>26.32</td>\n",
              "      <td>20.064</td>\n",
              "      <td>-1.1350</td>\n",
              "      <td>-2.07540</td>\n",
              "      <td>-2.8092</td>\n",
              "      <td>2.0740</td>\n",
              "      <td>45397.0</td>\n",
              "      <td>81304.0</td>\n",
              "      <td>0.000008</td>\n",
              "      <td>284500</td>\n",
              "      <td>345323</td>\n",
              "    </tr>\n",
              "    <tr>\n",
              "      <th>1</th>\n",
              "      <td>101274</td>\n",
              "      <td>0</td>\n",
              "      <td>196.560</td>\n",
              "      <td>1.31140</td>\n",
              "      <td>2</td>\n",
              "      <td>69.459</td>\n",
              "      <td>21.081</td>\n",
              "      <td>-0.52666</td>\n",
              "      <td>0.22380</td>\n",
              "      <td>0.023132</td>\n",
              "      <td>-0.67855</td>\n",
              "      <td>79317.0</td>\n",
              "      <td>21611.0</td>\n",
              "      <td>-1</td>\n",
              "      <td>1</td>\n",
              "      <td>13</td>\n",
              "      <td>13</td>\n",
              "      <td>2</td>\n",
              "      <td>192.12</td>\n",
              "      <td>36.217</td>\n",
              "      <td>-1.2643</td>\n",
              "      <td>-0.69746</td>\n",
              "      <td>-2.2147</td>\n",
              "      <td>-1.9152</td>\n",
              "      <td>367670.0</td>\n",
              "      <td>45733.0</td>\n",
              "      <td>0.001153</td>\n",
              "      <td>284500</td>\n",
              "      <td>363492</td>\n",
              "    </tr>\n",
              "    <tr>\n",
              "      <th>2</th>\n",
              "      <td>468437</td>\n",
              "      <td>1</td>\n",
              "      <td>45.653</td>\n",
              "      <td>-2.76860</td>\n",
              "      <td>2</td>\n",
              "      <td>45.927</td>\n",
              "      <td>22.822</td>\n",
              "      <td>-1.61910</td>\n",
              "      <td>-2.00770</td>\n",
              "      <td>1.901700</td>\n",
              "      <td>-0.11248</td>\n",
              "      <td>120480.0</td>\n",
              "      <td>86498.0</td>\n",
              "      <td>-1</td>\n",
              "      <td>1</td>\n",
              "      <td>11</td>\n",
              "      <td>11</td>\n",
              "      <td>0</td>\n",
              "      <td>-7.00</td>\n",
              "      <td>-7.000</td>\n",
              "      <td>-7.0000</td>\n",
              "      <td>-7.00000</td>\n",
              "      <td>-7.0000</td>\n",
              "      <td>-7.0000</td>\n",
              "      <td>-7.0</td>\n",
              "      <td>-7.0</td>\n",
              "      <td>0.000116</td>\n",
              "      <td>284500</td>\n",
              "      <td>345324</td>\n",
              "    </tr>\n",
              "    <tr>\n",
              "      <th>3</th>\n",
              "      <td>272337</td>\n",
              "      <td>1</td>\n",
              "      <td>49.415</td>\n",
              "      <td>-0.57805</td>\n",
              "      <td>2</td>\n",
              "      <td>45.929</td>\n",
              "      <td>14.263</td>\n",
              "      <td>1.55280</td>\n",
              "      <td>0.12809</td>\n",
              "      <td>2.254700</td>\n",
              "      <td>-2.54810</td>\n",
              "      <td>113360.0</td>\n",
              "      <td>14380.0</td>\n",
              "      <td>-1</td>\n",
              "      <td>1</td>\n",
              "      <td>13</td>\n",
              "      <td>13</td>\n",
              "      <td>0</td>\n",
              "      <td>-7.00</td>\n",
              "      <td>-7.000</td>\n",
              "      <td>-7.0000</td>\n",
              "      <td>-7.00000</td>\n",
              "      <td>-7.0000</td>\n",
              "      <td>-7.0000</td>\n",
              "      <td>-7.0</td>\n",
              "      <td>-7.0</td>\n",
              "      <td>0.000116</td>\n",
              "      <td>284500</td>\n",
              "      <td>345324</td>\n",
              "    </tr>\n",
              "    <tr>\n",
              "      <th>4</th>\n",
              "      <td>354546</td>\n",
              "      <td>1</td>\n",
              "      <td>71.988</td>\n",
              "      <td>-2.60390</td>\n",
              "      <td>2</td>\n",
              "      <td>62.029</td>\n",
              "      <td>21.453</td>\n",
              "      <td>-0.51082</td>\n",
              "      <td>-0.38177</td>\n",
              "      <td>0.236200</td>\n",
              "      <td>1.40820</td>\n",
              "      <td>70300.0</td>\n",
              "      <td>23036.0</td>\n",
              "      <td>-1</td>\n",
              "      <td>1</td>\n",
              "      <td>11</td>\n",
              "      <td>13</td>\n",
              "      <td>0</td>\n",
              "      <td>-7.00</td>\n",
              "      <td>-7.000</td>\n",
              "      <td>-7.0000</td>\n",
              "      <td>-7.00000</td>\n",
              "      <td>-7.0000</td>\n",
              "      <td>-7.0000</td>\n",
              "      <td>-7.0</td>\n",
              "      <td>-7.0</td>\n",
              "      <td>0.000008</td>\n",
              "      <td>284500</td>\n",
              "      <td>345323</td>\n",
              "    </tr>\n",
              "  </tbody>\n",
              "</table>\n",
              "</div>\n",
              "      <button class=\"colab-df-convert\" onclick=\"convertToInteractive('df-8ed2f531-f634-4890-b716-3570e07ff7c7')\"\n",
              "              title=\"Convert this dataframe to an interactive table.\"\n",
              "              style=\"display:none;\">\n",
              "        \n",
              "  <svg xmlns=\"http://www.w3.org/2000/svg\" height=\"24px\"viewBox=\"0 0 24 24\"\n",
              "       width=\"24px\">\n",
              "    <path d=\"M0 0h24v24H0V0z\" fill=\"none\"/>\n",
              "    <path d=\"M18.56 5.44l.94 2.06.94-2.06 2.06-.94-2.06-.94-.94-2.06-.94 2.06-2.06.94zm-11 1L8.5 8.5l.94-2.06 2.06-.94-2.06-.94L8.5 2.5l-.94 2.06-2.06.94zm10 10l.94 2.06.94-2.06 2.06-.94-2.06-.94-.94-2.06-.94 2.06-2.06.94z\"/><path d=\"M17.41 7.96l-1.37-1.37c-.4-.4-.92-.59-1.43-.59-.52 0-1.04.2-1.43.59L10.3 9.45l-7.72 7.72c-.78.78-.78 2.05 0 2.83L4 21.41c.39.39.9.59 1.41.59.51 0 1.02-.2 1.41-.59l7.78-7.78 2.81-2.81c.8-.78.8-2.07 0-2.86zM5.41 20L4 18.59l7.72-7.72 1.47 1.35L5.41 20z\"/>\n",
              "  </svg>\n",
              "      </button>\n",
              "      \n",
              "  <style>\n",
              "    .colab-df-container {\n",
              "      display:flex;\n",
              "      flex-wrap:wrap;\n",
              "      gap: 12px;\n",
              "    }\n",
              "\n",
              "    .colab-df-convert {\n",
              "      background-color: #E8F0FE;\n",
              "      border: none;\n",
              "      border-radius: 50%;\n",
              "      cursor: pointer;\n",
              "      display: none;\n",
              "      fill: #1967D2;\n",
              "      height: 32px;\n",
              "      padding: 0 0 0 0;\n",
              "      width: 32px;\n",
              "    }\n",
              "\n",
              "    .colab-df-convert:hover {\n",
              "      background-color: #E2EBFA;\n",
              "      box-shadow: 0px 1px 2px rgba(60, 64, 67, 0.3), 0px 1px 3px 1px rgba(60, 64, 67, 0.15);\n",
              "      fill: #174EA6;\n",
              "    }\n",
              "\n",
              "    [theme=dark] .colab-df-convert {\n",
              "      background-color: #3B4455;\n",
              "      fill: #D2E3FC;\n",
              "    }\n",
              "\n",
              "    [theme=dark] .colab-df-convert:hover {\n",
              "      background-color: #434B5C;\n",
              "      box-shadow: 0px 1px 3px 1px rgba(0, 0, 0, 0.15);\n",
              "      filter: drop-shadow(0px 1px 2px rgba(0, 0, 0, 0.3));\n",
              "      fill: #FFFFFF;\n",
              "    }\n",
              "  </style>\n",
              "\n",
              "      <script>\n",
              "        const buttonEl =\n",
              "          document.querySelector('#df-8ed2f531-f634-4890-b716-3570e07ff7c7 button.colab-df-convert');\n",
              "        buttonEl.style.display =\n",
              "          google.colab.kernel.accessAllowed ? 'block' : 'none';\n",
              "\n",
              "        async function convertToInteractive(key) {\n",
              "          const element = document.querySelector('#df-8ed2f531-f634-4890-b716-3570e07ff7c7');\n",
              "          const dataTable =\n",
              "            await google.colab.kernel.invokeFunction('convertToInteractive',\n",
              "                                                     [key], {});\n",
              "          if (!dataTable) return;\n",
              "\n",
              "          const docLinkHtml = 'Like what you see? Visit the ' +\n",
              "            '<a target=\"_blank\" href=https://colab.research.google.com/notebooks/data_table.ipynb>data table notebook</a>'\n",
              "            + ' to learn more about interactive tables.';\n",
              "          element.innerHTML = '';\n",
              "          dataTable['output_type'] = 'display_data';\n",
              "          await google.colab.output.renderOutput(dataTable, element);\n",
              "          const docLink = document.createElement('div');\n",
              "          docLink.innerHTML = docLinkHtml;\n",
              "          element.appendChild(docLink);\n",
              "        }\n",
              "      </script>\n",
              "    </div>\n",
              "  </div>\n",
              "  "
            ]
          },
          "metadata": {}
        }
      ],
      "source": [
        "#examine first few events\n",
        "display(dfall.head())\n",
        "display(dfall.head())\n",
        "\n"
      ]
    },
    {
      "cell_type": "code",
      "execution_count": 9,
      "metadata": {
        "colab": {
          "base_uri": "https://localhost:8080/",
          "height": 364
        },
        "id": "Oz-lWJhgrlHg",
        "outputId": "cd638631-5a63-4ee3-a3d8-e92b1b18b809"
      },
      "outputs": [
        {
          "output_type": "execute_result",
          "data": {
            "text/plain": [
              "        eventNumber          label         met_et        met_phi  \\\n",
              "count  6.000000e+05  600000.000000  600000.000000  600000.000000   \n",
              "mean   7.029775e+05       0.666667      60.365356      -0.008556   \n",
              "std    4.568961e+05       0.471405      48.153210       1.812778   \n",
              "min    1.000000e+00       0.000000       0.044211      -3.141600   \n",
              "25%    3.498568e+05       0.000000      33.196000      -1.577600   \n",
              "50%    6.678815e+05       1.000000      50.082000      -0.018694   \n",
              "75%    1.001273e+06       1.000000      73.032250       1.559300   \n",
              "max    1.997995e+06       1.000000    7062.200000       3.141600   \n",
              "\n",
              "               lep_n       lep_pt_0       lep_pt_1      lep_eta_0  \\\n",
              "count  600000.000000  600000.000000  600000.000000  600000.000000   \n",
              "mean        2.005748      60.270328      28.133970       0.000269   \n",
              "std         0.076061      42.676858      20.352272       1.210614   \n",
              "min         2.000000      25.000000       7.000300      -2.700000   \n",
              "25%         2.000000      36.624750      15.316000      -0.899650   \n",
              "50%         2.000000      48.229500      23.644000       0.003413   \n",
              "75%         2.000000      68.979000      34.149000       0.901950   \n",
              "max         5.000000    7041.400000     744.900000       2.699800   \n",
              "\n",
              "           lep_eta_1      lep_phi_0      lep_phi_1       lep_E_0  \\\n",
              "count  600000.000000  600000.000000  600000.000000  6.000000e+05   \n",
              "mean       -0.000664       0.005219       0.008524  1.164008e+05   \n",
              "std         1.235890       1.811177       1.814205  1.083341e+05   \n",
              "min        -2.699900      -3.141600      -3.141600  2.501300e+04   \n",
              "25%        -0.946043      -1.560200      -1.562900  5.221675e+04   \n",
              "50%         0.002974       0.014583       0.018823  8.184450e+04   \n",
              "75%         0.942210       1.573000       1.577300  1.412400e+05   \n",
              "max         2.700000       3.141500       3.141600  7.041600e+06   \n",
              "\n",
              "            lep_E_1   lep_charge_0   lep_charge_1     lep_type_0  \\\n",
              "count  6.000000e+05  600000.000000  600000.000000  600000.000000   \n",
              "mean   5.630948e+04      -0.027027       0.027037      11.907273   \n",
              "std    5.748834e+04       0.999636       0.999635       0.995692   \n",
              "min    7.003800e+03      -1.000000      -1.000000      11.000000   \n",
              "25%    2.329100e+04      -1.000000      -1.000000      11.000000   \n",
              "50%    3.824900e+04      -1.000000       1.000000      11.000000   \n",
              "75%    6.730825e+04       1.000000       1.000000      13.000000   \n",
              "max    2.107900e+06       1.000000       1.000000      13.000000   \n",
              "\n",
              "          lep_type_1          jet_n       jet_pt_0       jet_pt_1  \\\n",
              "count  600000.000000  600000.000000  600000.000000  600000.000000   \n",
              "mean       11.958010       1.334185      59.606114      13.521164   \n",
              "std         0.999119       1.232632      79.586143      38.074439   \n",
              "min        11.000000       0.000000      -7.000000      -7.000000   \n",
              "25%        11.000000       0.000000      -7.000000      -7.000000   \n",
              "50%        11.000000       1.000000      38.744000      -7.000000   \n",
              "75%        13.000000       2.000000      84.291250      26.881000   \n",
              "max        13.000000      13.000000    1658.200000    1429.800000   \n",
              "\n",
              "           jet_eta_0      jet_eta_1      jet_phi_0      jet_phi_1  \\\n",
              "count  600000.000000  600000.000000  600000.000000  600000.000000   \n",
              "mean       -1.934521      -4.402337      -1.939645      -4.401941   \n",
              "std         3.349404       3.491304       3.489197       3.559421   \n",
              "min        -7.000000      -7.000000      -7.000000      -7.000000   \n",
              "25%        -7.000000      -7.000000      -7.000000      -7.000000   \n",
              "50%        -0.891010      -7.000000      -1.210600      -7.000000   \n",
              "75%         0.724705      -0.821005       0.967753      -1.088575   \n",
              "max         2.500000       2.500000       3.141600       3.141600   \n",
              "\n",
              "            jet_E_0       jet_E_1       mcWeight  runNumber  channelNumber  \n",
              "count  6.000000e+05  6.000000e+05  600000.000000   600000.0  600000.000000  \n",
              "mean   1.375410e+05  4.125468e+04       0.000872   284500.0  351379.666667  \n",
              "std    1.980717e+05  8.990068e+04       0.002944        0.0    8564.720183  \n",
              "min   -7.000000e+00 -7.000000e+00      -0.182228   284500.0  345323.000000  \n",
              "25%   -7.000000e+00 -7.000000e+00       0.000008   284500.0  345323.000000  \n",
              "50%    7.501700e+04 -7.000000e+00       0.000116   284500.0  345324.000000  \n",
              "75%    1.766200e+05  5.060500e+04       0.000786   284500.0  363492.000000  \n",
              "max    5.638800e+06  2.784300e+06       0.209680   284500.0  363492.000000  "
            ],
            "text/html": [
              "\n",
              "  <div id=\"df-4fd6cf46-9979-40ba-b416-a08c85cacd05\">\n",
              "    <div class=\"colab-df-container\">\n",
              "      <div>\n",
              "<style scoped>\n",
              "    .dataframe tbody tr th:only-of-type {\n",
              "        vertical-align: middle;\n",
              "    }\n",
              "\n",
              "    .dataframe tbody tr th {\n",
              "        vertical-align: top;\n",
              "    }\n",
              "\n",
              "    .dataframe thead th {\n",
              "        text-align: right;\n",
              "    }\n",
              "</style>\n",
              "<table border=\"1\" class=\"dataframe\">\n",
              "  <thead>\n",
              "    <tr style=\"text-align: right;\">\n",
              "      <th></th>\n",
              "      <th>eventNumber</th>\n",
              "      <th>label</th>\n",
              "      <th>met_et</th>\n",
              "      <th>met_phi</th>\n",
              "      <th>lep_n</th>\n",
              "      <th>lep_pt_0</th>\n",
              "      <th>lep_pt_1</th>\n",
              "      <th>lep_eta_0</th>\n",
              "      <th>lep_eta_1</th>\n",
              "      <th>lep_phi_0</th>\n",
              "      <th>lep_phi_1</th>\n",
              "      <th>lep_E_0</th>\n",
              "      <th>lep_E_1</th>\n",
              "      <th>lep_charge_0</th>\n",
              "      <th>lep_charge_1</th>\n",
              "      <th>lep_type_0</th>\n",
              "      <th>lep_type_1</th>\n",
              "      <th>jet_n</th>\n",
              "      <th>jet_pt_0</th>\n",
              "      <th>jet_pt_1</th>\n",
              "      <th>jet_eta_0</th>\n",
              "      <th>jet_eta_1</th>\n",
              "      <th>jet_phi_0</th>\n",
              "      <th>jet_phi_1</th>\n",
              "      <th>jet_E_0</th>\n",
              "      <th>jet_E_1</th>\n",
              "      <th>mcWeight</th>\n",
              "      <th>runNumber</th>\n",
              "      <th>channelNumber</th>\n",
              "    </tr>\n",
              "  </thead>\n",
              "  <tbody>\n",
              "    <tr>\n",
              "      <th>count</th>\n",
              "      <td>6.000000e+05</td>\n",
              "      <td>600000.000000</td>\n",
              "      <td>600000.000000</td>\n",
              "      <td>600000.000000</td>\n",
              "      <td>600000.000000</td>\n",
              "      <td>600000.000000</td>\n",
              "      <td>600000.000000</td>\n",
              "      <td>600000.000000</td>\n",
              "      <td>600000.000000</td>\n",
              "      <td>600000.000000</td>\n",
              "      <td>600000.000000</td>\n",
              "      <td>6.000000e+05</td>\n",
              "      <td>6.000000e+05</td>\n",
              "      <td>600000.000000</td>\n",
              "      <td>600000.000000</td>\n",
              "      <td>600000.000000</td>\n",
              "      <td>600000.000000</td>\n",
              "      <td>600000.000000</td>\n",
              "      <td>600000.000000</td>\n",
              "      <td>600000.000000</td>\n",
              "      <td>600000.000000</td>\n",
              "      <td>600000.000000</td>\n",
              "      <td>600000.000000</td>\n",
              "      <td>600000.000000</td>\n",
              "      <td>6.000000e+05</td>\n",
              "      <td>6.000000e+05</td>\n",
              "      <td>600000.000000</td>\n",
              "      <td>600000.0</td>\n",
              "      <td>600000.000000</td>\n",
              "    </tr>\n",
              "    <tr>\n",
              "      <th>mean</th>\n",
              "      <td>7.029775e+05</td>\n",
              "      <td>0.666667</td>\n",
              "      <td>60.365356</td>\n",
              "      <td>-0.008556</td>\n",
              "      <td>2.005748</td>\n",
              "      <td>60.270328</td>\n",
              "      <td>28.133970</td>\n",
              "      <td>0.000269</td>\n",
              "      <td>-0.000664</td>\n",
              "      <td>0.005219</td>\n",
              "      <td>0.008524</td>\n",
              "      <td>1.164008e+05</td>\n",
              "      <td>5.630948e+04</td>\n",
              "      <td>-0.027027</td>\n",
              "      <td>0.027037</td>\n",
              "      <td>11.907273</td>\n",
              "      <td>11.958010</td>\n",
              "      <td>1.334185</td>\n",
              "      <td>59.606114</td>\n",
              "      <td>13.521164</td>\n",
              "      <td>-1.934521</td>\n",
              "      <td>-4.402337</td>\n",
              "      <td>-1.939645</td>\n",
              "      <td>-4.401941</td>\n",
              "      <td>1.375410e+05</td>\n",
              "      <td>4.125468e+04</td>\n",
              "      <td>0.000872</td>\n",
              "      <td>284500.0</td>\n",
              "      <td>351379.666667</td>\n",
              "    </tr>\n",
              "    <tr>\n",
              "      <th>std</th>\n",
              "      <td>4.568961e+05</td>\n",
              "      <td>0.471405</td>\n",
              "      <td>48.153210</td>\n",
              "      <td>1.812778</td>\n",
              "      <td>0.076061</td>\n",
              "      <td>42.676858</td>\n",
              "      <td>20.352272</td>\n",
              "      <td>1.210614</td>\n",
              "      <td>1.235890</td>\n",
              "      <td>1.811177</td>\n",
              "      <td>1.814205</td>\n",
              "      <td>1.083341e+05</td>\n",
              "      <td>5.748834e+04</td>\n",
              "      <td>0.999636</td>\n",
              "      <td>0.999635</td>\n",
              "      <td>0.995692</td>\n",
              "      <td>0.999119</td>\n",
              "      <td>1.232632</td>\n",
              "      <td>79.586143</td>\n",
              "      <td>38.074439</td>\n",
              "      <td>3.349404</td>\n",
              "      <td>3.491304</td>\n",
              "      <td>3.489197</td>\n",
              "      <td>3.559421</td>\n",
              "      <td>1.980717e+05</td>\n",
              "      <td>8.990068e+04</td>\n",
              "      <td>0.002944</td>\n",
              "      <td>0.0</td>\n",
              "      <td>8564.720183</td>\n",
              "    </tr>\n",
              "    <tr>\n",
              "      <th>min</th>\n",
              "      <td>1.000000e+00</td>\n",
              "      <td>0.000000</td>\n",
              "      <td>0.044211</td>\n",
              "      <td>-3.141600</td>\n",
              "      <td>2.000000</td>\n",
              "      <td>25.000000</td>\n",
              "      <td>7.000300</td>\n",
              "      <td>-2.700000</td>\n",
              "      <td>-2.699900</td>\n",
              "      <td>-3.141600</td>\n",
              "      <td>-3.141600</td>\n",
              "      <td>2.501300e+04</td>\n",
              "      <td>7.003800e+03</td>\n",
              "      <td>-1.000000</td>\n",
              "      <td>-1.000000</td>\n",
              "      <td>11.000000</td>\n",
              "      <td>11.000000</td>\n",
              "      <td>0.000000</td>\n",
              "      <td>-7.000000</td>\n",
              "      <td>-7.000000</td>\n",
              "      <td>-7.000000</td>\n",
              "      <td>-7.000000</td>\n",
              "      <td>-7.000000</td>\n",
              "      <td>-7.000000</td>\n",
              "      <td>-7.000000e+00</td>\n",
              "      <td>-7.000000e+00</td>\n",
              "      <td>-0.182228</td>\n",
              "      <td>284500.0</td>\n",
              "      <td>345323.000000</td>\n",
              "    </tr>\n",
              "    <tr>\n",
              "      <th>25%</th>\n",
              "      <td>3.498568e+05</td>\n",
              "      <td>0.000000</td>\n",
              "      <td>33.196000</td>\n",
              "      <td>-1.577600</td>\n",
              "      <td>2.000000</td>\n",
              "      <td>36.624750</td>\n",
              "      <td>15.316000</td>\n",
              "      <td>-0.899650</td>\n",
              "      <td>-0.946043</td>\n",
              "      <td>-1.560200</td>\n",
              "      <td>-1.562900</td>\n",
              "      <td>5.221675e+04</td>\n",
              "      <td>2.329100e+04</td>\n",
              "      <td>-1.000000</td>\n",
              "      <td>-1.000000</td>\n",
              "      <td>11.000000</td>\n",
              "      <td>11.000000</td>\n",
              "      <td>0.000000</td>\n",
              "      <td>-7.000000</td>\n",
              "      <td>-7.000000</td>\n",
              "      <td>-7.000000</td>\n",
              "      <td>-7.000000</td>\n",
              "      <td>-7.000000</td>\n",
              "      <td>-7.000000</td>\n",
              "      <td>-7.000000e+00</td>\n",
              "      <td>-7.000000e+00</td>\n",
              "      <td>0.000008</td>\n",
              "      <td>284500.0</td>\n",
              "      <td>345323.000000</td>\n",
              "    </tr>\n",
              "    <tr>\n",
              "      <th>50%</th>\n",
              "      <td>6.678815e+05</td>\n",
              "      <td>1.000000</td>\n",
              "      <td>50.082000</td>\n",
              "      <td>-0.018694</td>\n",
              "      <td>2.000000</td>\n",
              "      <td>48.229500</td>\n",
              "      <td>23.644000</td>\n",
              "      <td>0.003413</td>\n",
              "      <td>0.002974</td>\n",
              "      <td>0.014583</td>\n",
              "      <td>0.018823</td>\n",
              "      <td>8.184450e+04</td>\n",
              "      <td>3.824900e+04</td>\n",
              "      <td>-1.000000</td>\n",
              "      <td>1.000000</td>\n",
              "      <td>11.000000</td>\n",
              "      <td>11.000000</td>\n",
              "      <td>1.000000</td>\n",
              "      <td>38.744000</td>\n",
              "      <td>-7.000000</td>\n",
              "      <td>-0.891010</td>\n",
              "      <td>-7.000000</td>\n",
              "      <td>-1.210600</td>\n",
              "      <td>-7.000000</td>\n",
              "      <td>7.501700e+04</td>\n",
              "      <td>-7.000000e+00</td>\n",
              "      <td>0.000116</td>\n",
              "      <td>284500.0</td>\n",
              "      <td>345324.000000</td>\n",
              "    </tr>\n",
              "    <tr>\n",
              "      <th>75%</th>\n",
              "      <td>1.001273e+06</td>\n",
              "      <td>1.000000</td>\n",
              "      <td>73.032250</td>\n",
              "      <td>1.559300</td>\n",
              "      <td>2.000000</td>\n",
              "      <td>68.979000</td>\n",
              "      <td>34.149000</td>\n",
              "      <td>0.901950</td>\n",
              "      <td>0.942210</td>\n",
              "      <td>1.573000</td>\n",
              "      <td>1.577300</td>\n",
              "      <td>1.412400e+05</td>\n",
              "      <td>6.730825e+04</td>\n",
              "      <td>1.000000</td>\n",
              "      <td>1.000000</td>\n",
              "      <td>13.000000</td>\n",
              "      <td>13.000000</td>\n",
              "      <td>2.000000</td>\n",
              "      <td>84.291250</td>\n",
              "      <td>26.881000</td>\n",
              "      <td>0.724705</td>\n",
              "      <td>-0.821005</td>\n",
              "      <td>0.967753</td>\n",
              "      <td>-1.088575</td>\n",
              "      <td>1.766200e+05</td>\n",
              "      <td>5.060500e+04</td>\n",
              "      <td>0.000786</td>\n",
              "      <td>284500.0</td>\n",
              "      <td>363492.000000</td>\n",
              "    </tr>\n",
              "    <tr>\n",
              "      <th>max</th>\n",
              "      <td>1.997995e+06</td>\n",
              "      <td>1.000000</td>\n",
              "      <td>7062.200000</td>\n",
              "      <td>3.141600</td>\n",
              "      <td>5.000000</td>\n",
              "      <td>7041.400000</td>\n",
              "      <td>744.900000</td>\n",
              "      <td>2.699800</td>\n",
              "      <td>2.700000</td>\n",
              "      <td>3.141500</td>\n",
              "      <td>3.141600</td>\n",
              "      <td>7.041600e+06</td>\n",
              "      <td>2.107900e+06</td>\n",
              "      <td>1.000000</td>\n",
              "      <td>1.000000</td>\n",
              "      <td>13.000000</td>\n",
              "      <td>13.000000</td>\n",
              "      <td>13.000000</td>\n",
              "      <td>1658.200000</td>\n",
              "      <td>1429.800000</td>\n",
              "      <td>2.500000</td>\n",
              "      <td>2.500000</td>\n",
              "      <td>3.141600</td>\n",
              "      <td>3.141600</td>\n",
              "      <td>5.638800e+06</td>\n",
              "      <td>2.784300e+06</td>\n",
              "      <td>0.209680</td>\n",
              "      <td>284500.0</td>\n",
              "      <td>363492.000000</td>\n",
              "    </tr>\n",
              "  </tbody>\n",
              "</table>\n",
              "</div>\n",
              "      <button class=\"colab-df-convert\" onclick=\"convertToInteractive('df-4fd6cf46-9979-40ba-b416-a08c85cacd05')\"\n",
              "              title=\"Convert this dataframe to an interactive table.\"\n",
              "              style=\"display:none;\">\n",
              "        \n",
              "  <svg xmlns=\"http://www.w3.org/2000/svg\" height=\"24px\"viewBox=\"0 0 24 24\"\n",
              "       width=\"24px\">\n",
              "    <path d=\"M0 0h24v24H0V0z\" fill=\"none\"/>\n",
              "    <path d=\"M18.56 5.44l.94 2.06.94-2.06 2.06-.94-2.06-.94-.94-2.06-.94 2.06-2.06.94zm-11 1L8.5 8.5l.94-2.06 2.06-.94-2.06-.94L8.5 2.5l-.94 2.06-2.06.94zm10 10l.94 2.06.94-2.06 2.06-.94-2.06-.94-.94-2.06-.94 2.06-2.06.94z\"/><path d=\"M17.41 7.96l-1.37-1.37c-.4-.4-.92-.59-1.43-.59-.52 0-1.04.2-1.43.59L10.3 9.45l-7.72 7.72c-.78.78-.78 2.05 0 2.83L4 21.41c.39.39.9.59 1.41.59.51 0 1.02-.2 1.41-.59l7.78-7.78 2.81-2.81c.8-.78.8-2.07 0-2.86zM5.41 20L4 18.59l7.72-7.72 1.47 1.35L5.41 20z\"/>\n",
              "  </svg>\n",
              "      </button>\n",
              "      \n",
              "  <style>\n",
              "    .colab-df-container {\n",
              "      display:flex;\n",
              "      flex-wrap:wrap;\n",
              "      gap: 12px;\n",
              "    }\n",
              "\n",
              "    .colab-df-convert {\n",
              "      background-color: #E8F0FE;\n",
              "      border: none;\n",
              "      border-radius: 50%;\n",
              "      cursor: pointer;\n",
              "      display: none;\n",
              "      fill: #1967D2;\n",
              "      height: 32px;\n",
              "      padding: 0 0 0 0;\n",
              "      width: 32px;\n",
              "    }\n",
              "\n",
              "    .colab-df-convert:hover {\n",
              "      background-color: #E2EBFA;\n",
              "      box-shadow: 0px 1px 2px rgba(60, 64, 67, 0.3), 0px 1px 3px 1px rgba(60, 64, 67, 0.15);\n",
              "      fill: #174EA6;\n",
              "    }\n",
              "\n",
              "    [theme=dark] .colab-df-convert {\n",
              "      background-color: #3B4455;\n",
              "      fill: #D2E3FC;\n",
              "    }\n",
              "\n",
              "    [theme=dark] .colab-df-convert:hover {\n",
              "      background-color: #434B5C;\n",
              "      box-shadow: 0px 1px 3px 1px rgba(0, 0, 0, 0.15);\n",
              "      filter: drop-shadow(0px 1px 2px rgba(0, 0, 0, 0.3));\n",
              "      fill: #FFFFFF;\n",
              "    }\n",
              "  </style>\n",
              "\n",
              "      <script>\n",
              "        const buttonEl =\n",
              "          document.querySelector('#df-4fd6cf46-9979-40ba-b416-a08c85cacd05 button.colab-df-convert');\n",
              "        buttonEl.style.display =\n",
              "          google.colab.kernel.accessAllowed ? 'block' : 'none';\n",
              "\n",
              "        async function convertToInteractive(key) {\n",
              "          const element = document.querySelector('#df-4fd6cf46-9979-40ba-b416-a08c85cacd05');\n",
              "          const dataTable =\n",
              "            await google.colab.kernel.invokeFunction('convertToInteractive',\n",
              "                                                     [key], {});\n",
              "          if (!dataTable) return;\n",
              "\n",
              "          const docLinkHtml = 'Like what you see? Visit the ' +\n",
              "            '<a target=\"_blank\" href=https://colab.research.google.com/notebooks/data_table.ipynb>data table notebook</a>'\n",
              "            + ' to learn more about interactive tables.';\n",
              "          element.innerHTML = '';\n",
              "          dataTable['output_type'] = 'display_data';\n",
              "          await google.colab.output.renderOutput(dataTable, element);\n",
              "          const docLink = document.createElement('div');\n",
              "          docLink.innerHTML = docLinkHtml;\n",
              "          element.appendChild(docLink);\n",
              "        }\n",
              "      </script>\n",
              "    </div>\n",
              "  </div>\n",
              "  "
            ]
          },
          "metadata": {},
          "execution_count": 9
        }
      ],
      "source": [
        "#examine feature distribution\n",
        "dfall.describe()"
      ]
    },
    {
      "cell_type": "code",
      "execution_count": 10,
      "metadata": {
        "colab": {
          "base_uri": "https://localhost:8080/"
        },
        "id": "lQsalTmorlHj",
        "outputId": "99c7d019-8d11-41f7-da25-a1f7397a8723"
      },
      "outputs": [
        {
          "output_type": "stream",
          "name": "stdout",
          "text": [
            "total label weights  B S = (498.6491778568, 24.8002135904)\n",
            "total class number of events B S (200000, 400000)\n"
          ]
        }
      ],
      "source": [
        "label_weights = (dfall[dfall.label==0].mcWeight.sum(), dfall[dfall.label==1].mcWeight.sum() ) \n",
        "print(\"total label weights  B S =\",label_weights)\n",
        "\n",
        "\n",
        "label_nevents = (dfall[dfall.label==0].shape[0], dfall[dfall.label==1].shape[0] )\n",
        "print (\"total class number of events B S\",label_nevents)\n",
        "\n",
        "\n",
        "\n",
        "\n",
        "\n",
        "\n",
        "\n"
      ]
    },
    {
      "cell_type": "markdown",
      "metadata": {
        "id": "rtI5u5GErlHq"
      },
      "source": [
        "## Event selection"
      ]
    },
    {
      "cell_type": "code",
      "execution_count": 11,
      "metadata": {
        "colab": {
          "base_uri": "https://localhost:8080/"
        },
        "id": "kaO2JM1hrlHr",
        "outputId": "8ebaa97b-a097-4cb0-a1ad-6e4d9847b850"
      },
      "outputs": [
        {
          "output_type": "stream",
          "name": "stdout",
          "text": [
            "Df shape before selection : (600000, 29)\n",
            "Df shape after selection : (577357, 29)\n"
          ]
        }
      ],
      "source": [
        "print (\"Df shape before selection :\", dfall.shape)\n",
        "# only keep events with exactly two leptons\n",
        "# only keep events with positive weight. This is in principle wrong. Many DS tool choke on negative weight.\n",
        "fulldata=dfall[ (dfall.lep_n==2) & (dfall.mcWeight > 0)]  \n",
        "\n",
        "\n",
        "print (\"Df shape after selection :\",fulldata.shape)\n",
        "\n"
      ]
    },
    {
      "cell_type": "markdown",
      "metadata": {
        "id": "nviyIMgerlH3"
      },
      "source": [
        "\n",
        "# DO NOT MODIFY ANYTHING ABOVE\n",
        "... and always rerun from this cell whenever you change something below"
      ]
    },
    {
      "cell_type": "code",
      "execution_count": 12,
      "metadata": {
        "colab": {
          "base_uri": "https://localhost:8080/",
          "height": 432
        },
        "id": "6e0Hlpv6rlH4",
        "outputId": "387bb054-8c0c-47e2-efc0-0e4f3fefcd38",
        "scrolled": true
      },
      "outputs": [
        {
          "output_type": "stream",
          "name": "stdout",
          "text": [
            "Df shape of dataset to be used : (577357, 6)\n"
          ]
        },
        {
          "output_type": "display_data",
          "data": {
            "text/plain": [
              "    met_et  met_phi  lep_pt_0  lep_pt_1  lep_phi_0  lep_phi_1\n",
              "0   25.609  0.42452    48.295    15.214  -2.316400   -1.39410\n",
              "1  196.560  1.31140    69.459    21.081   0.023132   -0.67855\n",
              "2   45.653 -2.76860    45.927    22.822   1.901700   -0.11248\n",
              "3   49.415 -0.57805    45.929    14.263   2.254700   -2.54810\n",
              "4   71.988 -2.60390    62.029    21.453   0.236200    1.40820"
            ],
            "text/html": [
              "\n",
              "  <div id=\"df-f55031de-1628-4492-9f9b-2331cbd85340\">\n",
              "    <div class=\"colab-df-container\">\n",
              "      <div>\n",
              "<style scoped>\n",
              "    .dataframe tbody tr th:only-of-type {\n",
              "        vertical-align: middle;\n",
              "    }\n",
              "\n",
              "    .dataframe tbody tr th {\n",
              "        vertical-align: top;\n",
              "    }\n",
              "\n",
              "    .dataframe thead th {\n",
              "        text-align: right;\n",
              "    }\n",
              "</style>\n",
              "<table border=\"1\" class=\"dataframe\">\n",
              "  <thead>\n",
              "    <tr style=\"text-align: right;\">\n",
              "      <th></th>\n",
              "      <th>met_et</th>\n",
              "      <th>met_phi</th>\n",
              "      <th>lep_pt_0</th>\n",
              "      <th>lep_pt_1</th>\n",
              "      <th>lep_phi_0</th>\n",
              "      <th>lep_phi_1</th>\n",
              "    </tr>\n",
              "  </thead>\n",
              "  <tbody>\n",
              "    <tr>\n",
              "      <th>0</th>\n",
              "      <td>25.609</td>\n",
              "      <td>0.42452</td>\n",
              "      <td>48.295</td>\n",
              "      <td>15.214</td>\n",
              "      <td>-2.316400</td>\n",
              "      <td>-1.39410</td>\n",
              "    </tr>\n",
              "    <tr>\n",
              "      <th>1</th>\n",
              "      <td>196.560</td>\n",
              "      <td>1.31140</td>\n",
              "      <td>69.459</td>\n",
              "      <td>21.081</td>\n",
              "      <td>0.023132</td>\n",
              "      <td>-0.67855</td>\n",
              "    </tr>\n",
              "    <tr>\n",
              "      <th>2</th>\n",
              "      <td>45.653</td>\n",
              "      <td>-2.76860</td>\n",
              "      <td>45.927</td>\n",
              "      <td>22.822</td>\n",
              "      <td>1.901700</td>\n",
              "      <td>-0.11248</td>\n",
              "    </tr>\n",
              "    <tr>\n",
              "      <th>3</th>\n",
              "      <td>49.415</td>\n",
              "      <td>-0.57805</td>\n",
              "      <td>45.929</td>\n",
              "      <td>14.263</td>\n",
              "      <td>2.254700</td>\n",
              "      <td>-2.54810</td>\n",
              "    </tr>\n",
              "    <tr>\n",
              "      <th>4</th>\n",
              "      <td>71.988</td>\n",
              "      <td>-2.60390</td>\n",
              "      <td>62.029</td>\n",
              "      <td>21.453</td>\n",
              "      <td>0.236200</td>\n",
              "      <td>1.40820</td>\n",
              "    </tr>\n",
              "  </tbody>\n",
              "</table>\n",
              "</div>\n",
              "      <button class=\"colab-df-convert\" onclick=\"convertToInteractive('df-f55031de-1628-4492-9f9b-2331cbd85340')\"\n",
              "              title=\"Convert this dataframe to an interactive table.\"\n",
              "              style=\"display:none;\">\n",
              "        \n",
              "  <svg xmlns=\"http://www.w3.org/2000/svg\" height=\"24px\"viewBox=\"0 0 24 24\"\n",
              "       width=\"24px\">\n",
              "    <path d=\"M0 0h24v24H0V0z\" fill=\"none\"/>\n",
              "    <path d=\"M18.56 5.44l.94 2.06.94-2.06 2.06-.94-2.06-.94-.94-2.06-.94 2.06-2.06.94zm-11 1L8.5 8.5l.94-2.06 2.06-.94-2.06-.94L8.5 2.5l-.94 2.06-2.06.94zm10 10l.94 2.06.94-2.06 2.06-.94-2.06-.94-.94-2.06-.94 2.06-2.06.94z\"/><path d=\"M17.41 7.96l-1.37-1.37c-.4-.4-.92-.59-1.43-.59-.52 0-1.04.2-1.43.59L10.3 9.45l-7.72 7.72c-.78.78-.78 2.05 0 2.83L4 21.41c.39.39.9.59 1.41.59.51 0 1.02-.2 1.41-.59l7.78-7.78 2.81-2.81c.8-.78.8-2.07 0-2.86zM5.41 20L4 18.59l7.72-7.72 1.47 1.35L5.41 20z\"/>\n",
              "  </svg>\n",
              "      </button>\n",
              "      \n",
              "  <style>\n",
              "    .colab-df-container {\n",
              "      display:flex;\n",
              "      flex-wrap:wrap;\n",
              "      gap: 12px;\n",
              "    }\n",
              "\n",
              "    .colab-df-convert {\n",
              "      background-color: #E8F0FE;\n",
              "      border: none;\n",
              "      border-radius: 50%;\n",
              "      cursor: pointer;\n",
              "      display: none;\n",
              "      fill: #1967D2;\n",
              "      height: 32px;\n",
              "      padding: 0 0 0 0;\n",
              "      width: 32px;\n",
              "    }\n",
              "\n",
              "    .colab-df-convert:hover {\n",
              "      background-color: #E2EBFA;\n",
              "      box-shadow: 0px 1px 2px rgba(60, 64, 67, 0.3), 0px 1px 3px 1px rgba(60, 64, 67, 0.15);\n",
              "      fill: #174EA6;\n",
              "    }\n",
              "\n",
              "    [theme=dark] .colab-df-convert {\n",
              "      background-color: #3B4455;\n",
              "      fill: #D2E3FC;\n",
              "    }\n",
              "\n",
              "    [theme=dark] .colab-df-convert:hover {\n",
              "      background-color: #434B5C;\n",
              "      box-shadow: 0px 1px 3px 1px rgba(0, 0, 0, 0.15);\n",
              "      filter: drop-shadow(0px 1px 2px rgba(0, 0, 0, 0.3));\n",
              "      fill: #FFFFFF;\n",
              "    }\n",
              "  </style>\n",
              "\n",
              "      <script>\n",
              "        const buttonEl =\n",
              "          document.querySelector('#df-f55031de-1628-4492-9f9b-2331cbd85340 button.colab-df-convert');\n",
              "        buttonEl.style.display =\n",
              "          google.colab.kernel.accessAllowed ? 'block' : 'none';\n",
              "\n",
              "        async function convertToInteractive(key) {\n",
              "          const element = document.querySelector('#df-f55031de-1628-4492-9f9b-2331cbd85340');\n",
              "          const dataTable =\n",
              "            await google.colab.kernel.invokeFunction('convertToInteractive',\n",
              "                                                     [key], {});\n",
              "          if (!dataTable) return;\n",
              "\n",
              "          const docLinkHtml = 'Like what you see? Visit the ' +\n",
              "            '<a target=\"_blank\" href=https://colab.research.google.com/notebooks/data_table.ipynb>data table notebook</a>'\n",
              "            + ' to learn more about interactive tables.';\n",
              "          element.innerHTML = '';\n",
              "          dataTable['output_type'] = 'display_data';\n",
              "          await google.colab.output.renderOutput(dataTable, element);\n",
              "          const docLink = document.createElement('div');\n",
              "          docLink.innerHTML = docLinkHtml;\n",
              "          element.appendChild(docLink);\n",
              "        }\n",
              "      </script>\n",
              "    </div>\n",
              "  </div>\n",
              "  "
            ]
          },
          "metadata": {}
        },
        {
          "output_type": "display_data",
          "data": {
            "text/plain": [
              "0    1\n",
              "1    0\n",
              "2    1\n",
              "3    1\n",
              "4    1\n",
              "Name: label, dtype: int64"
            ]
          },
          "metadata": {}
        },
        {
          "output_type": "display_data",
          "data": {
            "text/plain": [
              "0    0.000008\n",
              "1    0.001153\n",
              "2    0.000116\n",
              "3    0.000116\n",
              "4    0.000008\n",
              "Name: mcWeight, dtype: float64"
            ]
          },
          "metadata": {}
        }
      ],
      "source": [
        "#hide label and weights in separate vectors\n",
        "#they are not real features\n",
        "\n",
        "#WARNING : there should be no selection nor shuffling later on ! (otherwise misalignement)\n",
        "target = fulldata[\"label\"]\n",
        "weights = fulldata[\"mcWeight\"]\n",
        "\n",
        "\n",
        "# for simplicity of the exercise only keep some features\n",
        "# this is actually making a deep copy from fulldata\n",
        "data=pd.DataFrame(fulldata, columns=[\"met_et\",\"met_phi\",\"lep_pt_0\",\"lep_pt_1\",'lep_phi_0', 'lep_phi_1'])\n",
        "#data=pd.DataFrame(fulldata, columns=[\"met_et\",\"met_phi\",\"lep_pt_0\",\"lep_pt_1\",'lep_eta_0', 'lep_eta_1', 'lep_phi_0', 'lep_phi_1','jet_n','jet_pt_0',\n",
        "#       'jet_pt_1', 'jet_eta_0', 'jet_eta_1', 'jet_phi_0', 'jet_phi_1']\n",
        "\n",
        "print (\"Df shape of dataset to be used :\",data.shape)\n",
        "display(data.head())\n",
        "display(target.head())\n",
        "display(weights.head())\n",
        "\n"
      ]
    },
    {
      "cell_type": "code",
      "execution_count": 13,
      "metadata": {
        "scrolled": true,
        "colab": {
          "base_uri": "https://localhost:8080/",
          "height": 299
        },
        "id": "IJAmtop6yd0a",
        "outputId": "6a1e149d-cb59-48d9-d19f-25a8efe6735f"
      },
      "outputs": [
        {
          "output_type": "execute_result",
          "data": {
            "text/plain": [
              "<matplotlib.axes._subplots.AxesSubplot at 0x7f11c0af9c10>"
            ]
          },
          "metadata": {},
          "execution_count": 13
        },
        {
          "output_type": "display_data",
          "data": {
            "text/plain": [
              "<Figure size 432x288 with 1 Axes>"
            ],
            "image/png": "[encoded data removed]"
          },
          "metadata": {
            "needs_background": "light"
          }
        }
      ],
      "source": [
        "#data[data.met_et<1000]['met_et'].plot.hist(title='Missing Transverse Energy')\n",
        "data[data.lep_pt_0+data.lep_pt_1>1000]['met_et'].plot.hist(bins=np.linspace(0,400,100),title='Missing Transverse Energy for large lepton Pt')"
      ]
    },
    {
      "cell_type": "code",
      "execution_count": 14,
      "metadata": {
        "scrolled": true,
        "colab": {
          "base_uri": "https://localhost:8080/",
          "height": 298
        },
        "id": "VfrUijp2yd0b",
        "outputId": "fc66520b-cd13-4773-9079-9457dd26304b"
      },
      "outputs": [
        {
          "output_type": "display_data",
          "data": {
            "text/plain": [
              "<Figure size 432x288 with 0 Axes>"
            ]
          },
          "metadata": {}
        },
        {
          "output_type": "display_data",
          "data": {
            "text/plain": [
              "<Figure size 432x288 with 1 Axes>"
            ],
            "image/png": "[encoded data removed]"
          },
          "metadata": {
            "needs_background": "light"
          }
        }
      ],
      "source": [
        "fig=plt.figure()\n",
        "ax=data[target==0].plot.scatter(x='met_et', y='lep_pt_0',color=\"b\",label=\"B\")\n",
        "data[target==1].plot.scatter(x='met_et', y='lep_pt_0',color=\"r\",label=\"S\",ax=ax)\n",
        "#plt.legend(loc='best')\n",
        "#ax.set_xlabel('weight*1000')\n",
        "plt.show()"
      ]
    },
    {
      "cell_type": "code",
      "execution_count": 15,
      "metadata": {
        "scrolled": true,
        "colab": {
          "base_uri": "https://localhost:8080/",
          "height": 112
        },
        "id": "px76_qOlyd0c",
        "outputId": "b00949c1-67a6-46d0-d459-296c640d6079"
      },
      "outputs": [
        {
          "output_type": "execute_result",
          "data": {
            "text/plain": [
              "        met_et  met_phi  lep_pt_0  lep_pt_1  lep_phi_0  lep_phi_1\n",
              "308053  2755.4   1.8538    2678.7    42.131    -1.2958    0.13151\n",
              "552671  2145.7   0.3056    2180.0    30.531    -2.8257    1.50800"
            ],
            "text/html": [
              "\n",
              "  <div id=\"df-6aa7b5f1-cbdf-45c3-9e82-d68971423f47\">\n",
              "    <div class=\"colab-df-container\">\n",
              "      <div>\n",
              "<style scoped>\n",
              "    .dataframe tbody tr th:only-of-type {\n",
              "        vertical-align: middle;\n",
              "    }\n",
              "\n",
              "    .dataframe tbody tr th {\n",
              "        vertical-align: top;\n",
              "    }\n",
              "\n",
              "    .dataframe thead th {\n",
              "        text-align: right;\n",
              "    }\n",
              "</style>\n",
              "<table border=\"1\" class=\"dataframe\">\n",
              "  <thead>\n",
              "    <tr style=\"text-align: right;\">\n",
              "      <th></th>\n",
              "      <th>met_et</th>\n",
              "      <th>met_phi</th>\n",
              "      <th>lep_pt_0</th>\n",
              "      <th>lep_pt_1</th>\n",
              "      <th>lep_phi_0</th>\n",
              "      <th>lep_phi_1</th>\n",
              "    </tr>\n",
              "  </thead>\n",
              "  <tbody>\n",
              "    <tr>\n",
              "      <th>308053</th>\n",
              "      <td>2755.4</td>\n",
              "      <td>1.8538</td>\n",
              "      <td>2678.7</td>\n",
              "      <td>42.131</td>\n",
              "      <td>-1.2958</td>\n",
              "      <td>0.13151</td>\n",
              "    </tr>\n",
              "    <tr>\n",
              "      <th>552671</th>\n",
              "      <td>2145.7</td>\n",
              "      <td>0.3056</td>\n",
              "      <td>2180.0</td>\n",
              "      <td>30.531</td>\n",
              "      <td>-2.8257</td>\n",
              "      <td>1.50800</td>\n",
              "    </tr>\n",
              "  </tbody>\n",
              "</table>\n",
              "</div>\n",
              "      <button class=\"colab-df-convert\" onclick=\"convertToInteractive('df-6aa7b5f1-cbdf-45c3-9e82-d68971423f47')\"\n",
              "              title=\"Convert this dataframe to an interactive table.\"\n",
              "              style=\"display:none;\">\n",
              "        \n",
              "  <svg xmlns=\"http://www.w3.org/2000/svg\" height=\"24px\"viewBox=\"0 0 24 24\"\n",
              "       width=\"24px\">\n",
              "    <path d=\"M0 0h24v24H0V0z\" fill=\"none\"/>\n",
              "    <path d=\"M18.56 5.44l.94 2.06.94-2.06 2.06-.94-2.06-.94-.94-2.06-.94 2.06-2.06.94zm-11 1L8.5 8.5l.94-2.06 2.06-.94-2.06-.94L8.5 2.5l-.94 2.06-2.06.94zm10 10l.94 2.06.94-2.06 2.06-.94-2.06-.94-.94-2.06-.94 2.06-2.06.94z\"/><path d=\"M17.41 7.96l-1.37-1.37c-.4-.4-.92-.59-1.43-.59-.52 0-1.04.2-1.43.59L10.3 9.45l-7.72 7.72c-.78.78-.78 2.05 0 2.83L4 21.41c.39.39.9.59 1.41.59.51 0 1.02-.2 1.41-.59l7.78-7.78 2.81-2.81c.8-.78.8-2.07 0-2.86zM5.41 20L4 18.59l7.72-7.72 1.47 1.35L5.41 20z\"/>\n",
              "  </svg>\n",
              "      </button>\n",
              "      \n",
              "  <style>\n",
              "    .colab-df-container {\n",
              "      display:flex;\n",
              "      flex-wrap:wrap;\n",
              "      gap: 12px;\n",
              "    }\n",
              "\n",
              "    .colab-df-convert {\n",
              "      background-color: #E8F0FE;\n",
              "      border: none;\n",
              "      border-radius: 50%;\n",
              "      cursor: pointer;\n",
              "      display: none;\n",
              "      fill: #1967D2;\n",
              "      height: 32px;\n",
              "      padding: 0 0 0 0;\n",
              "      width: 32px;\n",
              "    }\n",
              "\n",
              "    .colab-df-convert:hover {\n",
              "      background-color: #E2EBFA;\n",
              "      box-shadow: 0px 1px 2px rgba(60, 64, 67, 0.3), 0px 1px 3px 1px rgba(60, 64, 67, 0.15);\n",
              "      fill: #174EA6;\n",
              "    }\n",
              "\n",
              "    [theme=dark] .colab-df-convert {\n",
              "      background-color: #3B4455;\n",
              "      fill: #D2E3FC;\n",
              "    }\n",
              "\n",
              "    [theme=dark] .colab-df-convert:hover {\n",
              "      background-color: #434B5C;\n",
              "      box-shadow: 0px 1px 3px 1px rgba(0, 0, 0, 0.15);\n",
              "      filter: drop-shadow(0px 1px 2px rgba(0, 0, 0, 0.3));\n",
              "      fill: #FFFFFF;\n",
              "    }\n",
              "  </style>\n",
              "\n",
              "      <script>\n",
              "        const buttonEl =\n",
              "          document.querySelector('#df-6aa7b5f1-cbdf-45c3-9e82-d68971423f47 button.colab-df-convert');\n",
              "        buttonEl.style.display =\n",
              "          google.colab.kernel.accessAllowed ? 'block' : 'none';\n",
              "\n",
              "        async function convertToInteractive(key) {\n",
              "          const element = document.querySelector('#df-6aa7b5f1-cbdf-45c3-9e82-d68971423f47');\n",
              "          const dataTable =\n",
              "            await google.colab.kernel.invokeFunction('convertToInteractive',\n",
              "                                                     [key], {});\n",
              "          if (!dataTable) return;\n",
              "\n",
              "          const docLinkHtml = 'Like what you see? Visit the ' +\n",
              "            '<a target=\"_blank\" href=https://colab.research.google.com/notebooks/data_table.ipynb>data table notebook</a>'\n",
              "            + ' to learn more about interactive tables.';\n",
              "          element.innerHTML = '';\n",
              "          dataTable['output_type'] = 'display_data';\n",
              "          await google.colab.output.renderOutput(dataTable, element);\n",
              "          const docLink = document.createElement('div');\n",
              "          docLink.innerHTML = docLinkHtml;\n",
              "          element.appendChild(docLink);\n",
              "        }\n",
              "      </script>\n",
              "    </div>\n",
              "  </div>\n",
              "  "
            ]
          },
          "metadata": {},
          "execution_count": 15
        }
      ],
      "source": [
        "data[data.lep_pt_0+data.lep_pt_1>2000].head()"
      ]
    },
    {
      "cell_type": "markdown",
      "metadata": {
        "id": "bVHrJtodL2wo"
      },
      "source": [
        "## Examine the weights"
      ]
    },
    {
      "cell_type": "code",
      "execution_count": 16,
      "metadata": {
        "colab": {
          "base_uri": "https://localhost:8080/",
          "height": 280
        },
        "id": "cFD4s616LS0F",
        "outputId": "f9c3a54e-8950-4b15-c2c8-fb4b11d346b4"
      },
      "outputs": [
        {
          "output_type": "display_data",
          "data": {
            "text/plain": [
              "<Figure size 432x288 with 1 Axes>"
            ],
            "image/png": "[encoded data removed]"
          },
          "metadata": {
            "needs_background": "light"
          }
        }
      ],
      "source": [
        "fig,ax=plt.subplots()\n",
        "#fig=plt.figure()\n",
        "\n",
        "bins=np.linspace(-1,3,101)\n",
        "plt.hist(weights[target==0]*1000,bins=bins,color='b',alpha=0.5,density=True,label='B ackground')\n",
        "plt.hist(weights[target==1]*1000,bins=bins,color='r',alpha=0.5,density=True,label='S ignal')\n",
        "plt.legend(loc='best')\n",
        "ax.set_xlabel('weight*1000')\n",
        "plt.show()"
      ]
    },
    {
      "cell_type": "markdown",
      "metadata": {
        "id": "jrCZdWvqyd0e"
      },
      "source": [
        "# Some weight studies \n",
        "\n",
        "$s=\\sum w$ for signal dataset : predicted number of signal events (luminosity, cross section, efficiencies etc... already includded in the weights). Ditto for b background. \n",
        "\n",
        "\n",
        "Effective number of events fraction : $\\frac{N_{eff}}{N}= \\frac{1}{1+\\frac{Var(w)}{<w>^2}}$ . Example : if 0.2 it means the precision achieved with this dataset is the one which would be achieved with an unweighted dataset of 0.2 x N events (this is a rough estimate, only true for a simple counting)"
      ]
    },
    {
      "cell_type": "code",
      "execution_count": 17,
      "metadata": {
        "colab": {
          "base_uri": "https://localhost:8080/"
        },
        "id": "YdpzI4-6MVIK",
        "outputId": "bed22cff-ee33-463d-ea3d-7c91d5a8c96a"
      },
      "outputs": [
        {
          "output_type": "stream",
          "name": "stdout",
          "text": [
            "Weights quantities for background (target==0) and signal (target==1)\n",
            "Weights sum [638.7539676  24.717593 ]\n",
            "N events [180381. 396976.]\n",
            "Weights mean [3.54113775e-03 6.22647037e-05]\n",
            "Weights std [3.41237459e-03 5.42304678e-05]\n",
            "Weights Neff fraction [0.51851137 0.56863978]\n"
          ]
        }
      ],
      "source": [
        "label_n_weights=np.zeros(2)\n",
        "label_sum_weights=np.zeros(2)\n",
        "label_mean_weights=np.zeros(2)\n",
        "label_std_weights=np.zeros(2)\n",
        "label_neff_fraction=np.zeros(2)\n",
        "\n",
        "for i in range(2):\n",
        "  label_n_weights[i]=weights[target==i].size\n",
        "  label_mean_weights[i]=weights[target==i].mean()\n",
        "  label_std_weights[i]=weights[target==i].std()\n",
        "  label_sum_weights[i]=weights[target==i].sum()\n",
        "  label_neff_fraction[i]=1/(1+(label_std_weights[i]/label_mean_weights[i])**2)\n",
        "\n",
        "print (\"Weights quantities for background (target==0) and signal (target==1)\")\n",
        "print (\"Weights sum\",label_sum_weights)\n",
        "print (\"N events\",label_n_weights)\n",
        "print (\"Weights mean\",label_mean_weights)\n",
        "print (\"Weights std\",label_std_weights)\n",
        "print (\"Weights Neff fraction\",label_neff_fraction)"
      ]
    },
    {
      "cell_type": "markdown",
      "metadata": {
        "id": "F77Cx9LhKwqc"
      },
      "source": [
        "# Feature engineering\n",
        "To be switched on in a second iteration"
      ]
    },
    {
      "cell_type": "code",
      "execution_count": 18,
      "metadata": {
        "id": "4oe_9ZEEKwqc"
      },
      "outputs": [],
      "source": [
        "if False: \n",
        "    data[\"lep_deltaphi\"]=np.abs(np.mod(data.lep_phi_1-data.lep_phi_0+3*np.pi,2*np.pi)-np.pi)\n",
        "    #data[\"lep_deltaphi\"]=data.lep_phi_1-data.lep_phi_0\n",
        "\n",
        "\n",
        "    print (data.shape)\n",
        "    display(data.head())\n",
        "   \n",
        "\n",
        "    \n",
        "\n"
      ]
    },
    {
      "cell_type": "markdown",
      "metadata": {
        "id": "kDp3D2Fkyd0h"
      },
      "source": [
        "# Plot the features"
      ]
    },
    {
      "cell_type": "code",
      "execution_count": 19,
      "metadata": {
        "colab": {
          "base_uri": "https://localhost:8080/",
          "height": 569
        },
        "id": "o2mf1bLVrlH7",
        "outputId": "0235ba71-8c23-4819-ca7e-5cd4ca301478"
      },
      "outputs": [
        {
          "output_type": "display_data",
          "data": {
            "text/plain": [
              "<Figure size 432x288 with 0 Axes>"
            ]
          },
          "metadata": {}
        },
        {
          "output_type": "display_data",
          "data": {
            "text/plain": [
              "<Figure size 1080x864 with 6 Axes>"
            ],
            "image/png": "[encoded data removed]"
          },
          "metadata": {
            "needs_background": "light"
          }
        }
      ],
      "source": [
        "plt.figure()\n",
        "\n",
        "ax=data[target==0].hist(weights=weights[target==0],figsize=(15,12),color='b',alpha=0.5,density=True,label=\"B\")\n",
        "ax=ax.flatten()[:data.shape[1]] # to avoid error if holes in the grid of plots (like if 7 or 8 features)\n",
        "data[target==1].hist(weights=weights[target==1],figsize=(15,12),color='r',alpha=0.5,density=True,ax=ax,label=\"S\")\n",
        "\n",
        "\n",
        "plt.legend(loc=\"best\")\n",
        "plt.show()\n"
      ]
    },
    {
      "cell_type": "markdown",
      "metadata": {
        "id": "IUMC85s4yd0i"
      },
      "source": [
        "### Features correlation matrix"
      ]
    },
    {
      "cell_type": "code",
      "execution_count": 20,
      "metadata": {
        "scrolled": false,
        "colab": {
          "base_uri": "https://localhost:8080/",
          "height": 631
        },
        "id": "Kb-U3Ri5yd0i",
        "outputId": "9a8bee46-42a4-4b12-f05a-8fb9237523c5"
      },
      "outputs": [
        {
          "output_type": "stream",
          "name": "stdout",
          "text": [
            "Signal feature correlation matrix\n"
          ]
        },
        {
          "output_type": "display_data",
          "data": {
            "text/plain": [
              "<Figure size 432x288 with 2 Axes>"
            ],
            "image/png": "[encoded data removed]"
          },
          "metadata": {
            "needs_background": "light"
          }
        },
        {
          "output_type": "stream",
          "name": "stdout",
          "text": [
            "Background feature correlation matrix\n"
          ]
        },
        {
          "output_type": "display_data",
          "data": {
            "text/plain": [
              "<Figure size 432x288 with 2 Axes>"
            ],
            "image/png": "[encoded data removed]"
          },
          "metadata": {
            "needs_background": "light"
          }
        }
      ],
      "source": [
        "import seaborn as sn # seaborn for nice plot quicker\n",
        "print (\"Signal feature correlation matrix\")\n",
        "corrMatrix = data[target==1].corr()\n",
        "sn.heatmap(corrMatrix, annot=True)\n",
        "plt.show()\n",
        "\n",
        "print (\"Background feature correlation matrix\")\n",
        "corrMatrix = data[target==0].corr()\n",
        "sn.heatmap(corrMatrix, annot=True)\n",
        "plt.show()\n"
      ]
    },
    {
      "cell_type": "markdown",
      "metadata": {
        "id": "4kowHjX4rlIC"
      },
      "source": [
        "## Split dataset and transform the features"
      ]
    },
    {
      "cell_type": "code",
      "execution_count": 21,
      "metadata": {
        "colab": {
          "base_uri": "https://localhost:8080/"
        },
        "id": "Y9j5hdrmrlID",
        "outputId": "195b5c20-3783-4e55-b124-08839bbcfcab"
      },
      "outputs": [
        {
          "output_type": "stream",
          "name": "stdout",
          "text": [
            "(433017, 6)\n",
            "(433017,)\n",
            "(433017,)\n",
            "(144340, 6)\n",
            "(144340,)\n",
            "(144340,)\n",
            "Weights have been normalised to a given number of proton collision\n",
            "Orig : total weight sig 24.717592998400008\n",
            "Orig : total weight bkg 638.7539675983998\n",
            "Test : total weight sig 24.717773318400006\n",
            "Test : total weight bkg 635.6988284976001\n",
            "Train : total weight sig 479.8292604740002\n",
            "Train : total weight bkg 479.82926047399997\n"
          ]
        }
      ],
      "source": [
        "np.random.seed(31415) # set the random seed (used for the train/test splitting)\n",
        "\n",
        "from sklearn.model_selection import train_test_split\n",
        "train_size = 0.75 # fraction of sample used for training\n",
        "\n",
        "X_train, X_test, y_train, y_test, weights_train, weights_test = \\\n",
        "    train_test_split(data, target, weights, train_size=train_size)\n",
        "#reset index for dataseries, not needed for ndarray (X_train, X_test)\n",
        "y_train, y_test, weights_train, weights_test = \\\n",
        "    y_train.reset_index(drop=True),y_test.reset_index(drop=True), \\\n",
        "    weights_train.reset_index(drop=True), weights_test.reset_index(drop=True)\n",
        "\n",
        "print (X_train.shape)\n",
        "print (y_train.shape)\n",
        "print (weights_train.shape)\n",
        "print (X_test.shape)\n",
        "print (y_test.shape)\n",
        "print (weights_test.shape)\n",
        "\n",
        "\n",
        "\n",
        "\n",
        "\n",
        "# scale to mean 0 and variance 1\n",
        "# not really needed for BDT but we never know\n",
        "from sklearn.preprocessing import StandardScaler\n",
        "scaler = StandardScaler()\n",
        "X_train = scaler.fit_transform(X_train) #calculate and apply the transformation to training dataset\n",
        "X_test = scaler.transform(X_test)  # apply to test dataset the transformation calculated the line above\n",
        "\n",
        "\n",
        "class_weights_train = (weights_train[y_train == 0].sum(), weights_train[y_train == 1].sum())\n",
        "\n",
        "for i in range(len(class_weights_train)): # loop on B then S target\n",
        "    #training dataset: equalize number of background and signal\n",
        "    weights_train[y_train == i] *= max(class_weights_train)/ class_weights_train[i] \n",
        "    #test dataset : increase test weight to compensate for sampling\n",
        "    weights_test[y_test == i] *= 1/(1-train_size) \n",
        "\n",
        "print (\"Weights have been normalised to a given number of proton collision\")    \n",
        "print (\"Orig : total weight sig\", weights[target == 1].sum())\n",
        "print (\"Orig : total weight bkg\", weights[target == 0].sum())\n",
        "\n",
        "\n",
        "print (\"Test : total weight sig\", weights_test[y_test == 1].sum())\n",
        "print (\"Test : total weight bkg\", weights_test[y_test == 0].sum())\n",
        "print (\"Train : total weight sig\", weights_train[y_train == 1].sum())\n",
        "print (\"Train : total weight bkg\", weights_train[y_train == 0].sum())\n",
        "\n",
        "\n",
        "    "
      ]
    },
    {
      "cell_type": "markdown",
      "metadata": {
        "id": "yxybCOi-rlIM"
      },
      "source": [
        "# Testing BDT"
      ]
    },
    {
      "cell_type": "markdown",
      "metadata": {
        "id": "AIsMSGl-Kwql"
      },
      "source": [
        "## Load significance function"
      ]
    },
    {
      "cell_type": "code",
      "execution_count": 22,
      "metadata": {
        "id": "qubY3CMNKwql"
      },
      "outputs": [],
      "source": [
        "from math import sqrt\n",
        "from math import log\n",
        "def amsasimov(s,b): # asimov significance arXiv:1007.1727 eq. 97\n",
        "        if b<=0 or s<=0:\n",
        "            return 0\n",
        "        try:\n",
        "            return sqrt(2*((s+b)*log(1+float(s)/b)-s))\n",
        "        except ValueError:\n",
        "            print(1+float(s)/b)\n",
        "            print (2*((s+b)*log(1+float(s)/b)-s))\n",
        "        #return s/sqrt(s+b)\n"
      ]
    },
    {
      "cell_type": "markdown",
      "metadata": {
        "id": "F4DfF0ISrlIN"
      },
      "source": [
        "## XGBoost"
      ]
    },
    {
      "cell_type": "code",
      "execution_count": 23,
      "metadata": {
        "colab": {
          "base_uri": "https://localhost:8080/"
        },
        "id": "nqMCgvbkrlIN",
        "outputId": "bd68922c-8aff-47f6-a26d-8d151689e22b",
        "scrolled": true
      },
      "outputs": [
        {
          "output_type": "stream",
          "name": "stdout",
          "text": [
            "Training time: 24.04696559906006\n",
            "auc test: 0.8670325892826282\n",
            "auc train: 0.8754233526495165\n",
            "Z: 1.6238458364767834\n"
          ]
        }
      ],
      "source": [
        "np.random.seed(31415) # set the random seed\n",
        "\n",
        "from xgboost import XGBClassifier\n",
        "from sklearn.metrics import roc_auc_score # for binary classification if x > 0.5 -> 1 else -> 0\n",
        "# tree_method=\"hist\" is 10 times faster, however less robust against awkwards features (not a bad idea to double check without it)\n",
        "# can even try tree_method=\"gpu_hist\" if proper GPU installation\n",
        "# use_label_encoder and eval_metric to silence warning in 1.3.0\n",
        "xgb = XGBClassifier(tree_method=\"hist\",use_label_encoder=False,eval_metric='logloss')\n",
        "# HPO (==Hyper Parameter Optimization), check on the web https://xgboost.readthedocs.io/ for other parameters\n",
        "#xgb = XGBClassifier(tree_method=\"hist\",use_label_encoder=False,max_depth=10,n_estimators=100) \n",
        "\n",
        "\n",
        "\n",
        "starting_time = time.time()\n",
        "\n",
        "xgb.fit(X_train, y_train.values, sample_weight=weights_train.values) # note that XGB 1.3.X requires positive weight\n",
        "\n",
        "        \n",
        "training_time = time.time( ) - starting_time\n",
        "print(\"Training time:\",training_time)\n",
        "\n",
        "y_pred_xgb = xgb.predict_proba(X_test)[:,1]\n",
        "y_pred_xgb = y_pred_xgb.ravel()\n",
        "y_pred_train_xgb = xgb.predict_proba(X_train)[:,1].ravel()\n",
        "auc_test_xgb = roc_auc_score(y_true=y_test, y_score=y_pred_xgb,sample_weight=weights_test)\n",
        "print(\"auc test:\",auc_test_xgb)\n",
        "print (\"auc train:\",roc_auc_score(y_true=y_train.values, y_score=y_pred_train_xgb,sample_weight=weights_train))\n",
        "int_pred_test_sig_xgb = [weights_test[(y_test ==1) & (y_pred_xgb > th_cut)].sum() for th_cut in np.linspace(0,1,num=50)]\n",
        "int_pred_test_bkg_xgb = [weights_test[(y_test ==0) & (y_pred_xgb > th_cut)].sum() for th_cut in np.linspace(0,1,num=50)]\n",
        "\n",
        "vamsasimov_xgb = [amsasimov(sumsig,sumbkg) for (sumsig,sumbkg) in zip(int_pred_test_sig_xgb,int_pred_test_bkg_xgb)]\n",
        "significance_xgb = max(vamsasimov_xgb)\n",
        "Z = significance_xgb\n",
        "print(\"Z:\",Z)"
      ]
    },
    {
      "cell_type": "code",
      "execution_count": 24,
      "metadata": {
        "colab": {
          "base_uri": "https://localhost:8080/"
        },
        "id": "Y_1SDqpwyd0m",
        "outputId": "d821d4f3-f487-44a2-e746-40fee0883f55"
      },
      "outputs": [
        {
          "output_type": "stream",
          "name": "stdout",
          "text": [
            "auc test 0.8670325892826282\n",
            "auc test without weights 0.8677920698367818\n"
          ]
        }
      ],
      "source": [
        "print(\"auc test\",roc_auc_score(y_true=y_test, y_score=y_pred_xgb,sample_weight=weights_test))\n",
        "print(\"auc test without weights\",roc_auc_score(y_true=y_test, y_score=y_pred_xgb))\n",
        "\n",
        "\n",
        "\n"
      ]
    },
    {
      "cell_type": "markdown",
      "metadata": {
        "id": "NrlOjl-Dyd0m"
      },
      "source": [
        "# Hyper Parameter Optimisation\n",
        "Can be done by hand or with [random search](https://scikit-learn.org/stable/modules/generated/sklearn.model_selection.RandomizedSearchCV.html) or [grid search](https://scikit-learn.org/stable/modules/generated/sklearn.model_selection.GridSearchCV.html) ."
      ]
    },
    {
      "cell_type": "code",
      "execution_count": 25,
      "metadata": {
        "scrolled": true,
        "id": "0JyTm1fsyd0n"
      },
      "outputs": [],
      "source": [
        "#RandomSearchCV for advanced HPO \n",
        "import scipy.stats as stats\n",
        "if False:\n",
        "    from sklearn.model_selection import RandomizedSearchCV\n",
        "\n",
        "    # specify parameters and distributions to sample from\n",
        "    param_dist_XGB = {'max_depth': stats.randint(3, 12), # default 6\n",
        "                      'n_estimators': stats.randint(300, 800), #default 100\n",
        "                      'learning_rate': stats.uniform(0.1, 0.5)} #def 0.3 \n",
        "\n",
        "    # default CV is 5 fold, reduce to 2 for speed concern\n",
        "    gsearch = RandomizedSearchCV(estimator = XGBClassifier(tree_method=\"hist\",use_label_encoder=False,eval_metric='logloss'), \n",
        "                        param_distributions = param_dist_XGB, \n",
        "                        scoring='roc_auc',n_iter=10,cv=2)\n",
        "    gsearch.fit(X_train,y_train, sample_weight=weights_train)\n",
        "\n",
        "    print (\"Best parameters : \",gsearch.best_params_)\n",
        "    print (\"Best score (on train dataset CV) : \",gsearch.best_score_)\n",
        "\n",
        "\n",
        "    y_pred_gs = gsearch.predict_proba(X_test)[:,1]\n",
        "    print(\"... corresponding score on test dataset : \",roc_auc_score(y_true=y_test, y_score=y_pred_gs, sample_weight=weights_test))\n",
        "    dfsearch=pd.DataFrame.from_dict(gsearch.cv_results_)\n",
        "    display(dfsearch)\n"
      ]
    },
    {
      "cell_type": "code",
      "execution_count": 26,
      "metadata": {
        "id": "O7xlfXkPyd0n"
      },
      "outputs": [],
      "source": [
        "if False: \n",
        "    dfsearch.plot.scatter(\"param_n_estimators\",\"mean_test_score\")\n",
        "    dfsearch.plot.scatter(\"param_max_depth\",\"mean_test_score\")\n",
        "    dfsearch.plot.scatter(\"param_learning_rate\",\"mean_test_score\")"
      ]
    },
    {
      "cell_type": "markdown",
      "metadata": {
        "id": "B8kJjKBUyd0n"
      },
      "source": [
        "# Learning Curve\n",
        "This could be done with sklearn  [learning_curve](https://scikit-learn.org/stable/modules/generated/sklearn.model_selection.learning_curve.html).\n",
        "However (last time I checked) : it does not handle weights, it does not allow to control testing dataset size\n",
        "\n"
      ]
    },
    {
      "cell_type": "code",
      "execution_count": 27,
      "metadata": {
        "id": "dV6OalSjyd0o"
      },
      "outputs": [],
      "source": [
        "#example with sklearn (but without weights and with no fixed test dataset)\n",
        "#from sklearn.model_selection import learning_curve\n",
        "#train_sizes,train_scores,test_scores=learning_curve(\n",
        "#     XGBClassifier(tree_method=\"hist\",use_label_encoder=False,eval_metric='logloss',n_estimators=10),\n",
        "#     X_train,y_train,\n",
        "#     train_sizes=[0.01,0.05,0.1,0.2,0.5,0.75,1],                  \n",
        "#     scoring='roc_auc',cv=5)\n",
        "\n",
        "if False : \n",
        "    train_sizes=[0.01,0.05,0.1,0.2,0.5,0.75,1]\n",
        "    ntrains=[]\n",
        "    test_aucs=[]\n",
        "    train_aucs=[]\n",
        "    times=[]\n",
        "\n",
        "    for train_size in train_sizes:\n",
        "      ntrain=int(len(X_train)*train_size)\n",
        "      print(\"training with \",ntrain,\" events\")\n",
        "      ntrains+=[ntrain]\n",
        "      starting_time = time.time()\n",
        "\n",
        "      # train using the first ntrain event of the training dataset\n",
        "      xgb.fit(X_train[:ntrain,], y_train[:ntrain], sample_weight=weights_train[:ntrain])\n",
        "      training_time = time.time( ) - starting_time\n",
        "      times+=[training_time]\n",
        "\n",
        "      # score on test dataset (always the same)\n",
        "      y_pred_xgb=xgb.predict_proba(X_test)[:,1]\n",
        "      auc_test_xgb = roc_auc_score(y_true=y_test, y_score=y_pred_xgb,sample_weight=weights_test)\n",
        "      test_aucs+=[auc_test_xgb]\n",
        "\n",
        "      # score on the train dataset \n",
        "      y_train_xgb=xgb.predict_proba(X_train[:ntrain])[:,1]\n",
        "      auc_train_xgb = roc_auc_score(y_true=y_train[:ntrain], y_score=y_train_xgb,sample_weight=weights_train[:ntrain])\n",
        "      train_aucs+=[auc_train_xgb]\n",
        "\n",
        "    dflearning=pd.DataFrame({\"Ntraining\":ntrains,\n",
        "                             \"test_auc\":test_aucs,\n",
        "                             \"train_auc\":train_aucs,\n",
        "                             \"time\":times})\n",
        "    display(dflearning)"
      ]
    },
    {
      "cell_type": "code",
      "execution_count": 28,
      "metadata": {
        "id": "JWH3s-0Wyd0o"
      },
      "outputs": [],
      "source": [
        "if False:\n",
        "    dflearning.plot.scatter(\"Ntraining\",\"test_auc\")\n",
        "    # focus on the last point\n",
        "    dflearning[4:].plot.scatter(\"Ntraining\",\"test_auc\")"
      ]
    },
    {
      "cell_type": "markdown",
      "metadata": {
        "id": "NmadcFRJrlIT"
      },
      "source": [
        "## LightGBM"
      ]
    },
    {
      "cell_type": "code",
      "execution_count": 29,
      "metadata": {
        "colab": {
          "base_uri": "https://localhost:8080/"
        },
        "id": "9YmfuiwUrlIU",
        "outputId": "3d86da4f-91c8-47d9-bf74-544073eb5119"
      },
      "outputs": [
        {
          "output_type": "stream",
          "name": "stdout",
          "text": [
            "Training time: 5.2461934089660645\n",
            "auc test: 0.8348830073556252\n",
            "auc train: 0.8434207216564191\n",
            "Z: 1.4503608774260646\n"
          ]
        }
      ],
      "source": [
        "np.random.seed(31415) # set the random seed\n",
        "\n",
        "import lightgbm as lgb\n",
        "from sklearn.metrics import roc_auc_score # for binary classification if x > 0.5 -> 1 else -> 0\n",
        "#gbm = lgb.LGBMClassifier()\n",
        "gbm = lgb.LGBMClassifier()\n",
        "# gbm = lgb.LGBMClassifier(max_depth=12) # HPO, check on the web https://lightgbm.readthedocs.io/ for other parameters\n",
        "\n",
        "\n",
        "starting_time = time.time( )\n",
        "\n",
        "gbm.fit(X_train, y_train.values,sample_weight=weights_train.values)\n",
        "#gbm.fit(X_train, y_train.values) #ma\n",
        "\n",
        "\n",
        "training_time = time.time( ) - starting_time\n",
        "print(\"Training time:\",training_time)\n",
        "\n",
        "y_pred_gbm = gbm.predict_proba(X_test)[:,1]\n",
        "y_pred_gbm = y_pred_gbm.ravel()\n",
        "y_pred_train_gbm = gbm.predict_proba(X_train)[:,1].ravel()\n",
        "auc_test_gbm = roc_auc_score(y_true=y_test, y_score=y_pred_gbm,sample_weight=weights_test)\n",
        "print(\"auc test:\",auc_test_gbm)\n",
        "print (\"auc train:\",roc_auc_score(y_true=y_train.values, y_score=y_pred_train_gbm,sample_weight=weights_train))\n",
        "\n",
        "int_pred_test_sig_gbm = [weights_test[(y_test ==1) & (y_pred_gbm > th_cut)].sum() for th_cut in np.linspace(0,1,num=50)]\n",
        "int_pred_test_bkg_gbm = [weights_test[(y_test ==0) & (y_pred_gbm > th_cut)].sum() for th_cut in np.linspace(0,1,num=50)]\n",
        "\n",
        "vamsasimov_gbm = [amsasimov(sumsig,sumbkg) for (sumsig,sumbkg) in zip(int_pred_test_sig_gbm,int_pred_test_bkg_gbm)]\n",
        "significance_gbm = max(vamsasimov_gbm)\n",
        "Z = significance_gbm\n",
        "print(\"Z:\",Z)\n",
        "\n",
        "\n"
      ]
    },
    {
      "cell_type": "markdown",
      "metadata": {
        "id": "I7HnCErpyd0p"
      },
      "source": [
        "## SKLearn GBDT"
      ]
    },
    {
      "cell_type": "code",
      "execution_count": 30,
      "metadata": {
        "colab": {
          "base_uri": "https://localhost:8080/"
        },
        "id": "eriizDZkyd0p",
        "outputId": "b8faff41-c803-412e-d81e-4393f03de425"
      },
      "outputs": [
        {
          "output_type": "stream",
          "name": "stdout",
          "text": [
            "Training time: 6.73568868637085\n",
            "auc test: 0.8473429113208336\n",
            "auc train: 0.8558127934697892\n",
            "Z: 1.5091731717352366\n"
          ]
        }
      ],
      "source": [
        "from sklearn import ensemble\n",
        "\n",
        "# possible parameters, just take the default\n",
        "#original_params = {\n",
        "#    \"n_estimators\": 400,\n",
        "#    \"max_leaf_nodes\": 4,\n",
        "#    \"max_depth\": None,\n",
        "#    \"random_state\": 2,\n",
        "#    \"min_samples_split\": 5,\n",
        "#}\n",
        "\n",
        "skgb=ensemble.HistGradientBoostingClassifier()\n",
        "\n",
        "\n",
        "starting_time = time.time( )\n",
        "\n",
        "skgb.fit(X_train, y_train.values,sample_weight=weights_train.values)\n",
        "\n",
        "\n",
        "training_time = time.time( ) - starting_time\n",
        "print(\"Training time:\",training_time)\n",
        "\n",
        "y_pred_skgb = skgb.predict_proba(X_test)[:,1]\n",
        "y_pred_skgb = y_pred_skgb.ravel()\n",
        "y_pred_train_skgb = skgb.predict_proba(X_train)[:,1].ravel()\n",
        "auc_test_skgb = roc_auc_score(y_true=y_test, y_score=y_pred_skgb,sample_weight=weights_test)\n",
        "print(\"auc test:\",auc_test_skgb)\n",
        "print (\"auc train:\",roc_auc_score(y_true=y_train.values, y_score=y_pred_train_skgb,sample_weight=weights_train))\n",
        "\n",
        "int_pred_test_sig_skgb = [weights_test[(y_test ==1) & (y_pred_skgb > th_cut)].sum() for th_cut in np.linspace(0,1,num=50)]\n",
        "int_pred_test_bkg_skgb = [weights_test[(y_test ==0) & (y_pred_skgb > th_cut)].sum() for th_cut in np.linspace(0,1,num=50)]\n",
        "\n",
        "vamsasimov_skgb = [amsasimov(sumsig,sumbkg) for (sumsig,sumbkg) in zip(int_pred_test_sig_skgb,int_pred_test_bkg_skgb)]\n",
        "significance_skgb = max(vamsasimov_skgb)\n",
        "Z = significance_skgb\n",
        "print(\"Z:\",Z)\n",
        "\n",
        "\n",
        "\n"
      ]
    },
    {
      "cell_type": "code",
      "execution_count": 31,
      "metadata": {
        "colab": {
          "base_uri": "https://localhost:8080/"
        },
        "id": "3pSxtcTGyd0q",
        "outputId": "c4b62278-c931-434a-c9da-a1c8545da921"
      },
      "outputs": [
        {
          "output_type": "stream",
          "name": "stdout",
          "text": [
            "Best significance found are:\n",
            "XGBoost :  1.6238458364767834\n",
            "LightGBM:  1.4503608774260646\n",
            "sklearn:  1.5091731717352366\n",
            "Best auc test found are:\n",
            "XGBoost:  0.8670325892826282\n",
            "LightGBM:  0.8348830073556252\n",
            "sklearn:  0.8473429113208336\n"
          ]
        }
      ],
      "source": [
        "print('Best significance found are:')\n",
        "print('XGBoost : ', significance_xgb)\n",
        "print('LightGBM: ', significance_gbm)\n",
        "print('sklearn: ', significance_skgb)\n",
        "\n",
        "\n",
        "print('Best auc test found are:')\n",
        "print('XGBoost: ', roc_auc_score(y_true=y_test.values, y_score=y_pred_xgb,sample_weight=weights_test)) \n",
        "print('LightGBM: ', roc_auc_score(y_true=y_test.values, y_score=y_pred_gbm,sample_weight=weights_test))\n",
        "print('sklearn: ', roc_auc_score(y_true=y_test.values, y_score=y_pred_skgb,sample_weight=weights_test))"
      ]
    },
    {
      "cell_type": "markdown",
      "metadata": {
        "id": "T-LB9cbErlIb"
      },
      "source": [
        "# Some nice plots "
      ]
    },
    {
      "cell_type": "markdown",
      "metadata": {
        "id": "_nxVz32hKwqz"
      },
      "source": [
        "## load score plotting function"
      ]
    },
    {
      "cell_type": "code",
      "execution_count": 32,
      "metadata": {
        "id": "Ay8QTiKPKwqz"
      },
      "outputs": [],
      "source": [
        "# some utilities\n",
        "from math import sqrt\n",
        "from math import log\n",
        "\n",
        "# Plot score for signal and background, comparing training and testing\n",
        "def compare_train_test(y_pred_train, y_train, y_pred, y_test, high_low=(0,1), \n",
        "                       bins=30,xlabel=\"\", ylabel=\"Arbitrary units\", title=\"\", \n",
        "                       weights_train=np.array([]), weights_test=np.array([]),\n",
        "                       density=True):\n",
        "    if weights_train.size != 0:\n",
        "        weights_train_signal = weights_train[y_train == 1]\n",
        "        weights_train_background = weights_train[y_train == 0]\n",
        "    else:\n",
        "        weights_train_signal = None\n",
        "        weights_train_background = None\n",
        "    plt.hist(y_pred_train[y_train == 1],\n",
        "                 color='r', alpha=0.5, range=high_low, bins=bins,\n",
        "                 histtype='stepfilled', density=density,\n",
        "                 label='S (train)', weights=weights_train_signal) # alpha is transparancy\n",
        "    plt.hist(y_pred_train[y_train == 0],\n",
        "                 color='b', alpha=0.5, range=high_low, bins=bins,\n",
        "                 histtype='stepfilled', density=density,\n",
        "                 label='B (train)', weights=weights_train_background)\n",
        "\n",
        "    if weights_test.size != 0:\n",
        "        weights_test_signal = weights_test[y_test == 1]\n",
        "        weights_test_background = weights_test[y_test == 0]\n",
        "    else:\n",
        "        weights_test_signal = None\n",
        "        weights_test_background = None\n",
        "    hist, bins = np.histogram(y_pred[y_test == 1],\n",
        "                                  bins=bins, range=high_low, density=density, weights=weights_test_signal)\n",
        "    scale = len(y_pred[y_test == 1]) / sum(hist)\n",
        "    err = np.sqrt(hist * scale) / scale\n",
        "\n",
        "    center = (bins[:-1] + bins[1:]) / 2\n",
        "    plt.errorbar(center, hist, yerr=err, fmt='o', c='r', label='S (test)')\n",
        "\n",
        "    hist, bins = np.histogram(y_pred[y_test == 0],\n",
        "                                  bins=bins, range=high_low, density=density, weights=weights_test_background)\n",
        "    scale = len(y_pred[y_test == 0]) / sum(hist)\n",
        "    err = np.sqrt(hist * scale) / scale\n",
        "\n",
        "    center = (bins[:-1] + bins[1:]) / 2\n",
        "    plt.errorbar(center, hist, yerr=err, fmt='o', c='b', label='B (test)')\n",
        "    plt.title(title)\n",
        "    plt.xlabel(xlabel)\n",
        "    plt.ylabel(ylabel)\n",
        "    plt.legend(loc='best')\n",
        "\n",
        "\n"
      ]
    },
    {
      "cell_type": "code",
      "execution_count": 33,
      "metadata": {
        "colab": {
          "base_uri": "https://localhost:8080/",
          "height": 852
        },
        "id": "kEQ342s-rlIe",
        "outputId": "42488b57-8ba8-4574-8f7e-81d7f347bb45"
      },
      "outputs": [
        {
          "output_type": "display_data",
          "data": {
            "text/plain": [
              "<Figure size 432x288 with 1 Axes>"
            ],
            "image/png": "[encoded data removed]"
          },
          "metadata": {
            "needs_background": "light"
          }
        },
        {
          "output_type": "display_data",
          "data": {
            "text/plain": [
              "<Figure size 432x288 with 1 Axes>"
            ],
            "image/png": "[encoded data removed]"
          },
          "metadata": {
            "needs_background": "light"
          }
        },
        {
          "output_type": "display_data",
          "data": {
            "text/plain": [
              "<Figure size 432x288 with 1 Axes>"
            ],
            "image/png": "[encoded data removed]"
          },
          "metadata": {
            "needs_background": "light"
          }
        }
      ],
      "source": [
        "\n",
        "compare_train_test(y_pred_train_xgb, y_train, y_pred_xgb, y_test, \n",
        "                   xlabel=\"XGboost score\", title=\"XGboost\", \n",
        "                   weights_train=weights_train.values, weights_test=weights_test.values)\n",
        "plt.savefig(\"Score_BDT_XGBoost_Hist.pdf\")\n",
        "plt.show()\n",
        "compare_train_test(y_pred_train_gbm, y_train, y_pred_gbm, y_test, \n",
        "                   xlabel=\"LightGBM score\", title=\"LightGBM\", \n",
        "                   weights_train=weights_train.values, weights_test=weights_test.values)\n",
        "plt.savefig(\"Score_BDT_LightGBM.pdf\")\n",
        "plt.show()\n",
        "compare_train_test(y_pred_train_skgb, y_train, y_pred_skgb, y_test, \n",
        "                   xlabel=\"sklearn score\", title=\"sklearn\", \n",
        "                   weights_train=weights_train.values, weights_test=weights_test.values)\n",
        "plt.savefig(\"Score_BDT_sklearn.pdf\")\n",
        "plt.show()"
      ]
    },
    {
      "cell_type": "markdown",
      "metadata": {
        "id": "yPv67MTLyd0s"
      },
      "source": [
        "## Plot without renormalising"
      ]
    },
    {
      "cell_type": "code",
      "execution_count": 34,
      "metadata": {
        "colab": {
          "base_uri": "https://localhost:8080/",
          "height": 296
        },
        "id": "visTZB8eyd0t",
        "outputId": "759a2ee5-bf7c-4d4e-b562-a048bb26608f"
      },
      "outputs": [
        {
          "output_type": "display_data",
          "data": {
            "text/plain": [
              "<Figure size 432x288 with 1 Axes>"
            ],
            "image/png": "[encoded data removed]"
          },
          "metadata": {
            "needs_background": "light"
          }
        }
      ],
      "source": [
        "compare_train_test(y_pred_train_xgb, y_train, y_pred_xgb, y_test, \n",
        "                   xlabel=\"XGboost score\", ylabel=\"Expected number of events\", title=\"XGboost\", \n",
        "                   weights_train=weights_train.values, weights_test=weights_test.values, \n",
        "                   density=False)\n",
        "plt.savefig(\"Score_BDT_XGBoost_Hist.pdf\")\n",
        "plt.show()\n",
        "\n"
      ]
    },
    {
      "cell_type": "markdown",
      "source": [
        "## ROC curve"
      ],
      "metadata": {
        "id": "zxGjEcej8PIi"
      }
    },
    {
      "cell_type": "code",
      "execution_count": 35,
      "metadata": {
        "colab": {
          "base_uri": "https://localhost:8080/",
          "height": 296
        },
        "id": "tUKIWu2orlIg",
        "outputId": "2cdbb6d0-e599-417f-d22d-b121dbd69e73"
      },
      "outputs": [
        {
          "output_type": "display_data",
          "data": {
            "text/plain": [
              "<Figure size 432x288 with 1 Axes>"
            ],
            "image/png": "[encoded data removed]"
          },
          "metadata": {
            "needs_background": "light"
          }
        }
      ],
      "source": [
        "from sklearn.metrics import roc_curve\n",
        "lw = 2\n",
        "\n",
        "fpr_xgb,tpr_xgb,_ = roc_curve(y_true=y_test, y_score=y_pred_xgb,sample_weight=weights_test.values)\n",
        "fpr_gbm,tpr_gbm,_ = roc_curve(y_true=y_test, y_score=y_pred_gbm,sample_weight=weights_test.values)\n",
        "fpr_skgb,tpr_skgb,_ = roc_curve(y_true=y_test, y_score=y_pred_skgb,sample_weight=weights_test.values)\n",
        "\n",
        "\n",
        "plt.plot(fpr_xgb, tpr_xgb, color='darkgreen',lw=lw, label='XGBoost (AUC  = {})'.format(np.round(auc_test_xgb,decimals=2)))\n",
        "plt.plot(fpr_skgb, tpr_skgb, color='darkblue',lw=lw, label='sklearn (AUC  = {})'.format(np.round(auc_test_skgb,decimals=2)))\n",
        "plt.plot(fpr_gbm, tpr_gbm, color='darkorange',lw=lw, label='LightGBM (AUC  = {})'.format(np.round(auc_test_gbm,decimals=2)))\n",
        "\n",
        "\n",
        "plt.plot([0, 1], [0, 1], color='navy', lw=lw, linestyle='--')\n",
        "plt.xlim([0.0, 1.0])\n",
        "plt.ylim([0.0, 1.05])\n",
        "plt.xlabel('False Positive Rate')\n",
        "plt.ylabel('True Positive Rate')\n",
        "plt.title('Receiver Operating Characteristic')\n",
        "plt.legend(loc=\"lower right\")\n",
        "#import os\n",
        "#new_dir = \"Plots/Comparing\" \n",
        "#if not os.path.isdir(new_dir):\n",
        "#    os.mkdir(new_dir)\n",
        "plt.savefig(\"ROC_comparing.pdf\")\n",
        "plt.show() # blue line = random classification -> maximize true positive rate while miniize false positive rate"
      ]
    },
    {
      "cell_type": "markdown",
      "source": [
        "## Significance curve"
      ],
      "metadata": {
        "id": "ziQzdapn8Tnk"
      }
    },
    {
      "cell_type": "code",
      "execution_count": 36,
      "metadata": {
        "colab": {
          "base_uri": "https://localhost:8080/",
          "height": 296
        },
        "id": "CGF3k0KJrlIi",
        "outputId": "1cc4d5ea-95cb-474c-bf68-7aee79dc158f"
      },
      "outputs": [
        {
          "output_type": "display_data",
          "data": {
            "text/plain": [
              "<Figure size 432x288 with 1 Axes>"
            ],
            "image/png": "[encoded data removed]"
          },
          "metadata": {
            "needs_background": "light"
          }
        }
      ],
      "source": [
        "plt.plot(np.linspace(0,1,num=50),vamsasimov_xgb, label='XGBoost (Z = {})'.format(np.round(significance_xgb,decimals=2)))\n",
        "plt.plot(np.linspace(0,1,num=50),vamsasimov_skgb, label='sklearn (Z = {})'.format(np.round(significance_skgb,decimals=2)))\n",
        "plt.plot(np.linspace(0,1,num=50),vamsasimov_gbm, label='LightGBM (Z = {})'.format(np.round(significance_gbm,decimals=2)))\n",
        "\n",
        "\n",
        "\n",
        "plt.title(\"BDT Significance\")\n",
        "plt.xlabel(\"Threshold\")\n",
        "plt.ylabel(\"Significance\")\n",
        "plt.legend()\n",
        "plt.savefig(\"Significance_comparing.pdf\")\n",
        "plt.show()"
      ]
    },
    {
      "cell_type": "markdown",
      "metadata": {
        "id": "cJI9aimTyd0v"
      },
      "source": [
        "# Feature importance\n",
        "Feature importance allows to display the importance of each feature without rerunnning the training. It is obtained from internal algorithm quantities, like number of time a feature is used to definea leaf. Magnitude is arbitrary. It can be used as a not very reliable indication of which feature is the most discriminant."
      ]
    },
    {
      "cell_type": "code",
      "execution_count": 37,
      "metadata": {
        "colab": {
          "base_uri": "https://localhost:8080/",
          "height": 620
        },
        "id": "QN2h9y5JrlIm",
        "outputId": "ba27ffcd-1819-416b-cb64-42e877649ec6"
      },
      "outputs": [
        {
          "output_type": "display_data",
          "data": {
            "text/plain": [
              "<Figure size 432x288 with 1 Axes>"
            ],
            "image/png": "[encoded data removed]"
          },
          "metadata": {
            "needs_background": "light"
          }
        },
        {
          "output_type": "display_data",
          "data": {
            "text/plain": [
              "<Figure size 432x288 with 1 Axes>"
            ],
            "image/png": "[encoded data removed]"
          },
          "metadata": {
            "needs_background": "light"
          }
        }
      ],
      "source": [
        "plt.bar(data.columns.values, xgb.feature_importances_)\n",
        "plt.xticks(rotation=90)\n",
        "plt.title(\"Feature importances XGBoost Hist\")\n",
        "#plt.savefig(new_dir + \"/VarImp_BDT_XGBoost_Hist.pdf\",bbox_inches='tight')\n",
        "plt.show()\n",
        "plt.bar(data.columns.values, gbm.feature_importances_)\n",
        "plt.xticks(rotation=90)\n",
        "plt.title(\"Feature importances LightGBM\")\n",
        "#plt.savefig(new_dir + \"/VarImp_BDT_LightGBM.pdf\",bbox_inches='tight')\n",
        "plt.show()\n"
      ]
    },
    {
      "cell_type": "markdown",
      "metadata": {
        "id": "i7WxH3bDrlIp"
      },
      "source": [
        "# Permutation importance"
      ]
    },
    {
      "cell_type": "markdown",
      "metadata": {
        "id": "55ZOBmxxyd0w"
      },
      "source": [
        "A better way to show the importance of each feature is Permutation Importance, where each feature in turn is replaced by an instance of an other event (effectively switching it off by randomising).\n",
        "In particular it allows to : \n",
        "   * display directly the loss in whatever criteria (ROC auc, asimov significance) when the feature is switched off\n",
        "   * display the feature importance for a specific subset (for example the most signal like)\n",
        "   * it can even display which feature has the larges impact on systematics\n",
        "\n",
        "\n",
        "However, report can be misleading in case of highly correlated variables. \n",
        "   \n"
      ]
    },
    {
      "cell_type": "code",
      "source": [
        "if True:\n",
        "  from sklearn.inspection import permutation_importance\n",
        "  r = permutation_importance(xgb, X_test, y_test,sample_weight=weights_test,\n",
        "                           scoring='roc_auc',n_repeats=1,n_jobs=-1,\n",
        "                            random_state=0)\n",
        "  plt.bar(data.columns,r.importances.mean(axis=1).T,)\n",
        "\n",
        "  plt.xlabel('features')\n",
        "  plt.ylabel('impact on auc')\n",
        "  plt.title('Permutation Importance XGBoost')\n",
        "\n",
        "  plt.show()\n"
      ],
      "metadata": {
        "colab": {
          "base_uri": "https://localhost:8080/",
          "height": 297
        },
        "id": "CeMWnl2v00JH",
        "outputId": "92c4c3ba-a370-40a5-c296-f1a071e48cbe"
      },
      "execution_count": 38,
      "outputs": [
        {
          "output_type": "display_data",
          "data": {
            "text/plain": [
              "<Figure size 432x288 with 1 Axes>"
            ],
            "image/png": "[encoded data removed]"
          },
          "metadata": {
            "needs_background": "light"
          }
        }
      ]
    },
    {
      "cell_type": "markdown",
      "metadata": {
        "id": "BiGDmMS-yd0x"
      },
      "source": [
        "##  Model serialisation\n",
        "It is useful to be able to save a model in order to apply it without retraining. There are many ways to do it. One is to save the whole python object with joblib (beware this is not safe if the software evolves). Another is to used dedicated serialisation like the one proposed by xgboost.\n"
      ]
    },
    {
      "cell_type": "code",
      "execution_count": 40,
      "metadata": {
        "id": "Nlj3NPpkyd0y",
        "outputId": "6ab9d230-1377-400e-b52b-b4c8b4fc6201",
        "colab": {
          "base_uri": "https://localhost:8080/"
        }
      },
      "outputs": [
        {
          "output_type": "stream",
          "name": "stdout",
          "text": [
            "myxgb score 0.7823134172041539\n",
            "myxgb reloaded from model 0.7823134172041539\n",
            "myxgb reloaded from object 0.7823134172041539\n",
            "{\"learner\":{\"attributes\":{\"best_iteration\":\"4\",\"best_ntree_limit\":\"5\",\"scikit_learn\":\"{\\\"use_label_encoder\\\": false, \\\"n_estimators\\\": 5, \\\"objective\\\": \\\"binary:logistic\\\", \\\"max_depth\\\": null, \\\"max_leaves\\\": null, \\\"max_bin\\\": null, \\\"grow_policy\\\": null, \\\"learning_rate\\\": null, \\\"verbosity\\\": null, \\\"booster\\\": null, \\\"tree_method\\\": \\\"hist\\\", \\\"gamma\\\": null, \\\"min_child_weight\\\": null, \\\"max_delta_step\\\": null, \\\"subsample\\\": null, \\\"sampling_method\\\": null, \\\"colsample_bytree\\\": null, \\\"colsample_bylevel\\\": null, \\\"colsample_bynode\\\": null, \\\"reg_alpha\\\": null, \\\"reg_lambda\\\": null, \\\"scale_pos_weight\\\": null, \\\"base_score\\\": null, \\\"missing\\\": NaN, \\\"num_parallel_tree\\\": null, \\\"random_state\\\": null, \\\"n_jobs\\\": null, \\\"monotone_constraints\\\": null, \\\"interaction_constraints\\\": null, \\\"importance_type\\\": null, \\\"gpu_id\\\": null, \\\"validate_parameters\\\": null, \\\"predictor\\\": null, \\\"enable_categorical\\\": false, \\\"max_cat_to_onehot\\\": null, \\\"eval_metric\\\": \\\"logloss\\\", \\\"early_stopping_rounds\\\": null, \\\"callbacks\\\": null, \\\"classes_\\\": [0, 1], \\\"n_classes_\\\": 2, \\\"_estimator_type\\\": \\\"classifier\\\"}\"},\"feature_names\":[],\"feature_types\":[],\"gradient_booster\":{\"model\":{\"gbtree_model_param\":{\"num_parallel_tree\":\"1\",\"num_trees\":\"5\",\"size_leaf_vector\":\"0\"},\"tree_info\":[0,0,0,0,0],\"trees\":[{\"base_weights\":[-4.5714582E-8,5.8494556E-1,-1.0363933E0,7.788847E-1,-1.847146E-1,-6.083987E-1,-1.2831544E0,9.9924123E-1,3.4327313E-1,4.764614E-1,-7.427439E-1,-2.3762321E-1,-7.5978696E-1,-2.9637507E-1,-4.139198E-1,1.0125086E0,4.5482583E-2,5.085375E-1,1.1111411E-1,7.5139797E-1,-3.5559498E-2,-3.1997457E-1,-9.347276E-1,-1.6545676E-1,-4.003863E-2,-5.7635254E-1,-9.463365E-1,1.0329361E0,4.9815312E-1,1.3120061E-1,5.8773106E-1,2.0697266E-1,-2.0910959E-1,2.436999E-1,3.4372225E-2,1.765145E-1,-9.1830425E-2,1.06826924E-1,-1.5944839E-1,-8.853417E-2,-2.9840437E-1,1.1623849E-1,-8.4010094E-2,-6.0635215E-1,-3.238409E-2,-1.0687511E-1,-3.0461788E-1,2.3384538E-1,3.2632625E-1,1.8565542E-1,5.9566144E-3,9.765597E-3,5.497598E-2,2.1603315E-1,5.2057054E-2,-5.6699347E-2,9.890835E-2,-1.5807033E-2,-9.885492E-2,6.9860704E-2,3.883462E-4,6.947522E-2,-1.9405864E-2,5.731838E-2,2.2939502E-3,-6.0857832E-2,-1.9498979E-1],\"categories\":[],\"categories_nodes\":[],\"categories_segments\":[],\"categories_sizes\":[],\"default_left\":[0,0,0,0,0,0,0,0,0,0,0,0,0,0,0,0,0,0,0,0,0,0,0,0,0,0,0,0,0,0,0,0,0,0,0,0,0,0,0,0,0,0,0,0,0,0,0,0,0,0,0,0,0,0,0,0,0,0,0,0,0,0,0,0,0,0,0],\"id\":0,\"left_children\":[1,3,5,7,9,11,13,15,17,19,21,23,25,-1,-1,27,-1,29,31,33,35,37,39,-1,41,43,45,47,49,51,53,55,57,-1,-1,59,-1,61,-1,-1,-1,63,-1,65,-1,-1,-1,-1,-1,-1,-1,-1,-1,-1,-1,-1,-1,-1,-1,-1,-1,-1,-1,-1,-1,-1,-1],\"loss_changes\":[1.4665678E2,2.3226078E1,8.436951E0,1.1531464E1,1.2135137E1,1.717783E0,1.8973541E-1,7.644501E-1,1.5963387E0,2.1698728E0,1.1381111E0,6.7629397E-1,2.6076698E-1,0E0,0E0,3.280182E-1,0E0,6.6653585E-1,6.324503E-1,2.9305696E-1,4.1397986E-1,6.932622E-1,1.5346241E-1,0E0,3.3217263E-1,1.3740921E-1,5.075836E-2,2.1077728E-1,2.760532E-1,2.281209E-2,9.871206E-1,8.045531E-1,7.528816E-2,0E0,0E0,4.0688187E-2,0E0,8.278699E-2,0E0,0E0,0E0,4.359205E-2,0E0,1.0309839E-1,0E0,0E0,0E0,0E0,0E0,0E0,0E0,0E0,0E0,0E0,0E0,0E0,0E0,0E0,0E0,0E0,0E0,0E0,0E0,0E0,0E0,0E0,0E0],\"parents\":[2147483647,0,0,1,1,2,2,3,3,4,4,5,5,6,6,7,7,8,8,9,9,10,10,11,11,12,12,15,15,17,17,18,18,19,19,20,20,21,21,22,22,24,24,25,25,26,26,27,27,28,28,29,29,30,30,31,31,32,32,35,35,37,37,41,41,43,43],\"right_children\":[2,4,6,8,10,12,14,16,18,20,22,24,26,-1,-1,28,-1,30,32,34,36,38,40,-1,42,44,46,48,50,52,54,56,58,-1,-1,60,-1,62,-1,-1,-1,64,-1,66,-1,-1,-1,-1,-1,-1,-1,-1,-1,-1,-1,-1,-1,-1,-1,-1,-1,-1,-1,-1,-1,-1,-1],\"split_conditions\":[8.4174104E-2,-7.7549785E-2,4.4364917E-1,-3.1579044E-1,-1.434221E-1,-4.8835617E-1,7.312591E-1,1.5189737E0,-9.247566E-2,-3.2266322E-1,2.1628886E-1,-6.006342E-1,-1.0266122E-1,-2.9637507E-1,-4.139198E-1,-1.6324458E-1,4.5482583E-2,-7.059775E-1,-3.5232612E-1,-2.3120819E-1,-4.5389083E-1,-6.346764E-1,3.2107472E-2,-1.6545676E-1,2.5400093E-1,6.118258E-1,-3.660784E-1,-6.575673E-1,3.94798E-2,-8.944619E-1,-4.079959E-1,-6.8744016E-1,-1.7148381E-1,2.436999E-1,3.4372225E-2,-3.789203E-2,-9.1830425E-2,2.0167099E-1,-1.5944839E-1,-8.853417E-2,-2.9840437E-1,-6.1303204E-1,-8.4010094E-2,1.3278143E-1,-3.238409E-2,-1.0687511E-1,-3.0461788E-1,2.3384538E-1,3.2632625E-1,1.8565542E-1,5.9566144E-3,9.765597E-3,5.497598E-2,2.1603315E-1,5.2057054E-2,-5.6699347E-2,9.890835E-2,-1.5807033E-2,-9.885492E-2,6.9860704E-2,3.883462E-4,6.947522E-2,-1.9405864E-2,5.731838E-2,2.2939502E-3,-6.0857832E-2,-1.9498979E-1],\"split_indices\":[3,2,3,3,0,2,3,0,3,3,2,0,0,0,0,2,0,0,2,0,0,3,0,0,3,2,2,0,0,0,2,0,0,0,0,3,0,0,0,0,0,2,0,3,0,0,0,0,0,0,0,0,0,0,0,0,0,0,0,0,0,0,0,0,0,0,0],\"split_type\":[0,0,0,0,0,0,0,0,0,0,0,0,0,0,0,0,0,0,0,0,0,0,0,0,0,0,0,0,0,0,0,0,0,0,0,0,0,0,0,0,0,0,0,0,0,0,0,0,0,0,0,0,0,0,0,0,0,0,0,0,0,0,0,0,0,0,0],\"sum_hessian\":[2.3991463E2,1.5363683E2,8.62778E1,1.2270548E2,3.0931343E1,3.2819527E1,5.345828E1,8.062632E1,4.207916E1,1.4224154E1,1.670719E1,1.0260197E1,2.255933E1,1.5944743E1,3.7513535E1,7.919227E1,1.4340544E0,2.3885557E1,1.8193604E1,8.950532E0,5.273623E0,6.0503416E0,1.0656848E1,3.2714984E0,6.988698E0,1.3436623E1,9.122707E0,7.51976E1,3.9946685E0,4.604243E0,1.9281315E1,1.4274279E1,3.9193246E0,7.9173527E0,1.0331787E0,3.1510842E0,2.1225388E0,2.1689098E0,3.881432E0,1.4208549E0,9.235992E0,4.54488E0,2.4438183E0,1.2351081E1,1.0855417E0,1.6010007E0,7.5217066E0,1.6078413E1,5.9119186E1,2.9550905E0,1.039578E0,2.1517248E0,2.452518E0,1.4051859E1,5.2294555E0,3.2494977E0,1.102478E1,2.330018E0,1.5893066E0,2.1353128E0,1.0157714E0,1.0528415E0,1.1160682E0,2.2411952E0,2.3036845E0,1.756071E0,1.059501E1],\"tree_param\":{\"num_deleted\":\"0\",\"num_feature\":\"6\",\"num_nodes\":\"67\",\"size_leaf_vector\":\"0\"}},{\"base_weights\":[-3.6873855E-3,4.4978678E-1,-7.250508E-1,5.762737E-1,-1.8055743E-1,-3.248916E-1,-9.125924E-1,7.417444E-1,2.9127392E-1,4.1769662E-1,-5.709398E-1,-1.3313511E-1,-5.6212705E-1,-7.3798245E-1,-3.1439042E-1,7.697012E-1,3.2078922E-1,3.740202E-1,2.9496748E-2,5.846959E-1,3.543172E-2,-1.8706618E-1,-7.126332E-1,-3.651616E-1,-2.2090131E-2,-2.5099516E-1,-2.1253227E-1,-7.277092E-2,-2.25778E-1,2.482427E-1,6.0182595E-1,1.5751468E-1,2.1230973E-2,2.8261807E-2,4.769132E-1,2.2285567E-1,-9.784029E-2,1.9289666E-1,4.3152474E-2,4.6458732E-2,-4.1095138E-2,4.4226464E-2,-1.13929704E-1,-8.0409154E-2,-2.2969869E-1,-4.0203854E-2,-1.2595727E-1,1.9483002E-1,-1.3178271E-1,-1.028634E-1,2.2116233E-2,1.9371213E-1,6.901015E-2,4.4946164E-2,-3.0424919E-2,-2.569875E-2,3.3794995E-2,1.5167104E-1,3.0130668E-2,9.814017E-2,6.296909E-3,7.149644E-2,4.7718366E-3,-1.4644303E-2,-6.9895454E-2],\"categories\":[],\"categories_nodes\":[],\"categories_segments\":[],\"categories_sizes\":[],\"default_left\":[0,0,0,0,0,0,0,0,0,0,0,0,0,0,0,0,0,0,0,0,0,0,0,0,0,0,0,0,0,0,0,0,0,0,0,0,0,0,0,0,0,0,0,0,0,0,0,0,0,0,0,0,0,0,0,0,0,0,0,0,0,0,0,0,0],\"id\":1,\"left_children\":[1,3,5,7,9,11,13,15,17,19,21,23,25,27,-1,29,31,33,35,37,39,41,43,45,47,49,-1,-1,-1,-1,51,-1,53,55,57,59,-1,-1,-1,-1,-1,-1,-1,-1,-1,-1,-1,61,63,-1,-1,-1,-1,-1,-1,-1,-1,-1,-1,-1,-1,-1,-1,-1,-1],\"loss_changes\":[7.7642075E1,1.172402E1,6.578724E0,5.5195465E0,6.1048923E0,1.3257248E0,6.880379E-1,6.510353E-1,9.923518E-1,6.4933264E-1,7.164388E-1,4.6436742E-1,4.3453264E-1,3.735161E-2,0E0,1.8901443E-1,3.8451248E-1,1.235632E0,9.123661E-1,9.3579054E-2,1.08847015E-1,4.1486117E-1,5.5416107E-2,1.7954886E-2,3.4607837E-1,1.9985017E-1,0E0,0E0,0E0,0E0,2.0717573E-1,0E0,7.2975785E-2,9.728291E-2,2.4047041E-1,1.7215037E-1,0E0,0E0,0E0,0E0,0E0,0E0,0E0,0E0,0E0,0E0,0E0,3.454034E-2,6.872682E-2,0E0,0E0,0E0,0E0,0E0,0E0,0E0,0E0,0E0,0E0,0E0,0E0,0E0,0E0,0E0,0E0],\"parents\":[2147483647,0,0,1,1,2,2,3,3,4,4,5,5,6,6,7,7,8,8,9,9,10,10,11,11,12,12,13,13,15,15,16,16,17,17,18,18,19,19,20,20,21,21,22,22,23,23,24,24,25,25,30,30,32,32,33,33,34,34,35,35,47,47,48,48],\"right_children\":[2,4,6,8,10,12,14,16,18,20,22,24,26,28,-1,30,32,34,36,38,40,42,44,46,48,50,-1,-1,-1,-1,52,-1,54,56,58,60,-1,-1,-1,-1,-1,-1,-1,-1,-1,-1,-1,62,64,-1,-1,-1,-1,-1,-1,-1,-1,-1,-1,-1,-1,-1,-1,-1,-1],\"split_conditions\":[3.143317E-2,1.2867752E-2,3.1998935E-1,-3.763006E-1,-2.2547652E-1,-2.9944593E-1,8.4286666E-1,6.02781E-1,-3.660784E-1,-3.2266322E-1,1.4077473E-1,-6.401806E-1,-3.5790142E-1,-5.357061E-1,-3.1439042E-1,-5.6410617E-1,-5.2119523E-1,-6.575673E-1,-5.921563E-2,-3.525959E-1,-4.9021977E-1,-5.9682643E-1,-8.3966386E-1,1.0788014E-1,-6.1303204E-1,2.8544176E-1,-2.1253227E-1,-7.277092E-2,-2.25778E-1,2.482427E-1,-2.3670423E-1,1.5751468E-1,-7.3826575E-1,-8.944619E-1,5.562885E-1,-1.2654063E-1,-9.784029E-2,1.9289666E-1,4.3152474E-2,4.6458732E-2,-4.1095138E-2,4.4226464E-2,-1.13929704E-1,-8.0409154E-2,-2.2969869E-1,-4.0203854E-2,-1.2595727E-1,1.7566146E-1,1.0182257E-2,-1.028634E-1,2.2116233E-2,1.9371213E-1,6.901015E-2,4.4946164E-2,-3.0424919E-2,-2.569875E-2,3.3794995E-2,1.5167104E-1,3.0130668E-2,9.814017E-2,6.296909E-3,7.149644E-2,4.7718366E-3,-1.4644303E-2,-6.9895454E-2],\"split_indices\":[3,2,3,3,0,2,3,0,2,3,0,0,0,2,0,3,2,0,0,0,0,3,3,3,2,2,0,0,0,0,2,0,3,0,0,3,0,0,0,0,0,0,0,0,0,0,0,3,0,0,0,0,0,0,0,0,0,0,0,0,0,0,0,0,0],\"split_type\":[0,0,0,0,0,0,0,0,0,0,0,0,0,0,0,0,0,0,0,0,0,0,0,0,0,0,0,0,0,0,0,0,0,0,0,0,0,0,0,0,0,0,0,0,0,0,0,0,0,0,0,0,0,0,0,0,0,0,0,0,0,0,0,0,0],\"sum_hessian\":[2.3535371E2,1.4474098E2,9.061274E1,1.2062231E2,2.4118675E1,2.978742E1,6.082532E1,7.530034E1,4.5321968E1,9.496101E0,1.4622575E1,1.7335997E1,1.2451423E1,2.9380796E1,3.1444525E1,6.983401E1,5.4663324E0,3.4110924E1,1.12110405E1,6.24034E0,3.255761E0,4.567794E0,1.0054781E1,4.8705854E0,1.2465412E1,4.851119E0,7.6003036E0,1.3459343E0,2.8034863E1,4.9030865E1,2.080314E1,2.8025885E0,2.663744E0,8.115277E0,2.599565E1,7.5042706E0,3.70677E0,5.1066017E0,1.1337389E0,1.9835677E0,1.2721932E0,1.7555233E0,2.8122706E0,1.7166412E0,8.33814E0,1.5921581E0,3.2784271E0,3.9258287E0,8.539583E0,3.7375858E0,1.1135334E0,1.7948063E1,2.8550785E0,1.1922134E0,1.4715307E0,3.4468791E0,4.668398E0,2.3838224E1,2.1574233E0,4.5390015E0,2.9652693E0,2.8911092E0,1.0347196E0,5.5070734E0,3.0325096E0],\"tree_param\":{\"num_deleted\":\"0\",\"num_feature\":\"6\",\"num_nodes\":\"65\",\"size_leaf_vector\":\"0\"}},{\"base_weights\":[-4.9996176E-3,3.4825125E-1,-5.303346E-1,4.6548393E-1,-4.9735792E-2,-2.1137649E-1,-6.9124514E-1,5.91565E-1,2.7473283E-1,3.1230807E-1,-4.0440315E-1,-8.0680005E-2,-4.471773E-1,-5.8467716E-1,-2.6770717E-1,6.0024995E-1,2.4258677E-2,6.524961E-2,3.27635E-1,1.5386999E-1,9.097992E-2,-1.8427193E-1,-5.770855E-1,-9.658759E-2,-2.4053903E-2,-1.1269523E-1,-1.6926813E-1,-3.2040772E-1,-1.8635619E-1,4.5421526E-1,6.652118E-1,1.1583801E-1,-8.990147E-2,4.36732E-1,1.3865194E-1,2.318828E-1,-1.4133072E-1,6.6760495E-2,-3.0827597E-1,-7.135914E-2,-1.9247082E-1,1.2993738E-1,-1.01473026E-1,-6.462624E-2,3.160709E-2,-1.458204E-1,-4.9805637E-2,1.5150014E-1,7.9113804E-2,2.1179211E-1,9.247473E-2,1.561093E-2,5.2835777E-2,-3.8694564E-2,-2.040109E-3,4.590937E-2,1.4195205E-1,8.5382804E-2,-4.952478E-2,8.789693E-2,1.906241E-2,-2.7984604E-3,-5.8836788E-2,4.051321E-2,-7.890251E-3,-1.5045598E-2,-1.0524933E-1,-1.5758319E-2,6.452657E-2,-1.2328842E-2,-5.0327618E-2],\"categories\":[],\"categories_nodes\":[],\"categories_segments\":[],\"categories_sizes\":[],\"default_left\":[0,0,0,0,0,0,0,0,0,0,0,0,0,0,0,0,0,0,0,0,0,0,0,0,0,0,0,0,0,0,0,0,0,0,0,0,0,0,0,0,0,0,0,0,0,0,0,0,0,0,0,0,0,0,0,0,0,0,0,0,0,0,0,0,0,0,0,0,0,0,0],\"id\":2,\"left_children\":[1,3,5,7,9,11,13,15,17,19,21,23,25,27,-1,29,-1,31,33,-1,35,37,39,-1,41,43,-1,45,-1,47,49,51,53,55,57,59,61,63,65,-1,-1,67,69,-1,-1,-1,-1,-1,-1,-1,-1,-1,-1,-1,-1,-1,-1,-1,-1,-1,-1,-1,-1,-1,-1,-1,-1,-1,-1,-1,-1],\"loss_changes\":[4.246291E1,6.4070663E0,4.575491E0,2.3817234E0,4.2399874E0,9.5901334E-1,7.793484E-1,2.3011398E-1,4.658501E-1,6.822307E-1,5.253942E-1,2.927596E-1,3.786025E-1,2.1181202E-1,0E0,2.8240013E-1,0E0,8.978906E-2,6.5801334E-1,0E0,3.2806128E-1,2.937345E-1,4.0853262E-2,0E0,2.3844327E-1,1.1626822E-1,0E0,1.0432041E-1,0E0,8.086538E-2,3.7159348E-1,2.1847121E-2,9.027045E-3,1.5122414E-1,6.774365E-1,4.3041795E-2,2.7297407E-2,2.7212106E-2,4.8878133E-2,0E0,0E0,1.1632479E-1,4.567288E-2,0E0,0E0,0E0,0E0,0E0,0E0,0E0,0E0,0E0,0E0,0E0,0E0,0E0,0E0,0E0,0E0,0E0,0E0,0E0,0E0,0E0,0E0,0E0,0E0,0E0,0E0,0E0,0E0],\"parents\":[2147483647,0,0,1,1,2,2,3,3,4,4,5,5,6,6,7,7,8,8,9,9,10,10,11,11,12,12,13,13,15,15,17,17,18,18,20,20,21,21,22,22,24,24,25,25,27,27,29,29,30,30,31,31,32,32,33,33,34,34,35,35,36,36,37,37,38,38,41,41,42,42],\"right_children\":[2,4,6,8,10,12,14,16,18,20,22,24,26,28,-1,30,-1,32,34,-1,36,38,40,-1,42,44,-1,46,-1,48,50,52,54,56,58,60,62,64,66,-1,-1,68,70,-1,-1,-1,-1,-1,-1,-1,-1,-1,-1,-1,-1,-1,-1,-1,-1,-1,-1,-1,-1,-1,-1,-1,-1,-1,-1,-1,-1],\"split_conditions\":[-3.4784444E-3,-1.3610707E-1,2.8562555E-1,-4.222684E-1,-1.1463593E-1,-2.0800065E-1,1.2639475E0,1.5189737E0,-6.8744016E-1,-5.2575815E-1,3.153444E-1,-8.3789104E-1,-4.5870626E-1,-4.1653603E-1,-2.6770717E-1,-5.004473E-1,2.4258677E-2,-9.247566E-2,-5.10306E-1,1.5386999E-1,-4.1336432E-1,-6.726758E-1,2.3488908E-1,-9.658759E-2,-6.096062E-1,2.438913E-1,-1.6926813E-1,-6.634268E-1,-1.8635619E-1,-5.7735366E-1,-2.786707E-1,-5.391809E-1,-8.773948E-1,-5.308954E-1,1.7362818E-2,-1.9008873E-1,6.780344E-2,3.126937E-2,3.2107472E-2,-7.135914E-2,-1.9247082E-1,-4.083145E-1,1.5833016E-1,-6.462624E-2,3.160709E-2,-1.458204E-1,-4.9805637E-2,1.5150014E-1,7.9113804E-2,2.1179211E-1,9.247473E-2,1.561093E-2,5.2835777E-2,-3.8694564E-2,-2.040109E-3,4.590937E-2,1.4195205E-1,8.5382804E-2,-4.952478E-2,8.789693E-2,1.906241E-2,-2.7984604E-3,-5.8836788E-2,4.051321E-2,-7.890251E-3,-1.5045598E-2,-1.0524933E-1,-1.5758319E-2,6.452657E-2,-1.2328842E-2,-5.0327618E-2],\"split_indices\":[3,2,3,3,0,2,3,0,0,3,2,0,0,2,0,0,0,3,2,0,0,3,0,0,2,2,0,0,0,3,2,2,0,0,0,3,2,2,0,0,0,0,3,0,0,0,0,0,0,0,0,0,0,0,0,0,0,0,0,0,0,0,0,0,0,0,0,0,0,0,0],\"split_type\":[0,0,0,0,0,0,0,0,0,0,0,0,0,0,0,0,0,0,0,0,0,0,0,0,0,0,0,0,0,0,0,0,0,0,0,0,0,0,0,0,0,0,0,0,0,0,0,0,0,0,0,0,0,0,0,0,0,0,0,0,0,0,0,0,0,0,0,0,0,0,0],\"sum_hessian\":[2.2682277E2,1.3582625E2,9.099652E1,1.04789444E2,3.1036797E1,3.1288946E1,5.9707573E1,6.1824177E1,4.296527E1,1.5417783E1,1.5619014E1,2.0994534E1,1.0294413E1,4.15812E1,1.8126375E1,6.0617973E1,1.2062002E0,9.11296E0,3.385231E1,7.3967037E0,8.021079E0,7.77489E0,7.844124E0,3.1000044E0,1.789453E1,3.177415E0,7.116998E0,6.2339716E0,3.5347225E1,2.1123737E1,3.9494236E1,7.063295E0,2.0496652E0,2.063125E1,1.3221062E1,4.9939504E0,3.0271285E0,2.7233653E0,5.0515246E0,2.0018733E0,5.842251E0,5.7597256E0,1.2134804E1,2.168086E0,1.0093288E0,1.9708761E0,4.263096E0,1.5374292E1,5.749444E0,3.4569046E1,4.9251904E0,4.336634E0,2.7266605E0,1.0185558E0,1.0311096E0,2.9402757E0,1.7690975E1,8.9724045E0,4.248657E0,3.1207037E0,1.8732468E0,1.2312049E0,1.7959235E0,1.310592E0,1.4127731E0,1.0232687E0,4.028256E0,1.9545556E0,3.80517E0,7.198224E0,4.936579E0],\"tree_param\":{\"num_deleted\":\"0\",\"num_feature\":\"6\",\"num_nodes\":\"71\",\"size_leaf_vector\":\"0\"}},{\"base_weights\":[-5.694206E-3,2.8215772E-1,-3.784499E-1,3.4323144E-1,-1.6650404E-1,-1.4454561E-1,-5.3736633E-1,4.4738308E-1,2.2790335E-1,2.6451978E-1,-3.8001925E-1,-4.5315232E-2,-3.3905712E-1,-4.6121132E-1,-2.3413068E-1,1.4207777E-1,2.1576197E-1,2.7267203E-1,-1.447542E-2,1.0844753E-1,7.491596E-2,-1.0737851E-1,-4.6789375E-1,-1.7984171E-1,2.337745E-2,-1.1512027E-1,-1.4376795E-1,-2.5572726E-1,-4.86649E-1,3.4524697E-1,-6.27817E-2,3.288303E-1,1.2828206E-1,2.0485918E-1,-7.791662E-2,4.7109123E-2,-1.240329E-2,3.6015663E-2,-7.7718765E-2,-4.6710342E-2,-1.5048692E-1,-8.266442E-2,-9.222435E-2,1.1107944E-1,-9.829681E-2,-1.7584921E-1,1.33238705E-2,-1.19900726E-1,-1.267557E-1,-1.4947556E-1,-2.1273567E-1,1.1985094E-1,3.005396E-2,5.857046E-3,-3.5572764E-2,4.5532048E-2,1.11694366E-1,7.436794E-2,1.1533793E-2,7.281789E-2,6.7672743E-3,3.68677E-3,-3.432608E-2,4.092556E-2,-1.951193E-2,7.3874174E-3,-6.61232E-2,-6.674658E-3,-6.3350335E-2,-1.6801968E-2,-4.7627017E-2,1.8285887E-2,-1.11024134E-1],\"categories\":[],\"categories_nodes\":[],\"categories_segments\":[],\"categories_sizes\":[],\"default_left\":[0,0,0,0,0,0,0,0,0,0,0,0,0,0,0,0,0,0,0,0,0,0,0,0,0,0,0,0,0,0,0,0,0,0,0,0,0,0,0,0,0,0,0,0,0,0,0,0,0,0,0,0,0,0,0,0,0,0,0,0,0,0,0,0,0,0,0,0,0,0,0,0,0],\"id\":3,\"left_children\":[1,3,5,7,9,11,13,15,17,19,21,23,25,27,-1,-1,29,31,33,-1,35,37,39,41,43,45,-1,47,49,51,53,55,57,59,-1,-1,-1,-1,-1,-1,-1,-1,61,63,65,67,-1,-1,69,-1,71,-1,-1,-1,-1,-1,-1,-1,-1,-1,-1,-1,-1,-1,-1,-1,-1,-1,-1,-1,-1,-1,-1],\"loss_changes\":[2.3593733E1,3.4572897E0,3.4836063E0,1.2138577E0,1.5307336E0,7.591462E-1,6.892624E-1,2.4095249E-1,5.901382E-1,7.8413844E-2,2.0857716E-1,2.604181E-1,3.6548436E-1,1.1392021E-1,0E0,0E0,2.9516107E-1,3.2797837E-1,5.5733997E-1,0E0,3.7069835E-2,1.6671228E-1,4.7883987E-3,5.4141253E-2,2.1621771E-1,7.0543826E-2,0E0,8.1721544E-2,1.9454956E-2,3.0850649E-2,1.7250706E-2,1.9161558E-1,1.4544731E-1,3.2536924E-2,0E0,0E0,0E0,0E0,0E0,0E0,0E0,0E0,1.6382284E-2,6.0861662E-2,1.3435423E-1,2.1838218E-2,0E0,0E0,2.9393658E-3,0E0,1.6678457E-1,0E0,0E0,0E0,0E0,0E0,0E0,0E0,0E0,0E0,0E0,0E0,0E0,0E0,0E0,0E0,0E0,0E0,0E0,0E0,0E0,0E0,0E0],\"parents\":[2147483647,0,0,1,1,2,2,3,3,4,4,5,5,6,6,7,7,8,8,9,9,10,10,11,11,12,12,13,13,16,16,17,17,18,18,20,20,21,21,22,22,23,23,24,24,25,25,27,27,28,28,29,29,30,30,31,31,32,32,33,33,42,42,43,43,44,44,45,45,48,48,50,50],\"right_children\":[2,4,6,8,10,12,14,16,18,20,22,24,26,28,-1,-1,30,32,34,-1,36,38,40,42,44,46,-1,48,50,52,54,56,58,60,-1,-1,-1,-1,-1,-1,-1,-1,62,64,66,68,-1,-1,70,-1,72,-1,-1,-1,-1,-1,-1,-1,-1,-1,-1,-1,-1,-1,-1,-1,-1,-1,-1,-1,-1,-1,-1],\"split_conditions\":[-6.598069E-2,1.9081534E-1,2.8562555E-1,-5.2575815E-1,-2.9206184E-1,-2.1392244E-1,1.6584338E0,3.9252052E-1,2.0167099E-1,-4.9338648E-1,-7.3174167E-1,-5.731478E-1,-2.7181992E-1,-4.1653603E-1,-2.3413068E-1,1.4207777E-1,-3.293975E-1,-2.0443188E-1,-4.5348608E-1,1.0844753E-1,-6.345341E-1,3.6173147E-1,-6.562913E-2,-8.944619E-1,-5.10306E-1,2.8544176E-1,-1.4376795E-1,-6.634268E-1,1.251141E0,-5.2119523E-1,-7.579378E-1,-7.059775E-1,-6.3040596E-1,9.178947E-1,-7.791662E-2,4.7109123E-2,-1.240329E-2,3.6015663E-2,-7.7718765E-2,-4.6710342E-2,-1.5048692E-1,-8.266442E-2,-6.6902E-1,2.2372095E-1,-5.921563E-2,2.356436E-2,1.33238705E-2,-1.19900726E-1,-1.434221E-1,-1.4947556E-1,5.17958E-1,1.1985094E-1,3.005396E-2,5.857046E-3,-3.5572764E-2,4.5532048E-2,1.11694366E-1,7.436794E-2,1.1533793E-2,7.281789E-2,6.7672743E-3,3.68677E-3,-3.432608E-2,4.092556E-2,-1.951193E-2,7.3874174E-3,-6.61232E-2,-6.674658E-3,-6.3350335E-2,-1.6801968E-2,-4.7627017E-2,1.8285887E-2,-1.11024134E-1],\"split_indices\":[3,2,3,3,0,2,3,0,0,3,3,0,0,2,0,0,2,3,2,0,0,0,0,0,2,2,0,0,0,2,3,0,2,0,0,0,0,0,0,0,0,0,2,3,0,3,0,0,0,0,2,0,0,0,0,0,0,0,0,0,0,0,0,0,0,0,0,0,0,0,0,0,0],\"split_type\":[0,0,0,0,0,0,0,0,0,0,0,0,0,0,0,0,0,0,0,0,0,0,0,0,0,0,0,0,0,0,0,0,0,0,0,0,0,0,0,0,0,0,0,0,0,0,0,0,0,0,0,0,0,0,0,0,0,0,0,0,0,0,0,0,0,0,0,0,0,0,0,0,0],\"sum_hessian\":[2.1789366E2,1.2308623E2,9.480744E1,1.0854555E2,1.454068E1,3.912707E1,5.568037E1,5.5523552E1,5.3021996E1,4.7377295E0,9.80295E0,2.6725817E1,1.2401253E1,4.4603333E1,1.1077036E1,4.894088E1,6.5826697E0,4.464993E1,8.372066E0,2.53477E0,2.2029595E0,2.9310343E0,6.871916E0,8.48699E0,1.8238827E1,5.4752293E0,6.9260235E0,6.1309543E0,3.8472378E1,4.3302293E0,2.2524405E0,3.1227205E1,1.3422727E1,4.506442E0,3.8656237E0,1.0855542E0,1.1174054E0,1.2561443E0,1.67489E0,1.2176601E0,5.654256E0,3.0311246E0,5.4558654E0,1.0649683E1,7.589144E0,3.8915663E0,1.5836631E0,1.9054444E0,4.2255096E0,3.6123207E1,2.3491735E0,3.0293696E0,1.3008599E0,1.172661E0,1.0797794E0,7.042447E0,2.4184757E1,5.0026374E0,8.420089E0,3.4569256E0,1.0495162E0,1.0338968E0,4.4219685E0,9.50725E0,1.1424328E0,4.1799216E0,3.4092224E0,1.0322518E0,2.8593144E0,2.1725338E0,2.0529761E0,1.0811738E0,1.2679998E0],\"tree_param\":{\"num_deleted\":\"0\",\"num_feature\":\"6\",\"num_nodes\":\"73\",\"size_leaf_vector\":\"0\"}},{\"base_weights\":[-7.59015E-3,1.6357891E-1,-3.6811846E-1,2.4215102E-1,-6.557486E-2,-2.4016297E-1,-5.064854E-1,3.1909052E-1,5.0279547E-2,1.6688365E-1,-2.831971E-1,-1.8550803E-1,-3.3987755E-1,-4.1972223E-1,-1.9974472E-1,1.9641964E-1,3.7985387E-1,1.908315E-1,1.0739363E-3,2.6535356E-1,-4.8216093E-2,-7.8706816E-2,-3.7244496E-1,-2.2031198E-1,2.7055297E-2,-1.7821023E-1,-1.5408625E-1,-4.3557313E-1,-3.9870262E-2,2.8865236E-1,1.314596E-1,4.1778615E-1,1.4577405E-1,-2.3969173E-2,2.4711093E-1,4.178241E-2,-1.1071496E-1,1.1744972E-1,1.0904463E-1,3.827809E-2,-1.2644987E-1,5.115478E-2,-1.8732932E-1,-1.8747221E-1,-4.1812602E-1,-3.4884322E-1,-1.23796254E-1,6.6983536E-2,-1.117903E-1,-2.2856024E-1,1.0142624E-2,-4.5880756E-1,-3.6449704E-2,2.2725977E-2,9.3283735E-2,2.5548281E-2,5.678135E-2,1.3319895E-1,5.93726E-2,7.868716E-2,-2.174243E-2,7.988039E-2,1.993798E-2,-2.0691182E-2,3.7919987E-2,1.5207824E-2,-5.4600004E-2,6.307179E-2,-3.1557048E-3,-8.221676E-3,-4.7888286E-2,-7.931174E-3,2.7393965E-2,-4.513462E-3,-9.508864E-2,-9.340659E-3,-7.19622E-2,-1.31716E-1,-3.8307596E-2,-1.1159816E-1,-2.4552926E-2,-2.1753829E-2,-8.2660034E-2,-5.0985003E-3,-4.489894E-2,7.284368E-4,-8.251989E-2,-1.4201884E-1,-2.86593E-2],\"categories\":[],\"categories_nodes\":[],\"categories_segments\":[],\"categories_sizes\":[],\"default_left\":[0,0,0,0,0,0,0,0,0,0,0,0,0,0,0,0,0,0,0,0,0,0,0,0,0,0,0,0,0,0,0,0,0,0,0,0,0,0,0,0,0,0,0,0,0,0,0,0,0,0,0,0,0,0,0,0,0,0,0,0,0,0,0,0,0,0,0,0,0,0,0,0,0,0,0,0,0,0,0,0,0,0,0,0,0,0,0,0,0],\"id\":4,\"left_children\":[1,3,5,7,9,11,13,15,17,19,21,23,25,27,-1,29,31,33,35,37,39,41,43,45,47,49,-1,51,-1,53,55,57,59,-1,61,63,65,-1,67,-1,69,71,73,75,77,79,81,-1,83,85,-1,87,-1,-1,-1,-1,-1,-1,-1,-1,-1,-1,-1,-1,-1,-1,-1,-1,-1,-1,-1,-1,-1,-1,-1,-1,-1,-1,-1,-1,-1,-1,-1,-1,-1,-1,-1,-1,-1],\"loss_changes\":[1.3084839E1,2.6050856E0,1.086772E0,1.5679646E0,1.9445503E0,1.4057183E-1,1.6139984E-1,4.9487448E-1,2.2040312E-1,4.1021878E-1,3.3096993E-1,2.0079494E-1,2.4627757E-1,4.82831E-2,0E0,1.2609315E-1,3.832531E-1,1.4568597E-1,1.1672292E-1,2.1412998E-1,1.0881698E-1,1.12076536E-1,3.5475254E-2,2.389096E-1,1.501778E-1,9.057842E-2,0E0,1.02540016E-1,0E0,2.6176393E-2,3.1794965E-2,1.5712023E-1,2.3545402E-1,0E0,6.8321824E-3,1.8474612E-1,8.80367E-2,0E0,8.9362614E-2,0E0,1.2599766E-2,1.5173861E-2,8.8386685E-2,2.9245764E-2,4.6778917E-3,2.6436687E-2,9.314591E-2,0E0,9.511869E-3,6.9425106E-2,0E0,5.9902668E-2,0E0,0E0,0E0,0E0,0E0,0E0,0E0,0E0,0E0,0E0,0E0,0E0,0E0,0E0,0E0,0E0,0E0,0E0,0E0,0E0,0E0,0E0,0E0,0E0,0E0,0E0,0E0,0E0,0E0,0E0,0E0,0E0,0E0,0E0,0E0,0E0,0E0],\"parents\":[2147483647,0,0,1,1,2,2,3,3,4,4,5,5,6,6,7,7,8,8,9,9,10,10,11,11,12,12,13,13,15,15,16,16,17,17,18,18,19,19,20,20,21,21,22,22,23,23,24,24,25,25,27,27,29,29,30,30,31,31,32,32,34,34,35,35,36,36,38,38,40,40,41,41,42,42,43,43,44,44,45,45,46,46,48,48,49,49,51,51],\"right_children\":[2,4,6,8,10,12,14,16,18,20,22,24,26,28,-1,30,32,34,36,38,40,42,44,46,48,50,-1,52,-1,54,56,58,60,-1,62,64,66,-1,68,-1,70,72,74,76,78,80,82,-1,84,86,-1,88,-1,-1,-1,-1,-1,-1,-1,-1,-1,-1,-1,-1,-1,-1,-1,-1,-1,-1,-1,-1,-1,-1,-1,-1,-1,-1,-1,-1,-1,-1,-1,-1,-1,-1,-1,-1,-1],\"split_conditions\":[1.2481301E-1,-1.7643403E-1,6.5172434E-1,-2.0443188E-1,-1.5469366E-1,1.0182257E-2,1.8125728E0,-5.004473E-1,-6.9774806E-1,-2.2524935E-1,-6.4702743E-1,2.0336857E-1,1.2867752E-2,1.181253E0,-1.9974472E-1,-7.110736E-1,-3.293975E-1,-8.2250714E-1,1.0182257E-2,-5.308954E-1,-7.309923E-1,3.6173147E-1,9.664729E-2,-6.575673E-1,-6.0593975E-1,7.681044E-1,-1.5408625E-1,1.1592495E0,-3.9870262E-2,-7.807266E-1,-6.634268E-1,5.152719E-1,4.6830818E-2,-2.3969173E-2,2.1264426E-1,-5.415491E-1,-5.7109004E-1,1.1744972E-1,-6.2815225E-1,3.827809E-2,3.8382336E-3,-4.1271576E-1,6.118258E-1,-3.8287455E-1,1.7733829E0,-6.193777E-2,-6.967037E-2,6.6983536E-2,-3.2766634E-1,-5.5337363E-1,1.0142624E-2,6.52704E-1,-3.6449704E-2,2.2725977E-2,9.3283735E-2,2.5548281E-2,5.678135E-2,1.3319895E-1,5.93726E-2,7.868716E-2,-2.174243E-2,7.988039E-2,1.993798E-2,-2.0691182E-2,3.7919987E-2,1.5207824E-2,-5.4600004E-2,6.307179E-2,-3.1557048E-3,-8.221676E-3,-4.7888286E-2,-7.931174E-3,2.7393965E-2,-4.513462E-3,-9.508864E-2,-9.340659E-3,-7.19622E-2,-1.31716E-1,-3.8307596E-2,-1.1159816E-1,-2.4552926E-2,-2.1753829E-2,-8.2660034E-2,-5.0985003E-3,-4.489894E-2,7.284368E-4,-8.251989E-2,-1.4201884E-1,-2.86593E-2],\"split_indices\":[3,2,3,3,0,0,3,0,2,3,3,2,2,0,0,3,2,0,0,0,0,0,0,0,0,0,0,2,0,2,0,0,0,0,0,0,2,0,3,0,2,1,2,3,0,2,2,0,0,2,0,0,0,0,0,0,0,0,0,0,0,0,0,0,0,0,0,0,0,0,0,0,0,0,0,0,0,0,0,0,0,0,0,0,0,0,0,0,0],\"split_type\":[0,0,0,0,0,0,0,0,0,0,0,0,0,0,0,0,0,0,0,0,0,0,0,0,0,0,0,0,0,0,0,0,0,0,0,0,0,0,0,0,0,0,0,0,0,0,0,0,0,0,0,0,0,0,0,0,0,0,0,0,0,0,0,0,0,0,0,0,0,0,0,0,0,0,0,0,0,0,0,0,0,0,0,0,0,0,0,0,0],\"sum_hessian\":[2.1005736E2,1.4280412E2,6.725324E1,1.0629949E2,3.6504627E1,3.636252E1,3.089072E1,7.540102E1,3.0898472E1,1.7763384E1,1.8741241E1,2.5335936E1,1.1026584E1,2.2352808E1,8.537913E0,2.6378944E1,4.9022076E1,7.2658625E0,2.363261E1,1.2024905E1,5.7384787E0,6.266024E0,1.2475218E1,2.1739908E1,3.5960262E0,6.761111E0,4.2654724E0,2.0690733E1,1.6620746E0,9.478075E0,1.690087E1,4.1510548E1,7.5115266E0,1.1782608E0,6.087602E0,1.778306E1,5.84955E0,5.8218594E0,6.203046E0,1.5728922E0,4.1655865E0,3.094961E0,3.1710632E0,3.481558E0,8.99366E0,8.202357E0,1.3537551E1,1.2381327E0,2.3578935E0,5.400572E0,1.360539E0,1.8836433E1,1.8542992E0,1.3152856E0,8.162789E0,1.0758195E1,6.1426735E0,3.6178616E1,5.3319345E0,4.7655478E0,2.7459788E0,5.0754437E0,1.0121583E0,7.782164E0,1.00008955E1,1.880496E0,3.969054E0,2.94885E0,3.2541957E0,1.5034413E0,2.6621451E0,1.1720545E0,1.9229063E0,1.840741E0,1.3303221E0,1.2742125E0,2.2073457E0,7.9118547E0,1.0818053E0,7.186046E0,1.0163112E0,1.1222502E1,2.31505E0,1.0866808E0,1.2712126E0,1.0639392E0,4.3366327E0,1.7817774E1,1.0186596E0],\"tree_param\":{\"num_deleted\":\"0\",\"num_feature\":\"6\",\"num_nodes\":\"89\",\"size_leaf_vector\":\"0\"}}]},\"name\":\"gbtree\"},\"learner_model_param\":{\"base_score\":\"5E-1\",\"num_class\":\"0\",\"num_feature\":\"6\",\"num_target\":\"1\"},\"objective\":{\"name\":\"binary:logistic\",\"reg_loss_param\":{\"scale_pos_weight\":\"1\"}}},\"version\":[1,6,1]}"
          ]
        }
      ],
      "source": [
        "#WARNING : StandardScaler has not been saved\n",
        "# one can look into sklearn pipeline\n",
        "if False:\n",
        "    import joblib\n",
        "    myxgb = XGBClassifier(tree_method=\"hist\",use_label_encoder=False,eval_metric='logloss',n_estimators=5)\n",
        "    myxgb.fit(X_train, y_train, sample_weight=weights_train)\n",
        "\n",
        "    auc_test_xgb = roc_auc_score(y_true=y_test, y_score=myxgb.predict_proba(X_test)[:,1],sample_weight=weights_test)\n",
        " \n",
        "    # save model\n",
        "    myxgb.save_model(\"XGBoost.json\")\n",
        "\n",
        "\n",
        "    # save python object\n",
        "    joblib.dump(myxgb, \"myxgb.dat\")\n",
        "\n",
        "    print (\"myxgb score\",auc_test_xgb)\n",
        "\n",
        "    del myxgb # delete xgb object\n",
        "\n",
        "    # reload model\n",
        "    myxgb_reloaded_from_model =XGBClassifier()\n",
        "    myxgb_reloaded_from_model.load_model(\"XGBoost.json\")\n",
        "    print (\"myxgb reloaded from model\",\n",
        "           roc_auc_score(y_true=y_test, \n",
        "                         y_score=myxgb_reloaded_from_model.predict_proba(X_test)[:,1],sample_weight=weights_test)\n",
        "          )\n",
        "\n",
        "\n",
        "    # reload object\n",
        "    myxgb_reloaded_from_joblib=joblib.load(\"myxgb.dat\")\n",
        "    print (\"myxgb reloaded from object\",\n",
        "           roc_auc_score(y_true=y_test, \n",
        "                         y_score=myxgb_reloaded_from_joblib.predict_proba(X_test)[:,1],sample_weight=weights_test)\n",
        "          )\n",
        "    # dump json file\n",
        "    !python -m json.tool XGBoost.json\n",
        "\n",
        "\n",
        "\n",
        "\n",
        "\n"
      ]
    },
    {
      "cell_type": "code",
      "source": [
        ""
      ],
      "metadata": {
        "id": "L50Q4Va9sHAu"
      },
      "execution_count": null,
      "outputs": []
    }
  ],
  "metadata": {
    "colab": {
      "collapsed_sections": [],
      "name": "HEPML_HandsOn_BDT.ipynb",
      "provenance": []
    },
    "kernelspec": {
      "display_name": "Python 3",
      "language": "python",
      "name": "python3"
    },
    "language_info": {
      "codemirror_mode": {
        "name": "ipython",
        "version": 3
      },
      "file_extension": ".py",
      "mimetype": "text/x-python",
      "name": "python",
      "nbconvert_exporter": "python",
      "pygments_lexer": "ipython3",
      "version": "3.8.8"
    }
  },
  "nbformat": 4,
  "nbformat_minor": 0
}