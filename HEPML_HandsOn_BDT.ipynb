{
 "cells": [
  {
   "cell_type": "markdown",
   "metadata": {
    "colab_type": "text",
    "id": "view-in-github"
   },
   "source": [
    "<a href=\"https://colab.research.google.com/github/dhrou/HEPMLtutorials/blob/master/HEPML_HandsOn_BDT.ipynb\" target=\"_parent\"><img src=\"https://colab.research.google.com/assets/colab-badge.svg\" alt=\"Open In Colab\"/></a>"
   ]
  },
  {
   "cell_type": "markdown",
   "metadata": {
    "id": "ZT7AoY8sKwp1"
   },
   "source": [
    "# Hands on:introduction to BDT on HEP dataset"
   ]
  },
  {
   "cell_type": "markdown",
   "metadata": {
    "id": "eT7-MMpfrlHR"
   },
   "source": [
    "## Standard Imports"
   ]
  },
  {
   "cell_type": "code",
   "execution_count": 1,
   "metadata": {
    "id": "QdmaHjz-xCm-"
   },
   "outputs": [],
   "source": [
    "COLAB=True #if running on https://colab.research.google.com/notebooks/welcome.ipynb\n",
    "#COLAB=False #if running on local computer, for example with Anaconda installation https://docs.anaconda.com/anaconda/install/\n",
    "\n",
    "#fullrun=True #if run all modules (slow!)\n",
    "fullrun=False #if run a subset to get started\n"
   ]
  },
  {
   "cell_type": "code",
   "execution_count": 2,
   "metadata": {
    "id": "xy-_72FJKwp6"
   },
   "outputs": [],
   "source": [
    "import os\n",
    "import numpy as np\n",
    "import pandas as pd\n",
    "pd.set_option('display.max_columns', 100) # to see more columns of df.head()\n",
    "\n",
    "import matplotlib.pyplot as plt\n",
    "%matplotlib inline\n",
    "#increase default plot size\n",
    "plt.rcParams['figure.figsize'] = [1.5*i for i in plt.rcParams['figure.figsize']] \n",
    "\n",
    "from IPython.display import display, HTML\n",
    "\n",
    "# Set the height for the scrollable output windo\n",
    "#display(HTML(\"<style>.output_scroll { height: 800px; }</style>\"))\n",
    "\n",
    "import time\n",
    "np.random.seed(31415) # set the np random seed for the reproducibility\n"
   ]
  },
  {
   "cell_type": "code",
   "execution_count": 3,
   "metadata": {
    "id": "oF367-yfKwp9"
   },
   "outputs": [
    {
     "name": "stdout",
     "output_type": "stream",
     "text": [
      "running .zshenv\n",
      "Requirement already satisfied: xgboost in /opt/anaconda3/lib/python3.9/site-packages (2.0.3)\n",
      "Requirement already satisfied: numpy in /opt/anaconda3/lib/python3.9/site-packages (from xgboost) (1.22.4)\n",
      "Requirement already satisfied: scipy in /opt/anaconda3/lib/python3.9/site-packages (from xgboost) (1.6.3)\n",
      "Note: you may need to restart the kernel to use updated packages.\n",
      "running .zshenv\n",
      "Requirement already satisfied: lightgbm in /opt/anaconda3/lib/python3.9/site-packages (3.2.1)\n",
      "Requirement already satisfied: wheel in /opt/anaconda3/lib/python3.9/site-packages (from lightgbm) (0.37.1)\n",
      "Requirement already satisfied: numpy in /opt/anaconda3/lib/python3.9/site-packages (from lightgbm) (1.22.4)\n",
      "Requirement already satisfied: scipy in /opt/anaconda3/lib/python3.9/site-packages (from lightgbm) (1.6.3)\n",
      "Requirement already satisfied: scikit-learn!=0.22.0 in /opt/anaconda3/lib/python3.9/site-packages (from lightgbm) (1.4.2)\n",
      "Requirement already satisfied: joblib>=1.2.0 in /opt/anaconda3/lib/python3.9/site-packages (from scikit-learn!=0.22.0->lightgbm) (1.4.2)\n",
      "Requirement already satisfied: threadpoolctl>=2.0.0 in /opt/anaconda3/lib/python3.9/site-packages (from scikit-learn!=0.22.0->lightgbm) (2.2.0)\n",
      "Note: you may need to restart the kernel to use updated packages.\n",
      "2.0.3\n",
      "3.2.1\n",
      "1.4.2\n"
     ]
    }
   ],
   "source": [
    "# Fix environment if necessary\n",
    "\n",
    "if COLAB:\n",
    "    #!pip install xgboost --upgrade #  maybe be needed as Colab is not always uptodate\n",
    "    pass\n",
    "else:\n",
    "    # install xgboost and lighgbm, two popular Boosted Decision Tree packages\n",
    "    # the following need to be done only once. To be commented out later\n",
    "    %pip install xgboost\n",
    "    %pip install lightgbm\n",
    "    pass\n",
    "\n",
    "import xgboost\n",
    "print (xgboost.__version__) # Tested with 2.0.3\n",
    "import lightgbm\n",
    "print (lightgbm.__version__) # Tested with 4.1.0\n",
    "import sklearn\n",
    "print (sklearn.__version__) # Tested with 1.2.2\n",
    "\n",
    "\n"
   ]
  },
  {
   "cell_type": "code",
   "execution_count": 4,
   "metadata": {
    "id": "IsChk6u-r7fk",
    "scrolled": true
   },
   "outputs": [],
   "source": [
    "if COLAB:\n",
    "    #### Reading files from Google Drive\n",
    "    # one need a google account to be identified\n",
    "    # select a google account, then cut and paste the long password in the pop up field\n",
    "    #!pip install PyDrive\n",
    "    import os\n",
    "    from pydrive2.auth import GoogleAuth\n",
    "    from pydrive2.drive import GoogleDrive\n",
    "    from google.colab import auth\n",
    "    from oauth2client.client import GoogleCredentials\n",
    "    auth.authenticate_user()\n",
    "    gauth = GoogleAuth()\n",
    "    gauth.credentials = GoogleCredentials.get_application_default()\n",
    "    drive = GoogleDrive(gauth)"
   ]
  },
  {
   "cell_type": "markdown",
   "metadata": {
    "id": "g14yIjbPKwqC"
   },
   "source": [
    "# Load events"
   ]
  },
  {
   "cell_type": "code",
   "execution_count": 5,
   "metadata": {
    "id": "kl-4W4Ifs8EV"
   },
   "outputs": [
    {
     "name": "stdout",
     "output_type": "stream",
     "text": [
      "running .zshenv\n",
      "total 20816\n",
      "-rw-r--r--@ 1 rousseau  staff    62976 15 mai 08:33 PreProcessingMerge.ipynb\n",
      "-rw-r--r--@ 1 rousseau  staff    17437 15 mai 08:33 logo-SOS.jpg\n",
      "-rw-r--r--@ 1 rousseau  staff    21226 15 mai 08:33 higgsml_syst.py\n",
      "-rw-r--r--@ 1 rousseau  staff    81894 15 mai 08:33 Save_a_copy_in_GDrive.png\n",
      "-rw-r--r--@ 1 rousseau  staff     7492 15 mai 08:33 ST4PNT_ML_EI.ipynb\n",
      "-rw-r--r--@ 1 rousseau  staff    42134 15 mai 08:33 SOS_Welcome_To_Colaboratory.ipynb\n",
      "-rw-r--r--@ 1 rousseau  staff       17 15 mai 08:33 README.md\n",
      "-rw-r--r--@ 1 rousseau  staff    99627 15 mai 08:33 PreProcessingUR.ipynb\n",
      "-rw-r--r--@ 1 rousseau  staff    18810 15 mai 08:33 HEPML_HandsOn_install_check.ipynb\n",
      "-rw-r--r--@ 1 rousseau  staff  8946709 15 mai 08:33 HEPML_HandsOn_NN.ipynb\n",
      "lrwxr-xr-x@ 1 rousseau  staff      108 15 mai 08:33 \u001b[35mdataWW_d1_600k.csv.gz\u001b[m\u001b[m@ -> /Users/rousseau/Google Drive/Mon Drive/GD_openData/dataWW_ATLAS_openData13TeV_filtered/dataWW_d1_600k.csv.gz\n",
      "-rw-r--r--@ 1 rousseau  staff    16631 19 mai 08:28 Score_BDT_XGBoost_Hist.pdf\n",
      "-rw-r--r--@ 1 rousseau  staff    17260 19 mai 08:28 Score_BDT_LightGBM.pdf\n",
      "-rw-r--r--@ 1 rousseau  staff    16129 19 mai 08:28 Score_BDT_sklearn.pdf\n",
      "-rw-r--r--@ 1 rousseau  staff    91270 19 mai 08:28 ROC_comparing.pdf\n",
      "-rw-r--r--@ 1 rousseau  staff    16946 19 mai 08:28 Significance_comparing.pdf\n",
      "-rw-r--r--@ 1 rousseau  staff   378587 19 mai 08:29 XGBoost.json\n",
      "-rw-r--r--@ 1 rousseau  staff   261066 19 mai 08:29 myxgb.dat\n",
      "-rw-r--r--@ 1 rousseau  staff   518125 24 mai 10:06 HEPML_HandsOn_BDT.ipynb\n",
      "Will take data from :  \n",
      "Will read file: dataWW_d1_600k.csv.gz\n",
      "now : 2024-05-24 10:06:31.167202\n",
      "File loaded with  600000  events \n"
     ]
    }
   ],
   "source": [
    "if COLAB:\n",
    "\n",
    "    #attach dataset from google drive\n",
    "    download = drive.CreateFile({'id': '1nlXp7P-xq_jip4aPE0j0mnPhYnIOcBv4'})\n",
    "    download.GetContentFile(\"dataWW_d1_600k.csv.gz\")\n",
    "\n",
    "\n",
    "    datapath=\"\"\n",
    "\n",
    "\n",
    "    !ls -lrt\n",
    "else :\n",
    "    # make sure the file is available locally.\n",
    "    #Should be downloaded from https://drive.google.com/open?id=1nlXp7P-xq_jip4aPE0j0mnPhYnIOcBv4\n",
    "    %ls -lrt # what is in the local directory\n",
    "    datapath=\"\" # if in same directory (really or soft link), otherwise use proper path\n",
    "    print (\"Will take data from : \",datapath)\n",
    "\n",
    "filename=os.path.join(datapath,\"dataWW_d1_600k.csv.gz\")\n",
    "print(\"Will read file:\",filename)\n",
    "#load data\n",
    "# data was created from ATLAS Open Data see doc\n",
    "# http://opendata.atlas.cern/release/2020/documentation/datasets/intro.html\n",
    "dfall = pd.read_csv(filename)\n",
    "\n",
    "#shuffle the events, already done but just to be safe\n",
    "dfall = dfall.sample(frac=1).reset_index(drop=True)\n",
    "from datetime import datetime\n",
    "print (\"now :\",datetime.now())\n",
    "print (\"File loaded with \",dfall.shape[0], \" events \")\n",
    "\n"
   ]
  },
  {
   "cell_type": "markdown",
   "metadata": {
    "id": "Uf9Gt8g8KwqF"
   },
   "source": [
    "At this point, it should tell you \"File Loaded with 600000 events\". If not, it could not access the datafile, no point going further !"
   ]
  },
  {
   "cell_type": "markdown",
   "metadata": {
    "id": "67cCYsYIKwqG"
   },
   "source": [
    "# Examine dataset"
   ]
  },
  {
   "cell_type": "code",
   "execution_count": 6,
   "metadata": {
    "id": "sx1_PB22KwqG"
   },
   "outputs": [
    {
     "data": {
      "text/plain": [
       "Index(['eventNumber', 'label', 'met_et', 'met_phi', 'lep_n', 'lep_pt_0',\n",
       "       'lep_pt_1', 'lep_eta_0', 'lep_eta_1', 'lep_phi_0', 'lep_phi_1',\n",
       "       'lep_E_0', 'lep_E_1', 'lep_charge_0', 'lep_charge_1', 'lep_type_0',\n",
       "       'lep_type_1', 'jet_n', 'jet_pt_0', 'jet_pt_1', 'jet_eta_0', 'jet_eta_1',\n",
       "       'jet_phi_0', 'jet_phi_1', 'jet_E_0', 'jet_E_1', 'mcWeight', 'runNumber',\n",
       "       'channelNumber'],\n",
       "      dtype='object')"
      ]
     },
     "execution_count": 6,
     "metadata": {},
     "output_type": "execute_result"
    }
   ],
   "source": [
    "#dump list of feature\n",
    "dfall.columns"
   ]
  },
  {
   "cell_type": "code",
   "execution_count": 7,
   "metadata": {
    "id": "Kl5MAys-yd0R"
   },
   "outputs": [],
   "source": [
    "dfall.mcWeight*=4 # arbitrary scale to have larger significance (this is a hack)"
   ]
  },
  {
   "cell_type": "code",
   "execution_count": 8,
   "metadata": {
    "id": "j9l7wkkorlHe"
   },
   "outputs": [
    {
     "data": {
      "text/html": [
       "<div>\n",
       "<style scoped>\n",
       "    .dataframe tbody tr th:only-of-type {\n",
       "        vertical-align: middle;\n",
       "    }\n",
       "\n",
       "    .dataframe tbody tr th {\n",
       "        vertical-align: top;\n",
       "    }\n",
       "\n",
       "    .dataframe thead th {\n",
       "        text-align: right;\n",
       "    }\n",
       "</style>\n",
       "<table border=\"1\" class=\"dataframe\">\n",
       "  <thead>\n",
       "    <tr style=\"text-align: right;\">\n",
       "      <th></th>\n",
       "      <th>eventNumber</th>\n",
       "      <th>label</th>\n",
       "      <th>met_et</th>\n",
       "      <th>met_phi</th>\n",
       "      <th>lep_n</th>\n",
       "      <th>lep_pt_0</th>\n",
       "      <th>lep_pt_1</th>\n",
       "      <th>lep_eta_0</th>\n",
       "      <th>lep_eta_1</th>\n",
       "      <th>lep_phi_0</th>\n",
       "      <th>lep_phi_1</th>\n",
       "      <th>lep_E_0</th>\n",
       "      <th>lep_E_1</th>\n",
       "      <th>lep_charge_0</th>\n",
       "      <th>lep_charge_1</th>\n",
       "      <th>lep_type_0</th>\n",
       "      <th>lep_type_1</th>\n",
       "      <th>jet_n</th>\n",
       "      <th>jet_pt_0</th>\n",
       "      <th>jet_pt_1</th>\n",
       "      <th>jet_eta_0</th>\n",
       "      <th>jet_eta_1</th>\n",
       "      <th>jet_phi_0</th>\n",
       "      <th>jet_phi_1</th>\n",
       "      <th>jet_E_0</th>\n",
       "      <th>jet_E_1</th>\n",
       "      <th>mcWeight</th>\n",
       "      <th>runNumber</th>\n",
       "      <th>channelNumber</th>\n",
       "    </tr>\n",
       "  </thead>\n",
       "  <tbody>\n",
       "    <tr>\n",
       "      <th>0</th>\n",
       "      <td>402756</td>\n",
       "      <td>1</td>\n",
       "      <td>25.609</td>\n",
       "      <td>0.42452</td>\n",
       "      <td>2</td>\n",
       "      <td>48.295</td>\n",
       "      <td>15.214</td>\n",
       "      <td>0.73991</td>\n",
       "      <td>2.27420</td>\n",
       "      <td>-2.316400</td>\n",
       "      <td>-1.39410</td>\n",
       "      <td>62129.0</td>\n",
       "      <td>74721.0</td>\n",
       "      <td>-1</td>\n",
       "      <td>1</td>\n",
       "      <td>13</td>\n",
       "      <td>11</td>\n",
       "      <td>2</td>\n",
       "      <td>26.32</td>\n",
       "      <td>20.064</td>\n",
       "      <td>-1.1350</td>\n",
       "      <td>-2.07540</td>\n",
       "      <td>-2.8092</td>\n",
       "      <td>2.0740</td>\n",
       "      <td>45397.0</td>\n",
       "      <td>81304.0</td>\n",
       "      <td>0.000008</td>\n",
       "      <td>284500</td>\n",
       "      <td>345323</td>\n",
       "    </tr>\n",
       "    <tr>\n",
       "      <th>1</th>\n",
       "      <td>101274</td>\n",
       "      <td>0</td>\n",
       "      <td>196.560</td>\n",
       "      <td>1.31140</td>\n",
       "      <td>2</td>\n",
       "      <td>69.459</td>\n",
       "      <td>21.081</td>\n",
       "      <td>-0.52666</td>\n",
       "      <td>0.22380</td>\n",
       "      <td>0.023132</td>\n",
       "      <td>-0.67855</td>\n",
       "      <td>79317.0</td>\n",
       "      <td>21611.0</td>\n",
       "      <td>-1</td>\n",
       "      <td>1</td>\n",
       "      <td>13</td>\n",
       "      <td>13</td>\n",
       "      <td>2</td>\n",
       "      <td>192.12</td>\n",
       "      <td>36.217</td>\n",
       "      <td>-1.2643</td>\n",
       "      <td>-0.69746</td>\n",
       "      <td>-2.2147</td>\n",
       "      <td>-1.9152</td>\n",
       "      <td>367670.0</td>\n",
       "      <td>45733.0</td>\n",
       "      <td>0.001153</td>\n",
       "      <td>284500</td>\n",
       "      <td>363492</td>\n",
       "    </tr>\n",
       "    <tr>\n",
       "      <th>2</th>\n",
       "      <td>468437</td>\n",
       "      <td>1</td>\n",
       "      <td>45.653</td>\n",
       "      <td>-2.76860</td>\n",
       "      <td>2</td>\n",
       "      <td>45.927</td>\n",
       "      <td>22.822</td>\n",
       "      <td>-1.61910</td>\n",
       "      <td>-2.00770</td>\n",
       "      <td>1.901700</td>\n",
       "      <td>-0.11248</td>\n",
       "      <td>120480.0</td>\n",
       "      <td>86498.0</td>\n",
       "      <td>-1</td>\n",
       "      <td>1</td>\n",
       "      <td>11</td>\n",
       "      <td>11</td>\n",
       "      <td>0</td>\n",
       "      <td>-7.00</td>\n",
       "      <td>-7.000</td>\n",
       "      <td>-7.0000</td>\n",
       "      <td>-7.00000</td>\n",
       "      <td>-7.0000</td>\n",
       "      <td>-7.0000</td>\n",
       "      <td>-7.0</td>\n",
       "      <td>-7.0</td>\n",
       "      <td>0.000116</td>\n",
       "      <td>284500</td>\n",
       "      <td>345324</td>\n",
       "    </tr>\n",
       "    <tr>\n",
       "      <th>3</th>\n",
       "      <td>272337</td>\n",
       "      <td>1</td>\n",
       "      <td>49.415</td>\n",
       "      <td>-0.57805</td>\n",
       "      <td>2</td>\n",
       "      <td>45.929</td>\n",
       "      <td>14.263</td>\n",
       "      <td>1.55280</td>\n",
       "      <td>0.12809</td>\n",
       "      <td>2.254700</td>\n",
       "      <td>-2.54810</td>\n",
       "      <td>113360.0</td>\n",
       "      <td>14380.0</td>\n",
       "      <td>-1</td>\n",
       "      <td>1</td>\n",
       "      <td>13</td>\n",
       "      <td>13</td>\n",
       "      <td>0</td>\n",
       "      <td>-7.00</td>\n",
       "      <td>-7.000</td>\n",
       "      <td>-7.0000</td>\n",
       "      <td>-7.00000</td>\n",
       "      <td>-7.0000</td>\n",
       "      <td>-7.0000</td>\n",
       "      <td>-7.0</td>\n",
       "      <td>-7.0</td>\n",
       "      <td>0.000116</td>\n",
       "      <td>284500</td>\n",
       "      <td>345324</td>\n",
       "    </tr>\n",
       "    <tr>\n",
       "      <th>4</th>\n",
       "      <td>354546</td>\n",
       "      <td>1</td>\n",
       "      <td>71.988</td>\n",
       "      <td>-2.60390</td>\n",
       "      <td>2</td>\n",
       "      <td>62.029</td>\n",
       "      <td>21.453</td>\n",
       "      <td>-0.51082</td>\n",
       "      <td>-0.38177</td>\n",
       "      <td>0.236200</td>\n",
       "      <td>1.40820</td>\n",
       "      <td>70300.0</td>\n",
       "      <td>23036.0</td>\n",
       "      <td>-1</td>\n",
       "      <td>1</td>\n",
       "      <td>11</td>\n",
       "      <td>13</td>\n",
       "      <td>0</td>\n",
       "      <td>-7.00</td>\n",
       "      <td>-7.000</td>\n",
       "      <td>-7.0000</td>\n",
       "      <td>-7.00000</td>\n",
       "      <td>-7.0000</td>\n",
       "      <td>-7.0000</td>\n",
       "      <td>-7.0</td>\n",
       "      <td>-7.0</td>\n",
       "      <td>0.000008</td>\n",
       "      <td>284500</td>\n",
       "      <td>345323</td>\n",
       "    </tr>\n",
       "  </tbody>\n",
       "</table>\n",
       "</div>"
      ],
      "text/plain": [
       "   eventNumber  label   met_et  met_phi  lep_n  lep_pt_0  lep_pt_1  lep_eta_0  \\\n",
       "0       402756      1   25.609  0.42452      2    48.295    15.214    0.73991   \n",
       "1       101274      0  196.560  1.31140      2    69.459    21.081   -0.52666   \n",
       "2       468437      1   45.653 -2.76860      2    45.927    22.822   -1.61910   \n",
       "3       272337      1   49.415 -0.57805      2    45.929    14.263    1.55280   \n",
       "4       354546      1   71.988 -2.60390      2    62.029    21.453   -0.51082   \n",
       "\n",
       "   lep_eta_1  lep_phi_0  lep_phi_1   lep_E_0  lep_E_1  lep_charge_0  \\\n",
       "0    2.27420  -2.316400   -1.39410   62129.0  74721.0            -1   \n",
       "1    0.22380   0.023132   -0.67855   79317.0  21611.0            -1   \n",
       "2   -2.00770   1.901700   -0.11248  120480.0  86498.0            -1   \n",
       "3    0.12809   2.254700   -2.54810  113360.0  14380.0            -1   \n",
       "4   -0.38177   0.236200    1.40820   70300.0  23036.0            -1   \n",
       "\n",
       "   lep_charge_1  lep_type_0  lep_type_1  jet_n  jet_pt_0  jet_pt_1  jet_eta_0  \\\n",
       "0             1          13          11      2     26.32    20.064    -1.1350   \n",
       "1             1          13          13      2    192.12    36.217    -1.2643   \n",
       "2             1          11          11      0     -7.00    -7.000    -7.0000   \n",
       "3             1          13          13      0     -7.00    -7.000    -7.0000   \n",
       "4             1          11          13      0     -7.00    -7.000    -7.0000   \n",
       "\n",
       "   jet_eta_1  jet_phi_0  jet_phi_1   jet_E_0  jet_E_1  mcWeight  runNumber  \\\n",
       "0   -2.07540    -2.8092     2.0740   45397.0  81304.0  0.000008     284500   \n",
       "1   -0.69746    -2.2147    -1.9152  367670.0  45733.0  0.001153     284500   \n",
       "2   -7.00000    -7.0000    -7.0000      -7.0     -7.0  0.000116     284500   \n",
       "3   -7.00000    -7.0000    -7.0000      -7.0     -7.0  0.000116     284500   \n",
       "4   -7.00000    -7.0000    -7.0000      -7.0     -7.0  0.000008     284500   \n",
       "\n",
       "   channelNumber  \n",
       "0         345323  \n",
       "1         363492  \n",
       "2         345324  \n",
       "3         345324  \n",
       "4         345323  "
      ]
     },
     "metadata": {},
     "output_type": "display_data"
    }
   ],
   "source": [
    "#examine first few events\n",
    "display(dfall.head())\n",
    "\n"
   ]
  },
  {
   "cell_type": "code",
   "execution_count": 9,
   "metadata": {
    "id": "Oz-lWJhgrlHg"
   },
   "outputs": [
    {
     "data": {
      "text/html": [
       "<div>\n",
       "<style scoped>\n",
       "    .dataframe tbody tr th:only-of-type {\n",
       "        vertical-align: middle;\n",
       "    }\n",
       "\n",
       "    .dataframe tbody tr th {\n",
       "        vertical-align: top;\n",
       "    }\n",
       "\n",
       "    .dataframe thead th {\n",
       "        text-align: right;\n",
       "    }\n",
       "</style>\n",
       "<table border=\"1\" class=\"dataframe\">\n",
       "  <thead>\n",
       "    <tr style=\"text-align: right;\">\n",
       "      <th></th>\n",
       "      <th>eventNumber</th>\n",
       "      <th>label</th>\n",
       "      <th>met_et</th>\n",
       "      <th>met_phi</th>\n",
       "      <th>lep_n</th>\n",
       "      <th>lep_pt_0</th>\n",
       "      <th>lep_pt_1</th>\n",
       "      <th>lep_eta_0</th>\n",
       "      <th>lep_eta_1</th>\n",
       "      <th>lep_phi_0</th>\n",
       "      <th>lep_phi_1</th>\n",
       "      <th>lep_E_0</th>\n",
       "      <th>lep_E_1</th>\n",
       "      <th>lep_charge_0</th>\n",
       "      <th>lep_charge_1</th>\n",
       "      <th>lep_type_0</th>\n",
       "      <th>lep_type_1</th>\n",
       "      <th>jet_n</th>\n",
       "      <th>jet_pt_0</th>\n",
       "      <th>jet_pt_1</th>\n",
       "      <th>jet_eta_0</th>\n",
       "      <th>jet_eta_1</th>\n",
       "      <th>jet_phi_0</th>\n",
       "      <th>jet_phi_1</th>\n",
       "      <th>jet_E_0</th>\n",
       "      <th>jet_E_1</th>\n",
       "      <th>mcWeight</th>\n",
       "      <th>runNumber</th>\n",
       "      <th>channelNumber</th>\n",
       "    </tr>\n",
       "  </thead>\n",
       "  <tbody>\n",
       "    <tr>\n",
       "      <th>count</th>\n",
       "      <td>6.000000e+05</td>\n",
       "      <td>600000.000000</td>\n",
       "      <td>600000.000000</td>\n",
       "      <td>600000.000000</td>\n",
       "      <td>600000.000000</td>\n",
       "      <td>600000.000000</td>\n",
       "      <td>600000.000000</td>\n",
       "      <td>600000.000000</td>\n",
       "      <td>600000.000000</td>\n",
       "      <td>600000.000000</td>\n",
       "      <td>600000.000000</td>\n",
       "      <td>6.000000e+05</td>\n",
       "      <td>6.000000e+05</td>\n",
       "      <td>600000.000000</td>\n",
       "      <td>600000.000000</td>\n",
       "      <td>600000.000000</td>\n",
       "      <td>600000.000000</td>\n",
       "      <td>600000.000000</td>\n",
       "      <td>600000.000000</td>\n",
       "      <td>600000.000000</td>\n",
       "      <td>600000.000000</td>\n",
       "      <td>600000.000000</td>\n",
       "      <td>600000.000000</td>\n",
       "      <td>600000.000000</td>\n",
       "      <td>6.000000e+05</td>\n",
       "      <td>6.000000e+05</td>\n",
       "      <td>600000.000000</td>\n",
       "      <td>600000.0</td>\n",
       "      <td>600000.000000</td>\n",
       "    </tr>\n",
       "    <tr>\n",
       "      <th>mean</th>\n",
       "      <td>7.029775e+05</td>\n",
       "      <td>0.666667</td>\n",
       "      <td>60.365356</td>\n",
       "      <td>-0.008556</td>\n",
       "      <td>2.005748</td>\n",
       "      <td>60.270328</td>\n",
       "      <td>28.133970</td>\n",
       "      <td>0.000269</td>\n",
       "      <td>-0.000664</td>\n",
       "      <td>0.005219</td>\n",
       "      <td>0.008524</td>\n",
       "      <td>1.164008e+05</td>\n",
       "      <td>5.630948e+04</td>\n",
       "      <td>-0.027027</td>\n",
       "      <td>0.027037</td>\n",
       "      <td>11.907273</td>\n",
       "      <td>11.958010</td>\n",
       "      <td>1.334185</td>\n",
       "      <td>59.606114</td>\n",
       "      <td>13.521164</td>\n",
       "      <td>-1.934521</td>\n",
       "      <td>-4.402337</td>\n",
       "      <td>-1.939645</td>\n",
       "      <td>-4.401941</td>\n",
       "      <td>1.375410e+05</td>\n",
       "      <td>4.125468e+04</td>\n",
       "      <td>0.000872</td>\n",
       "      <td>284500.0</td>\n",
       "      <td>351379.666667</td>\n",
       "    </tr>\n",
       "    <tr>\n",
       "      <th>std</th>\n",
       "      <td>4.568961e+05</td>\n",
       "      <td>0.471405</td>\n",
       "      <td>48.153210</td>\n",
       "      <td>1.812778</td>\n",
       "      <td>0.076061</td>\n",
       "      <td>42.676858</td>\n",
       "      <td>20.352272</td>\n",
       "      <td>1.210614</td>\n",
       "      <td>1.235890</td>\n",
       "      <td>1.811177</td>\n",
       "      <td>1.814205</td>\n",
       "      <td>1.083341e+05</td>\n",
       "      <td>5.748834e+04</td>\n",
       "      <td>0.999636</td>\n",
       "      <td>0.999635</td>\n",
       "      <td>0.995692</td>\n",
       "      <td>0.999119</td>\n",
       "      <td>1.232632</td>\n",
       "      <td>79.586143</td>\n",
       "      <td>38.074439</td>\n",
       "      <td>3.349404</td>\n",
       "      <td>3.491304</td>\n",
       "      <td>3.489197</td>\n",
       "      <td>3.559421</td>\n",
       "      <td>1.980717e+05</td>\n",
       "      <td>8.990068e+04</td>\n",
       "      <td>0.002944</td>\n",
       "      <td>0.0</td>\n",
       "      <td>8564.720183</td>\n",
       "    </tr>\n",
       "    <tr>\n",
       "      <th>min</th>\n",
       "      <td>1.000000e+00</td>\n",
       "      <td>0.000000</td>\n",
       "      <td>0.044211</td>\n",
       "      <td>-3.141600</td>\n",
       "      <td>2.000000</td>\n",
       "      <td>25.000000</td>\n",
       "      <td>7.000300</td>\n",
       "      <td>-2.700000</td>\n",
       "      <td>-2.699900</td>\n",
       "      <td>-3.141600</td>\n",
       "      <td>-3.141600</td>\n",
       "      <td>2.501300e+04</td>\n",
       "      <td>7.003800e+03</td>\n",
       "      <td>-1.000000</td>\n",
       "      <td>-1.000000</td>\n",
       "      <td>11.000000</td>\n",
       "      <td>11.000000</td>\n",
       "      <td>0.000000</td>\n",
       "      <td>-7.000000</td>\n",
       "      <td>-7.000000</td>\n",
       "      <td>-7.000000</td>\n",
       "      <td>-7.000000</td>\n",
       "      <td>-7.000000</td>\n",
       "      <td>-7.000000</td>\n",
       "      <td>-7.000000e+00</td>\n",
       "      <td>-7.000000e+00</td>\n",
       "      <td>-0.182228</td>\n",
       "      <td>284500.0</td>\n",
       "      <td>345323.000000</td>\n",
       "    </tr>\n",
       "    <tr>\n",
       "      <th>25%</th>\n",
       "      <td>3.498568e+05</td>\n",
       "      <td>0.000000</td>\n",
       "      <td>33.196000</td>\n",
       "      <td>-1.577600</td>\n",
       "      <td>2.000000</td>\n",
       "      <td>36.624750</td>\n",
       "      <td>15.316000</td>\n",
       "      <td>-0.899650</td>\n",
       "      <td>-0.946043</td>\n",
       "      <td>-1.560200</td>\n",
       "      <td>-1.562900</td>\n",
       "      <td>5.221675e+04</td>\n",
       "      <td>2.329100e+04</td>\n",
       "      <td>-1.000000</td>\n",
       "      <td>-1.000000</td>\n",
       "      <td>11.000000</td>\n",
       "      <td>11.000000</td>\n",
       "      <td>0.000000</td>\n",
       "      <td>-7.000000</td>\n",
       "      <td>-7.000000</td>\n",
       "      <td>-7.000000</td>\n",
       "      <td>-7.000000</td>\n",
       "      <td>-7.000000</td>\n",
       "      <td>-7.000000</td>\n",
       "      <td>-7.000000e+00</td>\n",
       "      <td>-7.000000e+00</td>\n",
       "      <td>0.000008</td>\n",
       "      <td>284500.0</td>\n",
       "      <td>345323.000000</td>\n",
       "    </tr>\n",
       "    <tr>\n",
       "      <th>50%</th>\n",
       "      <td>6.678815e+05</td>\n",
       "      <td>1.000000</td>\n",
       "      <td>50.082000</td>\n",
       "      <td>-0.018694</td>\n",
       "      <td>2.000000</td>\n",
       "      <td>48.229500</td>\n",
       "      <td>23.644000</td>\n",
       "      <td>0.003413</td>\n",
       "      <td>0.002974</td>\n",
       "      <td>0.014583</td>\n",
       "      <td>0.018823</td>\n",
       "      <td>8.184450e+04</td>\n",
       "      <td>3.824900e+04</td>\n",
       "      <td>-1.000000</td>\n",
       "      <td>1.000000</td>\n",
       "      <td>11.000000</td>\n",
       "      <td>11.000000</td>\n",
       "      <td>1.000000</td>\n",
       "      <td>38.744000</td>\n",
       "      <td>-7.000000</td>\n",
       "      <td>-0.891010</td>\n",
       "      <td>-7.000000</td>\n",
       "      <td>-1.210600</td>\n",
       "      <td>-7.000000</td>\n",
       "      <td>7.501700e+04</td>\n",
       "      <td>-7.000000e+00</td>\n",
       "      <td>0.000116</td>\n",
       "      <td>284500.0</td>\n",
       "      <td>345324.000000</td>\n",
       "    </tr>\n",
       "    <tr>\n",
       "      <th>75%</th>\n",
       "      <td>1.001273e+06</td>\n",
       "      <td>1.000000</td>\n",
       "      <td>73.032250</td>\n",
       "      <td>1.559300</td>\n",
       "      <td>2.000000</td>\n",
       "      <td>68.979000</td>\n",
       "      <td>34.149000</td>\n",
       "      <td>0.901950</td>\n",
       "      <td>0.942210</td>\n",
       "      <td>1.573000</td>\n",
       "      <td>1.577300</td>\n",
       "      <td>1.412400e+05</td>\n",
       "      <td>6.730825e+04</td>\n",
       "      <td>1.000000</td>\n",
       "      <td>1.000000</td>\n",
       "      <td>13.000000</td>\n",
       "      <td>13.000000</td>\n",
       "      <td>2.000000</td>\n",
       "      <td>84.291250</td>\n",
       "      <td>26.881000</td>\n",
       "      <td>0.724705</td>\n",
       "      <td>-0.821005</td>\n",
       "      <td>0.967753</td>\n",
       "      <td>-1.088575</td>\n",
       "      <td>1.766200e+05</td>\n",
       "      <td>5.060500e+04</td>\n",
       "      <td>0.000786</td>\n",
       "      <td>284500.0</td>\n",
       "      <td>363492.000000</td>\n",
       "    </tr>\n",
       "    <tr>\n",
       "      <th>max</th>\n",
       "      <td>1.997995e+06</td>\n",
       "      <td>1.000000</td>\n",
       "      <td>7062.200000</td>\n",
       "      <td>3.141600</td>\n",
       "      <td>5.000000</td>\n",
       "      <td>7041.400000</td>\n",
       "      <td>744.900000</td>\n",
       "      <td>2.699800</td>\n",
       "      <td>2.700000</td>\n",
       "      <td>3.141500</td>\n",
       "      <td>3.141600</td>\n",
       "      <td>7.041600e+06</td>\n",
       "      <td>2.107900e+06</td>\n",
       "      <td>1.000000</td>\n",
       "      <td>1.000000</td>\n",
       "      <td>13.000000</td>\n",
       "      <td>13.000000</td>\n",
       "      <td>13.000000</td>\n",
       "      <td>1658.200000</td>\n",
       "      <td>1429.800000</td>\n",
       "      <td>2.500000</td>\n",
       "      <td>2.500000</td>\n",
       "      <td>3.141600</td>\n",
       "      <td>3.141600</td>\n",
       "      <td>5.638800e+06</td>\n",
       "      <td>2.784300e+06</td>\n",
       "      <td>0.209680</td>\n",
       "      <td>284500.0</td>\n",
       "      <td>363492.000000</td>\n",
       "    </tr>\n",
       "  </tbody>\n",
       "</table>\n",
       "</div>"
      ],
      "text/plain": [
       "        eventNumber          label         met_et        met_phi  \\\n",
       "count  6.000000e+05  600000.000000  600000.000000  600000.000000   \n",
       "mean   7.029775e+05       0.666667      60.365356      -0.008556   \n",
       "std    4.568961e+05       0.471405      48.153210       1.812778   \n",
       "min    1.000000e+00       0.000000       0.044211      -3.141600   \n",
       "25%    3.498568e+05       0.000000      33.196000      -1.577600   \n",
       "50%    6.678815e+05       1.000000      50.082000      -0.018694   \n",
       "75%    1.001273e+06       1.000000      73.032250       1.559300   \n",
       "max    1.997995e+06       1.000000    7062.200000       3.141600   \n",
       "\n",
       "               lep_n       lep_pt_0       lep_pt_1      lep_eta_0  \\\n",
       "count  600000.000000  600000.000000  600000.000000  600000.000000   \n",
       "mean        2.005748      60.270328      28.133970       0.000269   \n",
       "std         0.076061      42.676858      20.352272       1.210614   \n",
       "min         2.000000      25.000000       7.000300      -2.700000   \n",
       "25%         2.000000      36.624750      15.316000      -0.899650   \n",
       "50%         2.000000      48.229500      23.644000       0.003413   \n",
       "75%         2.000000      68.979000      34.149000       0.901950   \n",
       "max         5.000000    7041.400000     744.900000       2.699800   \n",
       "\n",
       "           lep_eta_1      lep_phi_0      lep_phi_1       lep_E_0  \\\n",
       "count  600000.000000  600000.000000  600000.000000  6.000000e+05   \n",
       "mean       -0.000664       0.005219       0.008524  1.164008e+05   \n",
       "std         1.235890       1.811177       1.814205  1.083341e+05   \n",
       "min        -2.699900      -3.141600      -3.141600  2.501300e+04   \n",
       "25%        -0.946043      -1.560200      -1.562900  5.221675e+04   \n",
       "50%         0.002974       0.014583       0.018823  8.184450e+04   \n",
       "75%         0.942210       1.573000       1.577300  1.412400e+05   \n",
       "max         2.700000       3.141500       3.141600  7.041600e+06   \n",
       "\n",
       "            lep_E_1   lep_charge_0   lep_charge_1     lep_type_0  \\\n",
       "count  6.000000e+05  600000.000000  600000.000000  600000.000000   \n",
       "mean   5.630948e+04      -0.027027       0.027037      11.907273   \n",
       "std    5.748834e+04       0.999636       0.999635       0.995692   \n",
       "min    7.003800e+03      -1.000000      -1.000000      11.000000   \n",
       "25%    2.329100e+04      -1.000000      -1.000000      11.000000   \n",
       "50%    3.824900e+04      -1.000000       1.000000      11.000000   \n",
       "75%    6.730825e+04       1.000000       1.000000      13.000000   \n",
       "max    2.107900e+06       1.000000       1.000000      13.000000   \n",
       "\n",
       "          lep_type_1          jet_n       jet_pt_0       jet_pt_1  \\\n",
       "count  600000.000000  600000.000000  600000.000000  600000.000000   \n",
       "mean       11.958010       1.334185      59.606114      13.521164   \n",
       "std         0.999119       1.232632      79.586143      38.074439   \n",
       "min        11.000000       0.000000      -7.000000      -7.000000   \n",
       "25%        11.000000       0.000000      -7.000000      -7.000000   \n",
       "50%        11.000000       1.000000      38.744000      -7.000000   \n",
       "75%        13.000000       2.000000      84.291250      26.881000   \n",
       "max        13.000000      13.000000    1658.200000    1429.800000   \n",
       "\n",
       "           jet_eta_0      jet_eta_1      jet_phi_0      jet_phi_1  \\\n",
       "count  600000.000000  600000.000000  600000.000000  600000.000000   \n",
       "mean       -1.934521      -4.402337      -1.939645      -4.401941   \n",
       "std         3.349404       3.491304       3.489197       3.559421   \n",
       "min        -7.000000      -7.000000      -7.000000      -7.000000   \n",
       "25%        -7.000000      -7.000000      -7.000000      -7.000000   \n",
       "50%        -0.891010      -7.000000      -1.210600      -7.000000   \n",
       "75%         0.724705      -0.821005       0.967753      -1.088575   \n",
       "max         2.500000       2.500000       3.141600       3.141600   \n",
       "\n",
       "            jet_E_0       jet_E_1       mcWeight  runNumber  channelNumber  \n",
       "count  6.000000e+05  6.000000e+05  600000.000000   600000.0  600000.000000  \n",
       "mean   1.375410e+05  4.125468e+04       0.000872   284500.0  351379.666667  \n",
       "std    1.980717e+05  8.990068e+04       0.002944        0.0    8564.720183  \n",
       "min   -7.000000e+00 -7.000000e+00      -0.182228   284500.0  345323.000000  \n",
       "25%   -7.000000e+00 -7.000000e+00       0.000008   284500.0  345323.000000  \n",
       "50%    7.501700e+04 -7.000000e+00       0.000116   284500.0  345324.000000  \n",
       "75%    1.766200e+05  5.060500e+04       0.000786   284500.0  363492.000000  \n",
       "max    5.638800e+06  2.784300e+06       0.209680   284500.0  363492.000000  "
      ]
     },
     "execution_count": 9,
     "metadata": {},
     "output_type": "execute_result"
    }
   ],
   "source": [
    "#examine feature distribution\n",
    "dfall.describe()"
   ]
  },
  {
   "cell_type": "code",
   "execution_count": 10,
   "metadata": {
    "id": "lQsalTmorlHj"
   },
   "outputs": [
    {
     "name": "stdout",
     "output_type": "stream",
     "text": [
      "total label weights  B S = (498.6491778568, 24.8002135904)\n",
      "total class number of events B S (200000, 400000)\n"
     ]
    }
   ],
   "source": [
    "label_weights = (dfall[dfall.label==0].mcWeight.sum(), dfall[dfall.label==1].mcWeight.sum() )\n",
    "print(\"total label weights  B S =\",label_weights)\n",
    "\n",
    "\n",
    "label_nevents = (dfall[dfall.label==0].shape[0], dfall[dfall.label==1].shape[0] )\n",
    "print (\"total class number of events B S\",label_nevents)\n"
   ]
  },
  {
   "cell_type": "markdown",
   "metadata": {
    "id": "rtI5u5GErlHq"
   },
   "source": [
    "## Event selection"
   ]
  },
  {
   "cell_type": "code",
   "execution_count": 11,
   "metadata": {
    "id": "kaO2JM1hrlHr"
   },
   "outputs": [
    {
     "name": "stdout",
     "output_type": "stream",
     "text": [
      "Df shape before selection : (600000, 29)\n",
      "Df shape after selection : (577357, 29)\n"
     ]
    }
   ],
   "source": [
    "print (\"Df shape before selection :\", dfall.shape)\n",
    "# only keep events with exactly two leptons\n",
    "# only keep events with positive weight. This is not correct but mandatory for a tutorial because\n",
    "# many tools choke on negative weight.\n",
    "fulldata=dfall[ (dfall.lep_n==2) & (dfall.mcWeight > 0)]\n",
    "\n",
    "\n",
    "print (\"Df shape after selection :\",fulldata.shape)\n",
    "\n"
   ]
  },
  {
   "cell_type": "markdown",
   "metadata": {
    "id": "nviyIMgerlH3"
   },
   "source": [
    "\n",
    "# DO NOT MODIFY ANYTHING ABOVE\n",
    "... and always rerun from this cell whenever you change something below"
   ]
  },
  {
   "cell_type": "code",
   "execution_count": 12,
   "metadata": {
    "id": "6e0Hlpv6rlH4",
    "scrolled": false
   },
   "outputs": [
    {
     "name": "stdout",
     "output_type": "stream",
     "text": [
      "Df shape of dataset to be used : (577357, 6)\n"
     ]
    },
    {
     "data": {
      "text/html": [
       "<div>\n",
       "<style scoped>\n",
       "    .dataframe tbody tr th:only-of-type {\n",
       "        vertical-align: middle;\n",
       "    }\n",
       "\n",
       "    .dataframe tbody tr th {\n",
       "        vertical-align: top;\n",
       "    }\n",
       "\n",
       "    .dataframe thead th {\n",
       "        text-align: right;\n",
       "    }\n",
       "</style>\n",
       "<table border=\"1\" class=\"dataframe\">\n",
       "  <thead>\n",
       "    <tr style=\"text-align: right;\">\n",
       "      <th></th>\n",
       "      <th>met_et</th>\n",
       "      <th>met_phi</th>\n",
       "      <th>lep_pt_0</th>\n",
       "      <th>lep_pt_1</th>\n",
       "      <th>lep_phi_0</th>\n",
       "      <th>lep_phi_1</th>\n",
       "    </tr>\n",
       "  </thead>\n",
       "  <tbody>\n",
       "    <tr>\n",
       "      <th>0</th>\n",
       "      <td>25.609</td>\n",
       "      <td>0.42452</td>\n",
       "      <td>48.295</td>\n",
       "      <td>15.214</td>\n",
       "      <td>-2.316400</td>\n",
       "      <td>-1.39410</td>\n",
       "    </tr>\n",
       "    <tr>\n",
       "      <th>1</th>\n",
       "      <td>196.560</td>\n",
       "      <td>1.31140</td>\n",
       "      <td>69.459</td>\n",
       "      <td>21.081</td>\n",
       "      <td>0.023132</td>\n",
       "      <td>-0.67855</td>\n",
       "    </tr>\n",
       "    <tr>\n",
       "      <th>2</th>\n",
       "      <td>45.653</td>\n",
       "      <td>-2.76860</td>\n",
       "      <td>45.927</td>\n",
       "      <td>22.822</td>\n",
       "      <td>1.901700</td>\n",
       "      <td>-0.11248</td>\n",
       "    </tr>\n",
       "    <tr>\n",
       "      <th>3</th>\n",
       "      <td>49.415</td>\n",
       "      <td>-0.57805</td>\n",
       "      <td>45.929</td>\n",
       "      <td>14.263</td>\n",
       "      <td>2.254700</td>\n",
       "      <td>-2.54810</td>\n",
       "    </tr>\n",
       "    <tr>\n",
       "      <th>4</th>\n",
       "      <td>71.988</td>\n",
       "      <td>-2.60390</td>\n",
       "      <td>62.029</td>\n",
       "      <td>21.453</td>\n",
       "      <td>0.236200</td>\n",
       "      <td>1.40820</td>\n",
       "    </tr>\n",
       "  </tbody>\n",
       "</table>\n",
       "</div>"
      ],
      "text/plain": [
       "    met_et  met_phi  lep_pt_0  lep_pt_1  lep_phi_0  lep_phi_1\n",
       "0   25.609  0.42452    48.295    15.214  -2.316400   -1.39410\n",
       "1  196.560  1.31140    69.459    21.081   0.023132   -0.67855\n",
       "2   45.653 -2.76860    45.927    22.822   1.901700   -0.11248\n",
       "3   49.415 -0.57805    45.929    14.263   2.254700   -2.54810\n",
       "4   71.988 -2.60390    62.029    21.453   0.236200    1.40820"
      ]
     },
     "metadata": {},
     "output_type": "display_data"
    },
    {
     "data": {
      "text/plain": [
       "0    1\n",
       "1    0\n",
       "2    1\n",
       "3    1\n",
       "4    1\n",
       "Name: label, dtype: int64"
      ]
     },
     "metadata": {},
     "output_type": "display_data"
    },
    {
     "data": {
      "text/plain": [
       "0    0.000008\n",
       "1    0.001153\n",
       "2    0.000116\n",
       "3    0.000116\n",
       "4    0.000008\n",
       "Name: mcWeight, dtype: float64"
      ]
     },
     "metadata": {},
     "output_type": "display_data"
    }
   ],
   "source": [
    "#hide label and weights in separate vectors\n",
    "#they are not real features\n",
    "\n",
    "#WARNING : there should be no selection nor shuffling later on ! (otherwise misalignement)\n",
    "target = fulldata[\"label\"]\n",
    "weights = fulldata[\"mcWeight\"]\n",
    "\n",
    "\n",
    "# for simplicity of the exercise only keep some features\n",
    "# this is actually making a deep copy from fulldata\n",
    "data=pd.DataFrame(fulldata, columns=[\"met_et\",\"met_phi\",\"lep_pt_0\",\"lep_pt_1\",'lep_phi_0', 'lep_phi_1'])\n",
    "#data=pd.DataFrame(fulldata, columns=[\"met_et\",\"met_phi\",\"lep_pt_0\",\"lep_pt_1\",'lep_eta_0', 'lep_eta_1', 'lep_phi_0', 'lep_phi_1','jet_n','jet_pt_0',\n",
    "#       'jet_pt_1', 'jet_eta_0', 'jet_eta_1', 'jet_phi_0', 'jet_phi_1']\n",
    "\n",
    "print (\"Df shape of dataset to be used :\",data.shape)\n",
    "display(data.head())\n",
    "display(target.head())\n",
    "display(weights.head())\n",
    "\n"
   ]
  },
  {
   "cell_type": "code",
   "execution_count": 13,
   "metadata": {
    "id": "IJAmtop6yd0a",
    "scrolled": false
   },
   "outputs": [
    {
     "data": {
      "text/plain": [
       "<AxesSubplot:title={'center':'Missing Transverse Energy for large lepton Pt'}, ylabel='Frequency'>"
      ]
     },
     "execution_count": 13,
     "metadata": {},
     "output_type": "execute_result"
    },
    {
     "data": {
      "image/png": "[encoded data removed]",
      "text/plain": [
       "<Figure size 648x432 with 1 Axes>"
      ]
     },
     "metadata": {
      "needs_background": "light"
     },
     "output_type": "display_data"
    }
   ],
   "source": [
    "#data[data.met_et<1000]['met_et'].plot.hist(title='Missing Transverse Energy')\n",
    "data[data.lep_pt_0+data.lep_pt_1>1000]['met_et'].plot.hist(bins=np.linspace(0,400,100),\n",
    "                                                           title='Missing Transverse Energy for large lepton Pt')"
   ]
  },
  {
   "cell_type": "code",
   "execution_count": 14,
   "metadata": {
    "id": "VfrUijp2yd0b",
    "scrolled": false
   },
   "outputs": [
    {
     "data": {
      "image/png": "[encoded data removed]",
      "text/plain": [
       "<Figure size 648x432 with 1 Axes>"
      ]
     },
     "metadata": {
      "needs_background": "light"
     },
     "output_type": "display_data"
    }
   ],
   "source": [
    "#fig=plt.figure()\n",
    "ax=data[target==0].plot.scatter(x='met_et', y='lep_pt_0',color=\"b\",label=\"B\")\n",
    "data[target==1].plot.scatter(x='met_et', y='lep_pt_0',color=\"r\",label=\"S\",ax=ax)\n",
    "#plt.legend(loc='best')\n",
    "#ax.set_xlabel('weight*1000')\n",
    "plt.show()"
   ]
  },
  {
   "cell_type": "code",
   "execution_count": 15,
   "metadata": {
    "id": "px76_qOlyd0c",
    "scrolled": true
   },
   "outputs": [
    {
     "data": {
      "text/html": [
       "<div>\n",
       "<style scoped>\n",
       "    .dataframe tbody tr th:only-of-type {\n",
       "        vertical-align: middle;\n",
       "    }\n",
       "\n",
       "    .dataframe tbody tr th {\n",
       "        vertical-align: top;\n",
       "    }\n",
       "\n",
       "    .dataframe thead th {\n",
       "        text-align: right;\n",
       "    }\n",
       "</style>\n",
       "<table border=\"1\" class=\"dataframe\">\n",
       "  <thead>\n",
       "    <tr style=\"text-align: right;\">\n",
       "      <th></th>\n",
       "      <th>met_et</th>\n",
       "      <th>met_phi</th>\n",
       "      <th>lep_pt_0</th>\n",
       "      <th>lep_pt_1</th>\n",
       "      <th>lep_phi_0</th>\n",
       "      <th>lep_phi_1</th>\n",
       "    </tr>\n",
       "  </thead>\n",
       "  <tbody>\n",
       "    <tr>\n",
       "      <th>308053</th>\n",
       "      <td>2755.4</td>\n",
       "      <td>1.8538</td>\n",
       "      <td>2678.7</td>\n",
       "      <td>42.131</td>\n",
       "      <td>-1.2958</td>\n",
       "      <td>0.13151</td>\n",
       "    </tr>\n",
       "    <tr>\n",
       "      <th>552671</th>\n",
       "      <td>2145.7</td>\n",
       "      <td>0.3056</td>\n",
       "      <td>2180.0</td>\n",
       "      <td>30.531</td>\n",
       "      <td>-2.8257</td>\n",
       "      <td>1.50800</td>\n",
       "    </tr>\n",
       "  </tbody>\n",
       "</table>\n",
       "</div>"
      ],
      "text/plain": [
       "        met_et  met_phi  lep_pt_0  lep_pt_1  lep_phi_0  lep_phi_1\n",
       "308053  2755.4   1.8538    2678.7    42.131    -1.2958    0.13151\n",
       "552671  2145.7   0.3056    2180.0    30.531    -2.8257    1.50800"
      ]
     },
     "execution_count": 15,
     "metadata": {},
     "output_type": "execute_result"
    }
   ],
   "source": [
    "data[data.lep_pt_0+data.lep_pt_1>2000].head()"
   ]
  },
  {
   "cell_type": "markdown",
   "metadata": {
    "id": "bVHrJtodL2wo"
   },
   "source": [
    "## Examine the weights"
   ]
  },
  {
   "cell_type": "code",
   "execution_count": 16,
   "metadata": {
    "id": "cFD4s616LS0F"
   },
   "outputs": [
    {
     "data": {
      "image/png": "[encoded data removed]",
      "text/plain": [
       "<Figure size 648x432 with 1 Axes>"
      ]
     },
     "metadata": {
      "needs_background": "light"
     },
     "output_type": "display_data"
    }
   ],
   "source": [
    "fig,ax=plt.subplots()\n",
    "#fig=plt.figure()\n",
    "\n",
    "bins=np.linspace(-1,3,101)\n",
    "plt.hist(weights[target==0]*1000,bins=bins,color='b',alpha=0.5,density=True,label='B ackground')\n",
    "plt.hist(weights[target==1]*1000,bins=bins,color='r',alpha=0.5,density=True,label='S ignal')\n",
    "plt.legend(loc='best')\n",
    "ax.set_xlabel('weight*1000')\n",
    "plt.show()"
   ]
  },
  {
   "cell_type": "markdown",
   "metadata": {
    "id": "jrCZdWvqyd0e"
   },
   "source": [
    "# Some weight studies\n",
    "\n",
    "$s=\\sum w$ for signal dataset : predicted number of signal events (luminosity, cross section, efficiencies etc... already includded in the weights). Ditto for b background.\n",
    "\n",
    "\n",
    "Effective number of events fraction : $\\frac{N_{eff}}{N}= \\frac{1}{1+\\frac{Var(w)}{<w>^2}}$ . Example : if 0.2 it means the precision achieved with this dataset is the one which would be achieved with an unweighted dataset of 0.2 x N events (this is a rough estimate, only true for a simple counting)"
   ]
  },
  {
   "cell_type": "code",
   "execution_count": 17,
   "metadata": {
    "id": "YdpzI4-6MVIK"
   },
   "outputs": [
    {
     "name": "stdout",
     "output_type": "stream",
     "text": [
      "Weights quantities for background (target==0) and signal (target==1)\n",
      "Weights sum [638.7539676  24.717593 ]\n",
      "N events [180381. 396976.]\n",
      "Weights mean [3.54113775e-03 6.22647037e-05]\n",
      "Weights std [3.41237459e-03 5.42304678e-05]\n",
      "Weights Neff fraction [0.51851137 0.56863978]\n"
     ]
    }
   ],
   "source": [
    "label_n_weights=np.zeros(2)\n",
    "label_sum_weights=np.zeros(2)\n",
    "label_mean_weights=np.zeros(2)\n",
    "label_std_weights=np.zeros(2)\n",
    "label_neff_fraction=np.zeros(2)\n",
    "\n",
    "for i in range(2):\n",
    "  label_n_weights[i]=weights[target==i].size\n",
    "  label_mean_weights[i]=weights[target==i].mean()\n",
    "  label_std_weights[i]=weights[target==i].std()\n",
    "  label_sum_weights[i]=weights[target==i].sum()\n",
    "  label_neff_fraction[i]=1/(1+(label_std_weights[i]/label_mean_weights[i])**2)\n",
    "\n",
    "print (\"Weights quantities for background (target==0) and signal (target==1)\")\n",
    "print (\"Weights sum\",label_sum_weights)\n",
    "print (\"N events\",label_n_weights)\n",
    "print (\"Weights mean\",label_mean_weights)\n",
    "print (\"Weights std\",label_std_weights)\n",
    "print (\"Weights Neff fraction\",label_neff_fraction)"
   ]
  },
  {
   "cell_type": "markdown",
   "metadata": {
    "id": "F77Cx9LhKwqc"
   },
   "source": [
    "# Feature engineering\n",
    "To be switched on in a second iteration"
   ]
  },
  {
   "cell_type": "code",
   "execution_count": 18,
   "metadata": {
    "id": "4oe_9ZEEKwqc"
   },
   "outputs": [],
   "source": [
    "if False:\n",
    "    data[\"lep_deltaphi\"]=np.abs(np.mod(data.lep_phi_1-data.lep_phi_0+3*np.pi,2*np.pi)-np.pi)\n",
    "    #data[\"lep_deltaphi\"]=data.lep_phi_1-data.lep_phi_0\n",
    "\n",
    "\n",
    "    print (data.shape)\n",
    "    display(data.head())\n",
    "\n",
    "\n",
    "\n",
    "\n"
   ]
  },
  {
   "cell_type": "markdown",
   "metadata": {
    "id": "kDp3D2Fkyd0h"
   },
   "source": [
    "# Plot the features"
   ]
  },
  {
   "cell_type": "code",
   "execution_count": 19,
   "metadata": {
    "id": "o2mf1bLVrlH7"
   },
   "outputs": [
    {
     "data": {
      "text/plain": [
       "<Figure size 648x432 with 0 Axes>"
      ]
     },
     "metadata": {},
     "output_type": "display_data"
    },
    {
     "data": {
      "image/png": "[encoded data removed]",
      "text/plain": [
       "<Figure size 1080x864 with 6 Axes>"
      ]
     },
     "metadata": {
      "needs_background": "light"
     },
     "output_type": "display_data"
    }
   ],
   "source": [
    "plt.figure()\n",
    "\n",
    "ax=data[target==0].hist(weights=weights[target==0],figsize=(15,12),color='b',alpha=0.5,density=True,label=\"B\")\n",
    "ax=ax.flatten()[:data.shape[1]] # to avoid error if holes in the grid of plots (like if 7 or 8 features)\n",
    "data[target==1].hist(weights=weights[target==1],figsize=(15,12),color='r',alpha=0.5,density=True,ax=ax,label=\"S\")\n",
    "\n",
    "\n",
    "plt.legend(loc=\"best\")\n",
    "plt.show()\n"
   ]
  },
  {
   "cell_type": "markdown",
   "metadata": {
    "id": "IUMC85s4yd0i"
   },
   "source": [
    "### Features correlation matrix"
   ]
  },
  {
   "cell_type": "code",
   "execution_count": 20,
   "metadata": {
    "id": "Kb-U3Ri5yd0i",
    "scrolled": false
   },
   "outputs": [
    {
     "name": "stdout",
     "output_type": "stream",
     "text": [
      "Signal feature correlation matrix\n"
     ]
    },
    {
     "data": {
      "image/png": "[encoded data removed]",
      "text/plain": [
       "<Figure size 648x432 with 2 Axes>"
      ]
     },
     "metadata": {
      "needs_background": "light"
     },
     "output_type": "display_data"
    },
    {
     "name": "stdout",
     "output_type": "stream",
     "text": [
      "Background feature correlation matrix\n"
     ]
    },
    {
     "data": {
      "image/png": "[encoded data removed]",
      "text/plain": [
       "<Figure size 648x432 with 2 Axes>"
      ]
     },
     "metadata": {
      "needs_background": "light"
     },
     "output_type": "display_data"
    }
   ],
   "source": [
    "import seaborn as sn # seaborn for nice plot quicker\n",
    "print (\"Signal feature correlation matrix\")\n",
    "corrMatrix = data[target==1].corr()\n",
    "sn.heatmap(corrMatrix, annot=True)\n",
    "plt.show()\n",
    "\n",
    "print (\"Background feature correlation matrix\")\n",
    "corrMatrix = data[target==0].corr()\n",
    "sn.heatmap(corrMatrix, annot=True)\n",
    "plt.show()\n"
   ]
  },
  {
   "cell_type": "markdown",
   "metadata": {
    "id": "4kowHjX4rlIC"
   },
   "source": [
    "## Split dataset and transform the features"
   ]
  },
  {
   "cell_type": "code",
   "execution_count": 21,
   "metadata": {
    "id": "Y9j5hdrmrlID"
   },
   "outputs": [
    {
     "name": "stdout",
     "output_type": "stream",
     "text": [
      "(433017, 6)\n",
      "(433017,)\n",
      "(433017,)\n",
      "(144340, 6)\n",
      "(144340,)\n",
      "(144340,)\n",
      "Weights have been normalised to a given number of proton collision\n",
      "Orig : total weight sig 24.717592998400008\n",
      "Orig : total weight bkg 638.7539675983998\n",
      "Test : total weight sig 24.717773318400006\n",
      "Test : total weight bkg 635.6988284976001\n",
      "Train : total weight sig 479.8292604740002\n",
      "Train : total weight bkg 479.82926047399997\n"
     ]
    }
   ],
   "source": [
    "np.random.seed(31415) # set the random seed (used for the train/test splitting)\n",
    "\n",
    "from sklearn.model_selection import train_test_split\n",
    "train_size = 0.75 # fraction of sample used for training\n",
    "\n",
    "X_train, X_test, y_train, y_test, weights_train, weights_test = \\\n",
    "    train_test_split(data, target, weights, train_size=train_size)\n",
    "#reset index for dataseries, not needed for ndarray (X_train, X_test)\n",
    "#y_train, y_test, weights_train, weights_test = \\\n",
    "#     y_train.reset_index(drop=True),y_test.reset_index(drop=True), \\\n",
    "#    weights_train.reset_index(drop=True), weights_test.reset_index(drop=True)\n",
    "\n",
    "print (X_train.shape)\n",
    "print (y_train.shape)\n",
    "print (weights_train.shape)\n",
    "print (X_test.shape)\n",
    "print (y_test.shape)\n",
    "print (weights_test.shape)\n",
    "\n",
    "\n",
    "\n",
    "\n",
    "\n",
    "# scale to mean 0 and variance 1\n",
    "# not really needed for BDT but we never know\n",
    "from sklearn.preprocessing import StandardScaler\n",
    "scaler = StandardScaler()\n",
    "X_train = scaler.fit_transform(X_train) #calculate and apply the transformation to training dataset\n",
    "X_test = scaler.transform(X_test)  # apply to test dataset the transformation calculated the line above\n",
    "\n",
    "\n",
    "class_weights_train = (weights_train[y_train == 0].sum(), weights_train[y_train == 1].sum())\n",
    "\n",
    "for i in range(len(class_weights_train)): # loop on B then S target\n",
    "    #training dataset: equalize number of background and signal\n",
    "    weights_train[y_train == i] *= max(class_weights_train)/ class_weights_train[i]\n",
    "    #test dataset : increase test weight to compensate for sampling\n",
    "    weights_test[y_test == i] *= 1/(1-train_size)\n",
    "\n",
    "print (\"Weights have been normalised to a given number of proton collision\")\n",
    "print (\"Orig : total weight sig\", weights[target == 1].sum())\n",
    "print (\"Orig : total weight bkg\", weights[target == 0].sum())\n",
    "\n",
    "\n",
    "print (\"Test : total weight sig\", weights_test[y_test == 1].sum())\n",
    "print (\"Test : total weight bkg\", weights_test[y_test == 0].sum())\n",
    "print (\"Train : total weight sig\", weights_train[y_train == 1].sum())\n",
    "print (\"Train : total weight bkg\", weights_train[y_train == 0].sum())\n",
    "\n",
    "\n"
   ]
  },
  {
   "cell_type": "markdown",
   "metadata": {
    "id": "yxybCOi-rlIM"
   },
   "source": [
    "# Testing BDT"
   ]
  },
  {
   "cell_type": "markdown",
   "metadata": {
    "id": "AIsMSGl-Kwql"
   },
   "source": [
    "## Load significance function"
   ]
  },
  {
   "cell_type": "code",
   "execution_count": 22,
   "metadata": {
    "id": "qubY3CMNKwql"
   },
   "outputs": [],
   "source": [
    "from math import sqrt\n",
    "from math import log\n",
    "import numpy as np\n",
    "# \n",
    "def amsasimov(s_in,b_in): # asimov significance arXiv:1007.1727 eq. 97 (reduces to s/sqrt(b) if s<<b)\n",
    "        # if b==0 ams is undefined, but return 0 without warning for convenience (hack)         \n",
    "        s=np.copy(s_in)\n",
    "        b=np.copy(b_in)\n",
    "        s=np.where( (b_in == 0) , 0., s_in)\n",
    "        b=np.where( (b_in == 0) , 1., b)\n",
    "        \n",
    "        ams = np.sqrt(2*((s+b)*np.log(1+s/b)-s))\n",
    "        ams=np.where( (s < 0)  | (b < 0), np.nan, ams) # nan if unphysical values. \n",
    "        if np.isscalar(s_in):\n",
    "            return float(ams)\n",
    "        else:\n",
    "            return  ams \n",
    "# test\n",
    "#ss=np.array([-1,2,4,4,0,10,0]); bb=np.array([12,-23,100,4,10,0,0])\n",
    "#print(amsasimov(ss,bb))\n",
    "#print(amsasimov(4,16))\n",
    "#print(amsasimov(4,1600))\n",
    "\n"
   ]
  },
  {
   "cell_type": "markdown",
   "metadata": {},
   "source": [
    "# Load significance score function"
   ]
  },
  {
   "cell_type": "code",
   "execution_count": 23,
   "metadata": {},
   "outputs": [
    {
     "ename": "NameError",
     "evalue": "name 'y_pred_skgb' is not defined",
     "output_type": "error",
     "traceback": [
      "\u001b[0;31m---------------------------------------------------------------------------\u001b[0m",
      "\u001b[0;31mNameError\u001b[0m                                 Traceback (most recent call last)",
      "File \u001b[0;32m<timed exec>:43\u001b[0m, in \u001b[0;36m<module>\u001b[0;34m\u001b[0m\n",
      "\u001b[0;31mNameError\u001b[0m: name 'y_pred_skgb' is not defined"
     ]
    }
   ],
   "source": [
    "%%time\n",
    "# same signature as roc_auc_score\n",
    "def significance_vscore(y_true, y_score, sample_weight=None):\n",
    "    if sample_weight is None:\n",
    "        # Provide a default value of 1.\n",
    "        sample_weight = np.full(len(y_true), 1.) \n",
    "        \n",
    "\n",
    "    # Define bins for y_score, adapt the number as needed for your data\n",
    "    bins = np.linspace(0, 1., 101)\n",
    "        \n",
    "\n",
    "# Fills s and b weighted binned distributions\n",
    "    s_hist, bin_edges = np.histogram(y_score[y_true == 1], bins=bins, weights=sample_weight[y_true == 1])\n",
    "    b_hist, bin_edges = np.histogram(y_score[y_true == 0], bins=bins, weights=sample_weight[y_true == 0])\n",
    "\n",
    "    \n",
    "    # Compute cumulative sums (from the right!)\n",
    "    s_cumul = np.cumsum(s_hist[::-1])[::-1]\n",
    "    b_cumul = np.cumsum(b_hist[::-1])[::-1]\n",
    "    \n",
    "    # Compute significance \n",
    "    significance=amsasimov(s_cumul,b_cumul)\n",
    "    \n",
    "    # Find the bin with the maximum significance\n",
    "    max_value = np.max(significance)\n",
    "\n",
    "    return significance\n",
    "\n",
    "def significance_score(y_true, y_score, sample_weight=None):\n",
    "    # Find the bin with the maximum significance\n",
    "    max_value = np.max(significance_vscore(y_true, y_score, sample_weight))\n",
    "\n",
    "    return max_value\n",
    "\n",
    "# this can then be used as a scorer in sklearn algs.\n",
    "fsignificance_score = sklearn.metrics.make_scorer(significance_score)\n",
    "    \n",
    "# Example usage:\n",
    "# y_test = np.array([...])  # true labels\n",
    "# y_pred = np.array([...])  # predicted scores\n",
    "# weights_test = np.array([...])  # weights\n",
    "#vscore=significance_vscore(y_true=y_test, y_score=y_pred_skgb, sample_weight=weights_test)\n",
    "Z = significance_score(y_true=y_test, y_score=y_pred_skgb)#, sample_weight=weights_test)\n",
    "print (Z)"
   ]
  },
  {
   "cell_type": "markdown",
   "metadata": {
    "id": "F4DfF0ISrlIN"
   },
   "source": [
    "## XGBoost"
   ]
  },
  {
   "cell_type": "code",
   "execution_count": 24,
   "metadata": {
    "id": "nqMCgvbkrlIN",
    "scrolled": true
   },
   "outputs": [
    {
     "name": "stdout",
     "output_type": "stream",
     "text": [
      "Training time: 1.0614161491394043\n",
      "auc test: 0.8670325891921841\n",
      "auc train: 0.8754233529441572\n",
      "Z: 1.623242142166869\n",
      "CPU times: user 9.86 s, sys: 2.11 s, total: 12 s\n",
      "Wall time: 1.38 s\n"
     ]
    }
   ],
   "source": [
    "%%time\n",
    "np.random.seed(31415) # set the random seed\n",
    "\n",
    "from xgboost import XGBClassifier\n",
    "from sklearn.metrics import roc_auc_score # for binary classification if x > 0.5 -> 1 else -> 0\n",
    "\n",
    "# creates the classifier\n",
    "xgb = XGBClassifier()\n",
    "\n",
    "starting_time = time.time()\n",
    "\n",
    "# does the real work\n",
    "\n",
    "xgb.fit(X_train, y_train.values, sample_weight=weights_train) # note that XGB 1.3.X and higher requires positive weight\n",
    "\n",
    "training_time = time.time( ) - starting_time\n",
    "print(\"Training time:\",training_time)\n",
    "\n",
    "y_pred_xgb = xgb.predict_proba(X_test)[:,1]\n",
    "y_pred_train_xgb = xgb.predict_proba(X_train)[:,1]\n",
    "\n",
    "auc_test_xgb = roc_auc_score(y_true=y_test, y_score=y_pred_xgb,sample_weight=weights_test)\n",
    "print(\"auc test:\",auc_test_xgb)\n",
    "\n",
    "print (\"auc train:\",roc_auc_score(y_true=y_train.values, y_score=y_pred_train_xgb,sample_weight=weights_train))\n",
    "\n",
    "vamsasimov_xgb=significance_vscore(y_true=y_test, y_score=y_pred_xgb, sample_weight=weights_test)\n",
    "significance_xgb = np.max(vamsasimov_xgb)\n",
    "\n",
    "print(\"Z:\",significance_xgb)\n"
   ]
  },
  {
   "cell_type": "code",
   "execution_count": 25,
   "metadata": {
    "id": "Y_1SDqpwyd0m"
   },
   "outputs": [
    {
     "name": "stdout",
     "output_type": "stream",
     "text": [
      "auc test 0.8670325891921841\n",
      "auc test without weights 0.8677920695009682\n"
     ]
    }
   ],
   "source": [
    "print(\"auc test\",roc_auc_score(y_true=y_test, y_score=y_pred_xgb,sample_weight=weights_test))\n",
    "print(\"auc test without weights\",roc_auc_score(y_true=y_test, y_score=y_pred_xgb))\n",
    "\n",
    "\n",
    "\n"
   ]
  },
  {
   "cell_type": "markdown",
   "metadata": {
    "id": "NmadcFRJrlIT"
   },
   "source": [
    "## LightGBM"
   ]
  },
  {
   "cell_type": "code",
   "execution_count": 26,
   "metadata": {
    "id": "9YmfuiwUrlIU"
   },
   "outputs": [
    {
     "name": "stdout",
     "output_type": "stream",
     "text": [
      "Training time: 0.7160871028900146\n",
      "auc test: 0.8296102251691393\n",
      "auc train: 0.8379442181132511\n",
      "Z: 1.421062826327018\n"
     ]
    }
   ],
   "source": [
    "np.random.seed(31415) # set the random seed\n",
    "\n",
    "import lightgbm as lgb\n",
    "from sklearn.metrics import roc_auc_score # for binary classification if x > 0.5 -> 1 else -> 0\n",
    "\n",
    "gbm = lgb.LGBMClassifier()\n",
    "\n",
    "starting_time = time.time( )\n",
    "\n",
    "gbm.fit(X_train, y_train.values,sample_weight=weights_train)\n",
    "\n",
    "training_time = time.time( ) - starting_time\n",
    "print(\"Training time:\",training_time)\n",
    "\n",
    "y_pred_gbm = gbm.predict_proba(X_test)[:,1]\n",
    "y_pred_gbm = y_pred_gbm.ravel()\n",
    "y_pred_train_gbm = gbm.predict_proba(X_train)[:,1]\n",
    "auc_test_gbm = roc_auc_score(y_true=y_test, y_score=y_pred_gbm,sample_weight=weights_test)\n",
    "print(\"auc test:\",auc_test_gbm)\n",
    "print (\"auc train:\",roc_auc_score(y_true=y_train.values, y_score=y_pred_train_gbm,sample_weight=weights_train))\n",
    "\n",
    "#compute significance\n",
    "vamsasimov_gbm=significance_vscore(y_true=y_test, y_score=y_pred_gbm, sample_weight=weights_test)\n",
    "significance_gbm = np.max(vamsasimov_gbm)\n",
    "\n",
    "\n",
    "print(\"Z:\",significance_gbm)\n",
    "\n",
    "\n"
   ]
  },
  {
   "cell_type": "markdown",
   "metadata": {
    "id": "I7HnCErpyd0p"
   },
   "source": [
    "## SKLearn GBDT"
   ]
  },
  {
   "cell_type": "code",
   "execution_count": 27,
   "metadata": {
    "id": "eriizDZkyd0p"
   },
   "outputs": [
    {
     "name": "stdout",
     "output_type": "stream",
     "text": [
      "Training time: 2.2837557792663574\n",
      "auc test: 0.8473429113208336\n",
      "auc train: 0.8558127934697892\n",
      "Z: 1.5097369723236957\n"
     ]
    }
   ],
   "source": [
    "from sklearn import ensemble\n",
    "\n",
    "skgb=ensemble.HistGradientBoostingClassifier()\n",
    "\n",
    "\n",
    "starting_time = time.time( )\n",
    "\n",
    "skgb.fit(X_train, y_train.values,sample_weight=weights_train)\n",
    "\n",
    "\n",
    "training_time = time.time( ) - starting_time\n",
    "print(\"Training time:\",training_time)\n",
    "\n",
    "y_pred_skgb = skgb.predict_proba(X_test)[:,1]\n",
    "y_pred_skgb = y_pred_skgb.ravel()\n",
    "y_pred_train_skgb = skgb.predict_proba(X_train)[:,1]\n",
    "auc_test_skgb = roc_auc_score(y_true=y_test, y_score=y_pred_skgb,sample_weight=weights_test)\n",
    "print(\"auc test:\",auc_test_skgb)\n",
    "print (\"auc train:\",roc_auc_score(y_true=y_train.values, y_score=y_pred_train_skgb,sample_weight=weights_train))\n",
    "\n",
    "#compute significance\n",
    "vamsasimov_skgb=significance_vscore(y_true=y_test, y_score=y_pred_skgb, sample_weight=weights_test)\n",
    "significance_skgb = np.max(vamsasimov_skgb)\n",
    "\n",
    "print(\"Z:\",significance_skgb)\n",
    "\n",
    "\n"
   ]
  },
  {
   "cell_type": "code",
   "execution_count": 28,
   "metadata": {
    "id": "3pSxtcTGyd0q"
   },
   "outputs": [
    {
     "name": "stdout",
     "output_type": "stream",
     "text": [
      "Best significance found are:\n",
      "XGBoost :  1.623242142166869\n",
      "LightGBM:  1.421062826327018\n",
      "sklearn:  1.5097369723236957\n",
      "\n",
      "Best auc test found are:\n",
      "XGBoost:  0.8670325891921841\n",
      "LightGBM:  0.8296102251691393\n",
      "sklearn:  0.8473429113208336\n"
     ]
    }
   ],
   "source": [
    "print('Best significance found are:')\n",
    "print('XGBoost : ', significance_xgb)\n",
    "print('LightGBM: ', significance_gbm)\n",
    "print('sklearn: ', significance_skgb)\n",
    "print ()\n",
    "\n",
    "print('Best auc test found are:')\n",
    "print('XGBoost: ', roc_auc_score(y_true=y_test.values, y_score=y_pred_xgb,sample_weight=weights_test))\n",
    "print('LightGBM: ', roc_auc_score(y_true=y_test.values, y_score=y_pred_gbm,sample_weight=weights_test))\n",
    "print('sklearn: ', roc_auc_score(y_true=y_test.values, y_score=y_pred_skgb,sample_weight=weights_test))"
   ]
  },
  {
   "cell_type": "markdown",
   "metadata": {
    "id": "T-LB9cbErlIb"
   },
   "source": [
    "# Some nice plots"
   ]
  },
  {
   "cell_type": "markdown",
   "metadata": {
    "id": "_nxVz32hKwqz"
   },
   "source": [
    "## load score plotting function"
   ]
  },
  {
   "cell_type": "code",
   "execution_count": 29,
   "metadata": {
    "id": "Ay8QTiKPKwqz"
   },
   "outputs": [],
   "source": [
    "# some utilities\n",
    "from math import sqrt\n",
    "from math import log\n",
    "\n",
    "# Plot score for signal and background, comparing training and testing\n",
    "def compare_train_test(y_pred_train, y_train, y_pred, y_test, high_low=(0,1),\n",
    "                       bins=30,xlabel=\"\", ylabel=\"Arbitrary units\", title=\"\",\n",
    "                       weights_train=np.array([]), weights_test=np.array([]),\n",
    "                       density=True):\n",
    "    if weights_train.size != 0:\n",
    "        weights_train_signal = weights_train[y_train == 1]\n",
    "        weights_train_background = weights_train[y_train == 0]\n",
    "    else:\n",
    "        weights_train_signal = None\n",
    "        weights_train_background = None\n",
    "    plt.hist(y_pred_train[y_train == 1],\n",
    "                 color='r', alpha=0.5, range=high_low, bins=bins,\n",
    "                 histtype='stepfilled', density=density,\n",
    "                 label='S (train)', weights=weights_train_signal) # alpha is transparancy\n",
    "    plt.hist(y_pred_train[y_train == 0],\n",
    "                 color='b', alpha=0.5, range=high_low, bins=bins,\n",
    "                 histtype='stepfilled', density=density,\n",
    "                 label='B (train)', weights=weights_train_background)\n",
    "\n",
    "    if weights_test.size != 0:\n",
    "        weights_test_signal = weights_test[y_test == 1]\n",
    "        weights_test_background = weights_test[y_test == 0]\n",
    "    else:\n",
    "        weights_test_signal = None\n",
    "        weights_test_background = None\n",
    "    hist, bins = np.histogram(y_pred[y_test == 1],\n",
    "                                  bins=bins, range=high_low, density=density, weights=weights_test_signal)\n",
    "    scale = len(y_pred[y_test == 1]) / sum(hist)\n",
    "    err = np.sqrt(hist * scale) / scale\n",
    "\n",
    "    center = (bins[:-1] + bins[1:]) / 2\n",
    "    plt.errorbar(center, hist, yerr=err, fmt='o', c='r', label='S (test)')\n",
    "\n",
    "    hist, bins = np.histogram(y_pred[y_test == 0],\n",
    "                                  bins=bins, range=high_low, density=density, weights=weights_test_background)\n",
    "    scale = len(y_pred[y_test == 0]) / sum(hist)\n",
    "    err = np.sqrt(hist * scale) / scale\n",
    "\n",
    "    center = (bins[:-1] + bins[1:]) / 2\n",
    "    plt.errorbar(center, hist, yerr=err, fmt='o', c='b', label='B (test)')\n",
    "    plt.title(title)\n",
    "    plt.xlabel(xlabel)\n",
    "    plt.ylabel(ylabel)\n",
    "    plt.legend(loc='best')\n",
    "\n",
    "\n"
   ]
  },
  {
   "cell_type": "code",
   "execution_count": 30,
   "metadata": {
    "id": "kEQ342s-rlIe"
   },
   "outputs": [
    {
     "data": {
      "image/png": "[encoded data removed]",
      "text/plain": [
       "<Figure size 648x432 with 1 Axes>"
      ]
     },
     "metadata": {
      "needs_background": "light"
     },
     "output_type": "display_data"
    },
    {
     "data": {
      "image/png": "[encoded data removed]",
      "text/plain": [
       "<Figure size 648x432 with 1 Axes>"
      ]
     },
     "metadata": {
      "needs_background": "light"
     },
     "output_type": "display_data"
    },
    {
     "data": {
      "image/png": "[encoded data removed]",
      "text/plain": [
       "<Figure size 648x432 with 1 Axes>"
      ]
     },
     "metadata": {
      "needs_background": "light"
     },
     "output_type": "display_data"
    }
   ],
   "source": [
    "compare_train_test(y_pred_train_xgb, y_train, y_pred_xgb, y_test,\n",
    "                   xlabel=\"XGboost score\", title=\"XGboost\",\n",
    "                   weights_train=weights_train.values, weights_test=weights_test.values)\n",
    "plt.savefig(\"Score_BDT_XGBoost_Hist.pdf\")\n",
    "plt.show()\n",
    "compare_train_test(y_pred_train_gbm, y_train, y_pred_gbm, y_test,\n",
    "                   xlabel=\"LightGBM score\", title=\"LightGBM\",\n",
    "                   weights_train=weights_train.values, weights_test=weights_test.values)\n",
    "plt.savefig(\"Score_BDT_LightGBM.pdf\")\n",
    "plt.show()\n",
    "compare_train_test(y_pred_train_skgb, y_train, y_pred_skgb, y_test,\n",
    "                   xlabel=\"sklearn score\", title=\"sklearn\",\n",
    "                   weights_train=weights_train.values, weights_test=weights_test.values)\n",
    "plt.savefig(\"Score_BDT_sklearn.pdf\")\n",
    "plt.show()"
   ]
  },
  {
   "cell_type": "markdown",
   "metadata": {
    "id": "yPv67MTLyd0s"
   },
   "source": [
    "## Plot without renormalising"
   ]
  },
  {
   "cell_type": "code",
   "execution_count": 31,
   "metadata": {
    "id": "visTZB8eyd0t"
   },
   "outputs": [
    {
     "data": {
      "image/png": "[encoded data removed]",
      "text/plain": [
       "<Figure size 648x432 with 1 Axes>"
      ]
     },
     "metadata": {
      "needs_background": "light"
     },
     "output_type": "display_data"
    }
   ],
   "source": [
    "compare_train_test(y_pred_train_xgb, y_train, y_pred_xgb, y_test,\n",
    "                   xlabel=\"XGboost score\", ylabel=\"Expected number of events\", title=\"XGboost\",\n",
    "                   weights_train=weights_train.values, weights_test=weights_test.values,\n",
    "                   density=False)\n",
    "plt.show()\n",
    "\n"
   ]
  },
  {
   "cell_type": "markdown",
   "metadata": {
    "id": "zxGjEcej8PIi"
   },
   "source": [
    "## ROC curve"
   ]
  },
  {
   "cell_type": "code",
   "execution_count": 32,
   "metadata": {
    "id": "tUKIWu2orlIg"
   },
   "outputs": [
    {
     "data": {
      "image/png": "[encoded data removed]",
      "text/plain": [
       "<Figure size 648x432 with 1 Axes>"
      ]
     },
     "metadata": {
      "needs_background": "light"
     },
     "output_type": "display_data"
    }
   ],
   "source": [
    "from sklearn.metrics import roc_curve\n",
    "lw = 2\n",
    "\n",
    "fpr_xgb,tpr_xgb,_ = roc_curve(y_true=y_test, y_score=y_pred_xgb,sample_weight=weights_test.values)\n",
    "fpr_gbm,tpr_gbm,_ = roc_curve(y_true=y_test, y_score=y_pred_gbm,sample_weight=weights_test.values)\n",
    "fpr_skgb,tpr_skgb,_ = roc_curve(y_true=y_test, y_score=y_pred_skgb,sample_weight=weights_test.values)\n",
    "\n",
    "\n",
    "plt.plot(fpr_xgb, tpr_xgb, color='darkgreen',lw=lw, label='XGBoost (AUC  = {:.3f})'.format(auc_test_xgb))\n",
    "plt.plot(fpr_skgb, tpr_skgb, color='darkblue',lw=lw, label='sklearn (AUC  = {:.3f})'.format(auc_test_skgb))\n",
    "plt.plot(fpr_gbm, tpr_gbm, color='darkorange',lw=lw, label='LightGBM (AUC  = {:.3f})'.format(auc_test_gbm))\n",
    "\n",
    "\n",
    "plt.plot([0, 1], [0, 1], color='navy', lw=lw, linestyle='--')\n",
    "plt.xlim([0.0, 1.0])\n",
    "plt.ylim([0.0, 1.05])\n",
    "plt.xlabel('Background Efficiency')\n",
    "plt.ylabel('Signal Efficiency')\n",
    "plt.title('ROC curve')\n",
    "plt.legend(loc=\"lower right\")\n",
    "plt.savefig(\"ROC_comparing.pdf\")\n",
    "plt.show() # blue line = random classification -> maximize true positive rate while miniize false positive rate"
   ]
  },
  {
   "cell_type": "markdown",
   "metadata": {
    "id": "ziQzdapn8Tnk"
   },
   "source": [
    "## Significance curve"
   ]
  },
  {
   "cell_type": "code",
   "execution_count": 33,
   "metadata": {
    "id": "CGF3k0KJrlIi"
   },
   "outputs": [
    {
     "data": {
      "image/png": "[encoded data removed]",
      "text/plain": [
       "<Figure size 648x432 with 1 Axes>"
      ]
     },
     "metadata": {
      "needs_background": "light"
     },
     "output_type": "display_data"
    }
   ],
   "source": [
    "x = np.linspace(0, 1, num=len(vamsasimov_xgb))\n",
    "vmsasimovs = np.column_stack((vamsasimov_xgb, vamsasimov_skgb, vamsasimov_gbm))\n",
    "labels = [\n",
    "    'XGBoost (Z = {:.2f})'.format(significance_xgb),\n",
    "    'sklearn (Z = {:.2f})'.format(significance_skgb),\n",
    "    'LightGBM (Z = {:.2f})'.format(significance_gbm)\n",
    "]\n",
    "\n",
    "plt.plot(x, vmsasimovs,label=labels)\n",
    "\n",
    "\n",
    "plt.title(\"BDT Significance\")\n",
    "plt.xlabel(\"Threshold\")\n",
    "plt.ylabel(\"Significance\")\n",
    "plt.legend()\n",
    "plt.savefig(\"Significance_comparing.pdf\")\n",
    "plt.show()"
   ]
  },
  {
   "cell_type": "markdown",
   "metadata": {
    "id": "z1mXF5iTNZMW"
   },
   "source": [
    "# More advanced"
   ]
  },
  {
   "cell_type": "markdown",
   "metadata": {
    "id": "lhsyS1NuNZMW"
   },
   "source": [
    "# Hyper Parameter Optimisation\n",
    "Can be done by hand or with [random search](https://scikit-learn.org/stable/modules/generated/sklearn.model_selection.RandomizedSearchCV.html) or [grid search](https://scikit-learn.org/stable/modules/generated/sklearn.model_selection.GridSearchCV.html) ."
   ]
  },
  {
   "cell_type": "code",
   "execution_count": 34,
   "metadata": {
    "id": "BapVDsX1NZMW"
   },
   "outputs": [
    {
     "name": "stdout",
     "output_type": "stream",
     "text": [
      "auc test: 0.8670325891921841\n",
      "significance test: 1.623242142166869\n",
      "Best parameters :  {'learning_rate': 0.36954584046859273, 'max_depth': 6, 'n_estimators': 194}\n",
      "Best score (on train dataset CV) :  0.8684309530722865\n",
      "... corresponding score on test dataset AUC:  0.8702129794941911\n",
      "... corresponding score on test dataset signif:  1.6423501964335079\n",
      "{'learning_rate': 0.36954584046859273, 'max_depth': 6, 'n_estimators': 194}\n",
      "auc test: 0.8702129794941911\n",
      "significance test: 1.6423501964335079\n"
     ]
    },
    {
     "data": {
      "text/html": [
       "<div>\n",
       "<style scoped>\n",
       "    .dataframe tbody tr th:only-of-type {\n",
       "        vertical-align: middle;\n",
       "    }\n",
       "\n",
       "    .dataframe tbody tr th {\n",
       "        vertical-align: top;\n",
       "    }\n",
       "\n",
       "    .dataframe thead th {\n",
       "        text-align: right;\n",
       "    }\n",
       "</style>\n",
       "<table border=\"1\" class=\"dataframe\">\n",
       "  <thead>\n",
       "    <tr style=\"text-align: right;\">\n",
       "      <th></th>\n",
       "      <th>mean_fit_time</th>\n",
       "      <th>std_fit_time</th>\n",
       "      <th>mean_score_time</th>\n",
       "      <th>std_score_time</th>\n",
       "      <th>param_learning_rate</th>\n",
       "      <th>param_max_depth</th>\n",
       "      <th>param_n_estimators</th>\n",
       "      <th>params</th>\n",
       "      <th>split0_test_score</th>\n",
       "      <th>split1_test_score</th>\n",
       "      <th>mean_test_score</th>\n",
       "      <th>std_test_score</th>\n",
       "      <th>rank_test_score</th>\n",
       "    </tr>\n",
       "  </thead>\n",
       "  <tbody>\n",
       "    <tr>\n",
       "      <th>0</th>\n",
       "      <td>1.289557</td>\n",
       "      <td>0.153465</td>\n",
       "      <td>0.148515</td>\n",
       "      <td>0.000911</td>\n",
       "      <td>0.58007</td>\n",
       "      <td>5</td>\n",
       "      <td>197</td>\n",
       "      <td>{'learning_rate': 0.5800700939283183, 'max_dep...</td>\n",
       "      <td>0.867150</td>\n",
       "      <td>0.867301</td>\n",
       "      <td>0.867225</td>\n",
       "      <td>0.000076</td>\n",
       "      <td>5</td>\n",
       "    </tr>\n",
       "    <tr>\n",
       "      <th>1</th>\n",
       "      <td>0.731385</td>\n",
       "      <td>0.276758</td>\n",
       "      <td>0.120551</td>\n",
       "      <td>0.002583</td>\n",
       "      <td>0.257252</td>\n",
       "      <td>5</td>\n",
       "      <td>149</td>\n",
       "      <td>{'learning_rate': 0.25725162256170564, 'max_de...</td>\n",
       "      <td>0.864253</td>\n",
       "      <td>0.864637</td>\n",
       "      <td>0.864445</td>\n",
       "      <td>0.000192</td>\n",
       "      <td>6</td>\n",
       "    </tr>\n",
       "    <tr>\n",
       "      <th>2</th>\n",
       "      <td>1.233158</td>\n",
       "      <td>0.502506</td>\n",
       "      <td>0.198861</td>\n",
       "      <td>0.006142</td>\n",
       "      <td>0.508853</td>\n",
       "      <td>6</td>\n",
       "      <td>216</td>\n",
       "      <td>{'learning_rate': 0.5088526741054988, 'max_dep...</td>\n",
       "      <td>0.867882</td>\n",
       "      <td>0.867793</td>\n",
       "      <td>0.867837</td>\n",
       "      <td>0.000044</td>\n",
       "      <td>3</td>\n",
       "    </tr>\n",
       "    <tr>\n",
       "      <th>3</th>\n",
       "      <td>0.557169</td>\n",
       "      <td>0.258998</td>\n",
       "      <td>0.084219</td>\n",
       "      <td>0.000708</td>\n",
       "      <td>0.19193</td>\n",
       "      <td>4</td>\n",
       "      <td>89</td>\n",
       "      <td>{'learning_rate': 0.19192971504332948, 'max_de...</td>\n",
       "      <td>0.834849</td>\n",
       "      <td>0.839618</td>\n",
       "      <td>0.837233</td>\n",
       "      <td>0.002385</td>\n",
       "      <td>10</td>\n",
       "    </tr>\n",
       "    <tr>\n",
       "      <th>4</th>\n",
       "      <td>1.340878</td>\n",
       "      <td>0.037194</td>\n",
       "      <td>0.107682</td>\n",
       "      <td>0.003465</td>\n",
       "      <td>0.321772</td>\n",
       "      <td>3</td>\n",
       "      <td>279</td>\n",
       "      <td>{'learning_rate': 0.3217724854256452, 'max_dep...</td>\n",
       "      <td>0.859280</td>\n",
       "      <td>0.858456</td>\n",
       "      <td>0.858868</td>\n",
       "      <td>0.000412</td>\n",
       "      <td>8</td>\n",
       "    </tr>\n",
       "    <tr>\n",
       "      <th>5</th>\n",
       "      <td>1.212829</td>\n",
       "      <td>0.002414</td>\n",
       "      <td>0.102189</td>\n",
       "      <td>0.002904</td>\n",
       "      <td>0.223983</td>\n",
       "      <td>3</td>\n",
       "      <td>269</td>\n",
       "      <td>{'learning_rate': 0.22398282971859698, 'max_de...</td>\n",
       "      <td>0.853852</td>\n",
       "      <td>0.852695</td>\n",
       "      <td>0.853273</td>\n",
       "      <td>0.000578</td>\n",
       "      <td>9</td>\n",
       "    </tr>\n",
       "    <tr>\n",
       "      <th>6</th>\n",
       "      <td>1.581543</td>\n",
       "      <td>0.125866</td>\n",
       "      <td>0.162153</td>\n",
       "      <td>0.007208</td>\n",
       "      <td>0.451461</td>\n",
       "      <td>5</td>\n",
       "      <td>266</td>\n",
       "      <td>{'learning_rate': 0.45146139171742394, 'max_de...</td>\n",
       "      <td>0.867873</td>\n",
       "      <td>0.868062</td>\n",
       "      <td>0.867968</td>\n",
       "      <td>0.000094</td>\n",
       "      <td>2</td>\n",
       "    </tr>\n",
       "    <tr>\n",
       "      <th>7</th>\n",
       "      <td>0.705925</td>\n",
       "      <td>0.011822</td>\n",
       "      <td>0.123594</td>\n",
       "      <td>0.000449</td>\n",
       "      <td>0.20905</td>\n",
       "      <td>8</td>\n",
       "      <td>69</td>\n",
       "      <td>{'learning_rate': 0.2090501175010532, 'max_dep...</td>\n",
       "      <td>0.861689</td>\n",
       "      <td>0.858409</td>\n",
       "      <td>0.860049</td>\n",
       "      <td>0.001640</td>\n",
       "      <td>7</td>\n",
       "    </tr>\n",
       "    <tr>\n",
       "      <th>8</th>\n",
       "      <td>1.345738</td>\n",
       "      <td>0.045550</td>\n",
       "      <td>0.160626</td>\n",
       "      <td>0.000563</td>\n",
       "      <td>0.369546</td>\n",
       "      <td>6</td>\n",
       "      <td>194</td>\n",
       "      <td>{'learning_rate': 0.36954584046859273, 'max_de...</td>\n",
       "      <td>0.868400</td>\n",
       "      <td>0.868462</td>\n",
       "      <td>0.868431</td>\n",
       "      <td>0.000031</td>\n",
       "      <td>1</td>\n",
       "    </tr>\n",
       "    <tr>\n",
       "      <th>9</th>\n",
       "      <td>1.974418</td>\n",
       "      <td>0.409850</td>\n",
       "      <td>0.265457</td>\n",
       "      <td>0.004411</td>\n",
       "      <td>0.513864</td>\n",
       "      <td>7</td>\n",
       "      <td>289</td>\n",
       "      <td>{'learning_rate': 0.5138636526303129, 'max_dep...</td>\n",
       "      <td>0.867242</td>\n",
       "      <td>0.867225</td>\n",
       "      <td>0.867233</td>\n",
       "      <td>0.000009</td>\n",
       "      <td>4</td>\n",
       "    </tr>\n",
       "  </tbody>\n",
       "</table>\n",
       "</div>"
      ],
      "text/plain": [
       "   mean_fit_time  std_fit_time  mean_score_time  std_score_time  \\\n",
       "0       1.289557      0.153465         0.148515        0.000911   \n",
       "1       0.731385      0.276758         0.120551        0.002583   \n",
       "2       1.233158      0.502506         0.198861        0.006142   \n",
       "3       0.557169      0.258998         0.084219        0.000708   \n",
       "4       1.340878      0.037194         0.107682        0.003465   \n",
       "5       1.212829      0.002414         0.102189        0.002904   \n",
       "6       1.581543      0.125866         0.162153        0.007208   \n",
       "7       0.705925      0.011822         0.123594        0.000449   \n",
       "8       1.345738      0.045550         0.160626        0.000563   \n",
       "9       1.974418      0.409850         0.265457        0.004411   \n",
       "\n",
       "  param_learning_rate param_max_depth param_n_estimators  \\\n",
       "0             0.58007               5                197   \n",
       "1            0.257252               5                149   \n",
       "2            0.508853               6                216   \n",
       "3             0.19193               4                 89   \n",
       "4            0.321772               3                279   \n",
       "5            0.223983               3                269   \n",
       "6            0.451461               5                266   \n",
       "7             0.20905               8                 69   \n",
       "8            0.369546               6                194   \n",
       "9            0.513864               7                289   \n",
       "\n",
       "                                              params  split0_test_score  \\\n",
       "0  {'learning_rate': 0.5800700939283183, 'max_dep...           0.867150   \n",
       "1  {'learning_rate': 0.25725162256170564, 'max_de...           0.864253   \n",
       "2  {'learning_rate': 0.5088526741054988, 'max_dep...           0.867882   \n",
       "3  {'learning_rate': 0.19192971504332948, 'max_de...           0.834849   \n",
       "4  {'learning_rate': 0.3217724854256452, 'max_dep...           0.859280   \n",
       "5  {'learning_rate': 0.22398282971859698, 'max_de...           0.853852   \n",
       "6  {'learning_rate': 0.45146139171742394, 'max_de...           0.867873   \n",
       "7  {'learning_rate': 0.2090501175010532, 'max_dep...           0.861689   \n",
       "8  {'learning_rate': 0.36954584046859273, 'max_de...           0.868400   \n",
       "9  {'learning_rate': 0.5138636526303129, 'max_dep...           0.867242   \n",
       "\n",
       "   split1_test_score  mean_test_score  std_test_score  rank_test_score  \n",
       "0           0.867301         0.867225        0.000076                5  \n",
       "1           0.864637         0.864445        0.000192                6  \n",
       "2           0.867793         0.867837        0.000044                3  \n",
       "3           0.839618         0.837233        0.002385               10  \n",
       "4           0.858456         0.858868        0.000412                8  \n",
       "5           0.852695         0.853273        0.000578                9  \n",
       "6           0.868062         0.867968        0.000094                2  \n",
       "7           0.858409         0.860049        0.001640                7  \n",
       "8           0.868462         0.868431        0.000031                1  \n",
       "9           0.867225         0.867233        0.000009                4  "
      ]
     },
     "metadata": {},
     "output_type": "display_data"
    },
    {
     "data": {
      "image/png": "[encoded data removed]",
      "text/plain": [
       "<Figure size 648x432 with 1 Axes>"
      ]
     },
     "metadata": {
      "needs_background": "light"
     },
     "output_type": "display_data"
    },
    {
     "data": {
      "image/png": "[encoded data removed]",
      "text/plain": [
       "<Figure size 648x432 with 1 Axes>"
      ]
     },
     "metadata": {
      "needs_background": "light"
     },
     "output_type": "display_data"
    },
    {
     "data": {
      "image/png": "[encoded data removed]",
      "text/plain": [
       "<Figure size 648x432 with 1 Axes>"
      ]
     },
     "metadata": {
      "needs_background": "light"
     },
     "output_type": "display_data"
    }
   ],
   "source": [
    "#FIXME : weights are not passed to scoring function\n",
    "#recompute reference\n",
    "# creates the classifier\n",
    "xgb = XGBClassifier()\n",
    "# does the real work\n",
    "xgb.fit(X_train, y_train.values, sample_weight=weights_train) # note that XGB 1.3.X and higher requires positive weight\n",
    "y_pred_xgb=xgb.predict_proba(X_test)[:,1]\n",
    "auc_test_xgb = roc_auc_score(y_true=y_test, y_score=y_pred_xgb,sample_weight=weights_test)\n",
    "print(\"auc test:\",auc_test_xgb)\n",
    "amsasimov_xgb=significance_score(y_true=y_test, y_score=y_pred_xgb, sample_weight=weights_test)\n",
    "print(\"significance test:\",amsasimov_xgb)\n",
    "\n",
    "\n",
    "#RandomSearchCV for advanced HPO\n",
    "import scipy.stats as stats\n",
    "if fullrun or True:\n",
    "    np.random.seed(31416)\n",
    "    from sklearn.model_selection import RandomizedSearchCV\n",
    "\n",
    "    # specify parameters and distributions to sample from\n",
    "    param_dist_XGB = {'max_depth': stats.randint(3, 9), # default 6\n",
    "                      'n_estimators': stats.randint(30, 300), #default 100\n",
    "                      'learning_rate': stats.uniform(0.1, 0.5)} #def 0.3\n",
    "\n",
    "    # default CV is 5 fold, reduce to 2 for speed concern\n",
    "    gsearch = RandomizedSearchCV(estimator = XGBClassifier(),\n",
    "                        param_distributions = param_dist_XGB,\n",
    "                        scoring='roc_auc',n_iter=10,cv=2)\n",
    "#FIXME                        scoring=fsignificance_score,n_iter=10,cv=2)\n",
    "# it looks like the weights are not passed to scoringRandomizedSearchCV\n",
    "    gsearch.fit(X_train,y_train, sample_weight=weights_train)\n",
    "\n",
    "    print (\"Best parameters : \",gsearch.best_params_)\n",
    "    print (\"Best score (on train dataset CV) : \",gsearch.best_score_)\n",
    "\n",
    "\n",
    "    y_pred_gs = gsearch.predict_proba(X_test)[:,1]\n",
    "    print(\"... corresponding score on test dataset AUC: \",roc_auc_score(y_true=y_test, y_score=y_pred_gs, sample_weight=weights_test))\n",
    "    print(\"... corresponding score on test dataset signif: \",significance_score(y_true=y_test, y_score=y_pred_gs, sample_weight=weights_test))\n",
    " \n",
    "\n",
    "    # recompute reference\n",
    "    # creates the classifier\n",
    "    print(gsearch.best_params_)\n",
    "    xgb = XGBClassifier(**gsearch.best_params_)\n",
    "    xgb.fit(X_train, y_train.values, sample_weight=weights_train) \n",
    "    y_pred_xgb=xgb.predict_proba(X_test)[:,1]\n",
    "    auc_test_xgb = roc_auc_score(y_true=y_test, y_score=y_pred_xgb,sample_weight=weights_test)\n",
    "    print(\"auc test:\",auc_test_xgb)\n",
    "    amsasimov_xgb=significance_score(y_true=y_test, y_score=y_pred_xgb, sample_weight=weights_test)\n",
    "    print(\"significance test:\",amsasimov_xgb)\n",
    "\n",
    "\n",
    "\n",
    "    dfsearch=pd.DataFrame.from_dict(gsearch.cv_results_)\n",
    "    display(dfsearch)\n",
    "\n",
    "    dfsearch.plot.scatter(\"param_n_estimators\",\"mean_test_score\")\n",
    "    dfsearch.plot.scatter(\"param_max_depth\",\"mean_test_score\")\n",
    "    dfsearch.plot.scatter(\"param_learning_rate\",\"mean_test_score\")\n"
   ]
  },
  {
   "cell_type": "markdown",
   "metadata": {
    "id": "7ZtnPtx1NZMW"
   },
   "source": [
    "# Learning Curve\n",
    "This could be done with sklearn  [learning_curve](https://scikit-learn.org/stable/modules/generated/sklearn.model_selection.learning_curve.html).\n",
    "However (last time I checked) : it does not handle weights, it does not allow to control testing dataset size\n",
    "\n",
    "Exercise left to the reader : watch impact of complexity of the model on the learning curve\n",
    "\n",
    "Exercise left to the reader : look at significance rather than auc\n",
    "\n",
    "Exercise left to the reader : look separately at performance versus number of signal event and number of background events.\n",
    "\n"
   ]
  },
  {
   "cell_type": "code",
   "execution_count": 35,
   "metadata": {
    "id": "mcuHrmwTNZMX"
   },
   "outputs": [
    {
     "name": "stdout",
     "output_type": "stream",
     "text": [
      "training with  4330  events\n",
      "training with  21650  events\n",
      "training with  43301  events\n",
      "training with  86603  events\n",
      "training with  216508  events\n",
      "training with  324762  events\n",
      "training with  433017  events\n"
     ]
    },
    {
     "data": {
      "text/html": [
       "<div>\n",
       "<style scoped>\n",
       "    .dataframe tbody tr th:only-of-type {\n",
       "        vertical-align: middle;\n",
       "    }\n",
       "\n",
       "    .dataframe tbody tr th {\n",
       "        vertical-align: top;\n",
       "    }\n",
       "\n",
       "    .dataframe thead th {\n",
       "        text-align: right;\n",
       "    }\n",
       "</style>\n",
       "<table border=\"1\" class=\"dataframe\">\n",
       "  <thead>\n",
       "    <tr style=\"text-align: right;\">\n",
       "      <th></th>\n",
       "      <th>Ntraining</th>\n",
       "      <th>test_auc</th>\n",
       "      <th>train_auc</th>\n",
       "      <th>time</th>\n",
       "    </tr>\n",
       "  </thead>\n",
       "  <tbody>\n",
       "    <tr>\n",
       "      <th>0</th>\n",
       "      <td>4330</td>\n",
       "      <td>0.740653</td>\n",
       "      <td>0.755818</td>\n",
       "      <td>0.013209</td>\n",
       "    </tr>\n",
       "    <tr>\n",
       "      <th>1</th>\n",
       "      <td>21650</td>\n",
       "      <td>0.773078</td>\n",
       "      <td>0.785792</td>\n",
       "      <td>0.018813</td>\n",
       "    </tr>\n",
       "    <tr>\n",
       "      <th>2</th>\n",
       "      <td>43301</td>\n",
       "      <td>0.780674</td>\n",
       "      <td>0.786835</td>\n",
       "      <td>0.036434</td>\n",
       "    </tr>\n",
       "    <tr>\n",
       "      <th>3</th>\n",
       "      <td>86603</td>\n",
       "      <td>0.786102</td>\n",
       "      <td>0.792039</td>\n",
       "      <td>0.090286</td>\n",
       "    </tr>\n",
       "    <tr>\n",
       "      <th>4</th>\n",
       "      <td>216508</td>\n",
       "      <td>0.783891</td>\n",
       "      <td>0.787924</td>\n",
       "      <td>0.163558</td>\n",
       "    </tr>\n",
       "    <tr>\n",
       "      <th>5</th>\n",
       "      <td>324762</td>\n",
       "      <td>0.785136</td>\n",
       "      <td>0.788898</td>\n",
       "      <td>0.294236</td>\n",
       "    </tr>\n",
       "    <tr>\n",
       "      <th>6</th>\n",
       "      <td>433017</td>\n",
       "      <td>0.785052</td>\n",
       "      <td>0.787878</td>\n",
       "      <td>0.209569</td>\n",
       "    </tr>\n",
       "  </tbody>\n",
       "</table>\n",
       "</div>"
      ],
      "text/plain": [
       "   Ntraining  test_auc  train_auc      time\n",
       "0       4330  0.740653   0.755818  0.013209\n",
       "1      21650  0.773078   0.785792  0.018813\n",
       "2      43301  0.780674   0.786835  0.036434\n",
       "3      86603  0.786102   0.792039  0.090286\n",
       "4     216508  0.783891   0.787924  0.163558\n",
       "5     324762  0.785136   0.788898  0.294236\n",
       "6     433017  0.785052   0.787878  0.209569"
      ]
     },
     "metadata": {},
     "output_type": "display_data"
    },
    {
     "data": {
      "image/png": "[encoded data removed]",
      "text/plain": [
       "<Figure size 648x432 with 1 Axes>"
      ]
     },
     "metadata": {
      "needs_background": "light"
     },
     "output_type": "display_data"
    },
    {
     "data": {
      "image/png": "[encoded data removed]",
      "text/plain": [
       "<Figure size 648x432 with 1 Axes>"
      ]
     },
     "metadata": {
      "needs_background": "light"
     },
     "output_type": "display_data"
    }
   ],
   "source": [
    "#example with sklearn (but without weights and with no fixed test dataset)\n",
    "#from sklearn.model_selection import learning_curve\n",
    "#train_sizes,train_scores,test_scores=learning_curve(\n",
    "#     XGBClassifier(),\n",
    "#     X_train,y_train,\n",
    "#     train_sizes=[0.01,0.05,0.1,0.2,0.5,0.75,1],\n",
    "#     scoring='roc_auc',cv=5)\n",
    "\n",
    "if fullrun or False :\n",
    "    train_sizes=[0.01,0.05,0.1,0.2,0.5,0.75,1]\n",
    "    ntrains=[]\n",
    "    test_aucs=[]\n",
    "    train_aucs=[]\n",
    "    times=[]\n",
    "\n",
    "    #xgb = XGBClassifier()\n",
    "    xgb = XGBClassifier(n_estimators=10) # simpler GBDT, for illustration\n",
    "\n",
    "    for train_size in train_sizes:\n",
    "      ntrain=int(len(X_train)*train_size)\n",
    "      print(\"training with \",ntrain,\" events\")\n",
    "      ntrains+=[ntrain]\n",
    "      starting_time = time.time()\n",
    "\n",
    "      # train using the first ntrain event of the training dataset\n",
    "      xgb.fit(X_train[:ntrain,], y_train[:ntrain], sample_weight=weights_train[:ntrain])\n",
    "      training_time = time.time( ) - starting_time\n",
    "      times+=[training_time]\n",
    "\n",
    "      # score on test dataset (always the same)\n",
    "      y_pred_xgb=xgb.predict_proba(X_test)[:,1]\n",
    "      auc_test_xgb = roc_auc_score(y_true=y_test, y_score=y_pred_xgb,sample_weight=weights_test)\n",
    "      test_aucs+=[auc_test_xgb]\n",
    "\n",
    "      # score on the train dataset\n",
    "      y_train_xgb=xgb.predict_proba(X_train[:ntrain])[:,1]\n",
    "      auc_train_xgb = roc_auc_score(y_true=y_train[:ntrain], y_score=y_train_xgb,sample_weight=weights_train[:ntrain])\n",
    "      train_aucs+=[auc_train_xgb]\n",
    "\n",
    "    dflearning=pd.DataFrame({\"Ntraining\":ntrains,\n",
    "                             \"test_auc\":test_aucs,\n",
    "                             \"train_auc\":train_aucs,\n",
    "                             \"time\":times})\n",
    "    display(dflearning)\n",
    "\n",
    "    dflearning.plot.scatter(\"Ntraining\",\"test_auc\")\n",
    "    # focus on the last point\n",
    "    dflearning[4:].plot.scatter(\"Ntraining\",\"test_auc\")"
   ]
  },
  {
   "cell_type": "markdown",
   "metadata": {
    "id": "cJI9aimTyd0v"
   },
   "source": [
    "# Feature importance\n",
    "Feature importance allows to display the importance of each feature without rerunnning the training. It is obtained from internal algorithm quantities, like number of time a feature is used to definea leaf. Magnitude is arbitrary. It can be used as a not very reliable indication of which feature is the most discriminant."
   ]
  },
  {
   "cell_type": "code",
   "execution_count": 36,
   "metadata": {
    "id": "QN2h9y5JrlIm"
   },
   "outputs": [
    {
     "data": {
      "image/png": "[encoded data removed]",
      "text/plain": [
       "<Figure size 648x432 with 1 Axes>"
      ]
     },
     "metadata": {
      "needs_background": "light"
     },
     "output_type": "display_data"
    },
    {
     "data": {
      "image/png": "[encoded data removed]",
      "text/plain": [
       "<Figure size 648x432 with 1 Axes>"
      ]
     },
     "metadata": {
      "needs_background": "light"
     },
     "output_type": "display_data"
    }
   ],
   "source": [
    "plt.bar(data.columns.values, xgb.feature_importances_)\n",
    "plt.xticks(rotation=90)\n",
    "plt.title(\"Feature importances XGBoost Hist\")\n",
    "#plt.savefig(new_dir + \"/VarImp_BDT_XGBoost_Hist.pdf\",bbox_inches='tight')\n",
    "plt.show()\n",
    "plt.bar(data.columns.values, gbm.feature_importances_)\n",
    "plt.xticks(rotation=90)\n",
    "plt.title(\"Feature importances LightGBM\")\n",
    "#plt.savefig(new_dir + \"/VarImp_BDT_LightGBM.pdf\",bbox_inches='tight')\n",
    "plt.show()\n"
   ]
  },
  {
   "cell_type": "markdown",
   "metadata": {
    "id": "i7WxH3bDrlIp"
   },
   "source": [
    "# Permutation importance"
   ]
  },
  {
   "cell_type": "markdown",
   "metadata": {
    "id": "55ZOBmxxyd0w"
   },
   "source": [
    "A better way to show the importance of each feature is Permutation Importance, where each feature in turn is replaced by an instance of an other event (effectively switching it off by randomising).\n",
    "In particular it allows to :\n",
    "   * display directly the loss in whatever criteria (ROC auc, asimov significance) when the feature is switched off\n",
    "   * display the feature importance for a specific subset (for example the most signal like)\n",
    "   * it can even display which feature has the larges impact on systematics\n",
    "\n",
    "\n",
    "However, report can be misleading in case of highly correlated variables.\n",
    "\n",
    "Exercise left to the reader : define a custom metric ( check sklearn.metrics.make_scorer ) for significance\n",
    "   \n"
   ]
  },
  {
   "cell_type": "code",
   "execution_count": 37,
   "metadata": {
    "id": "oVCKajODNZMX"
   },
   "outputs": [
    {
     "data": {
      "image/png": "[encoded data removed]",
      "text/plain": [
       "<Figure size 648x432 with 1 Axes>"
      ]
     },
     "metadata": {
      "needs_background": "light"
     },
     "output_type": "display_data"
    }
   ],
   "source": [
    "if fullrun or False:\n",
    "    xgb = XGBClassifier()\n",
    "    xgb.fit(X_train, y_train.values, sample_weight=weights_train) # note that XGB 1.3.X and higher requires positive weight\n",
    "\n",
    "    from sklearn.inspection import permutation_importance\n",
    "    #WARNING interesting feature in permutation_importance, need to ravel label and test vectors\n",
    "    r = permutation_importance(xgb, X_test.copy(), y_test.ravel(),sample_weight=weights_test.ravel(),\n",
    "                           scoring='roc_auc',n_repeats=1,n_jobs=-1,\n",
    "                            random_state=0)\n",
    "    plt.bar(data.columns,r.importances.mean(axis=1).T,)\n",
    "\n",
    "    plt.xlabel('features')\n",
    "    plt.ylabel('impact on auc')\n",
    "    plt.title('Permutation Importance XGBoost')\n",
    "\n",
    "    plt.show()"
   ]
  },
  {
   "cell_type": "markdown",
   "metadata": {
    "id": "BiGDmMS-yd0x"
   },
   "source": [
    "##  Model serialisation\n",
    "It is useful to be able to save a model in order to apply it without retraining. There are many ways to do it. One is to save the whole python object with joblib (beware this is not safe if the software evolves). Another is to used dedicated serialisation like the one proposed by xgboost.\n",
    "\n",
    "Note that the full model includes StandardScorer which is not serialised here.\n",
    "\n",
    "Exercise left to the reader. Use Pipeline to define the full model and serialise it.\n"
   ]
  },
  {
   "cell_type": "code",
   "execution_count": 38,
   "metadata": {
    "id": "Nlj3NPpkyd0y"
   },
   "outputs": [
    {
     "name": "stdout",
     "output_type": "stream",
     "text": [
      "will print xgb performance directly after fit, after serialising with xgb api, after serialising with joblib. Should be identical\n",
      "myxgb score 0.8670325891921841\n",
      "myxgb reloaded from model 0.8670325891921841\n",
      "myxgb reloaded from object 0.8670325891921841\n"
     ]
    }
   ],
   "source": [
    "#WARNING : StandardScaler has not been saved, it should be for the complete model to be saved\n",
    "if fullrun or False:\n",
    "    print( \"will print xgb performance directly after fit, after serialising with xgb api, after serialising with joblib. Should be identical\")\n",
    "    import joblib\n",
    "    myxgb = XGBClassifier()\n",
    "    myxgb.fit(X_train, y_train, sample_weight=weights_train)\n",
    "\n",
    "    auc_test_xgb = roc_auc_score(y_true=y_test, y_score=myxgb.predict_proba(X_test)[:,1],sample_weight=weights_test)\n",
    "    print (\"myxgb score\",auc_test_xgb)\n",
    "\n",
    "    # save model with xgb api\n",
    "    myxgb.save_model(\"XGBoost.json\")\n",
    "\n",
    "    # save python object\n",
    "    joblib.dump(myxgb, \"myxgb.dat\")\n",
    "\n",
    "\n",
    "    del myxgb # delete xgb object, just to be sure\n",
    "\n",
    "    # reload model from XGB API\n",
    "    myxgb_reloaded_from_model =XGBClassifier()\n",
    "    myxgb_reloaded_from_model.load_model(\"XGBoost.json\")\n",
    "    print (\"myxgb reloaded from model\",\n",
    "           roc_auc_score(y_true=y_test,\n",
    "                         y_score=myxgb_reloaded_from_model.predict_proba(X_test)[:,1],sample_weight=weights_test)\n",
    "          )\n",
    "\n",
    "\n",
    "    # reload object from joblib\n",
    "    myxgb_reloaded_from_joblib=joblib.load(\"myxgb.dat\")\n",
    "    print (\"myxgb reloaded from object\",\n",
    "           roc_auc_score(y_true=y_test,\n",
    "                         y_score=myxgb_reloaded_from_joblib.predict_proba(X_test)[:,1],sample_weight=weights_test)\n",
    "          )\n",
    "    # dump json file\n",
    "    #!python -m json.tool XGBoost.json\n",
    "\n",
    "\n",
    "\n",
    "\n",
    "\n"
   ]
  }
 ],
 "metadata": {
  "colab": {
   "include_colab_link": true,
   "name": "HEPML_HandsOn_BDT.ipynb",
   "provenance": []
  },
  "kernelspec": {
   "display_name": "Python 3 (ipykernel)",
   "language": "python",
   "name": "python3"
  },
  "language_info": {
   "codemirror_mode": {
    "name": "ipython",
    "version": 3
   },
   "file_extension": ".py",
   "mimetype": "text/x-python",
   "name": "python",
   "nbconvert_exporter": "python",
   "pygments_lexer": "ipython3",
   "version": "3.9.12"
  }
 },
 "nbformat": 4,
 "nbformat_minor": 1
}
